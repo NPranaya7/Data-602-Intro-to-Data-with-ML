{
  "nbformat": 4,
  "nbformat_minor": 0,
  "metadata": {
    "colab": {
      "name": "DATA 602 KNN Models.ipynb",
      "provenance": [],
      "collapsed_sections": []
    },
    "kernelspec": {
      "name": "python3",
      "display_name": "Python 3"
    }
  },
  "cells": [
    {
      "cell_type": "markdown",
      "metadata": {
        "id": "sV7XQ4BEQncY"
      },
      "source": [
        "KNN Models"
      ]
    },
    {
      "cell_type": "code",
      "metadata": {
        "id": "hEE6mHA-PcmC",
        "outputId": "354b2ff9-fa79-455a-b5f6-07037fd7be92",
        "colab": {
          "base_uri": "https://localhost:8080/",
          "height": 295
        }
      },
      "source": [
        "# Selecting K in KNN ++++ The Elbow or Scree Plot Method ++++\n",
        "import numpy as np\n",
        "from sklearn.cluster import KMeans\n",
        "from scipy.spatial.distance import cdist\n",
        "import matplotlib.pyplot as plt\n",
        "cluster1 = np.random.uniform(0.5, 1.5, (2, 10))\n",
        "cluster2 = np.random.uniform(3.5, 4.5, (2, 10))\n",
        "X = np.hstack((cluster1, cluster2)).T\n",
        "K = range(1, 10)\n",
        "meandistortions = []\n",
        "for k in K:\n",
        " kmeans = KMeans(n_clusters=k)\n",
        " kmeans.fit(X)\n",
        " meandistortions.append(sum(np.min(cdist(X, kmeans.cluster_centers_,\n",
        "'euclidean'), axis=1)) / X.shape[0])\n",
        "plt.plot(K, meandistortions, 'bx-')\n",
        "plt.xlabel('k')\n",
        "plt.ylabel('Average distortion')\n",
        "plt.title('Selecting k with the Elbow Method')\n",
        "plt.show()"
      ],
      "execution_count": 1,
      "outputs": [
        {
          "output_type": "display_data",
          "data": {
            "image/png": "[encoded data removed]",
            "text/plain": [
              "<Figure size 432x288 with 1 Axes>"
            ]
          },
          "metadata": {
            "tags": [],
            "needs_background": "light"
          }
        }
      ]
    },
    {
      "cell_type": "code",
      "metadata": {
        "id": "58GtDN5SP9Gc",
        "outputId": "dbcafff2-3c66-4ecb-99e8-0e4a3324ae15",
        "colab": {
          "base_uri": "https://localhost:8080/",
          "height": 34
        }
      },
      "source": [
        "import pandas as pd\n",
        "from sklearn import datasets\n",
        "from sklearn.pipeline import Pipeline\n",
        "from matplotlib import pyplot\n",
        "from matplotlib import pyplot\n",
        "from matplotlib import pylab\n",
        "import numpy as np\n",
        "import scipy as sp\n",
        "from sklearn.cluster import KMeans\n",
        "from sklearn.cluster import DBSCAN\n",
        "from sklearn.metrics import confusion_matrix\n",
        "from sklearn.metrics import accuracy_score\n",
        "data = datasets.load_iris()\n",
        "iris_df = pd.DataFrame(data=np.c_[data['data'], data['target']],columns= list(data['feature_names']) + ['target'])\n",
        "km_cluster = KMeans(3, random_state=1) # try 1, 6, or 8\n",
        "km_clusters = km_cluster.fit_transform(iris_df.drop('target',axis=1))\n",
        "print('Accuracy Score: ', accuracy_score(iris_df['target'], km_cluster.predict(iris_df.drop('target',axis=1))))\n"
      ],
      "execution_count": 2,
      "outputs": [
        {
          "output_type": "stream",
          "text": [
            "Accuracy Score:  0.24\n"
          ],
          "name": "stdout"
        }
      ]
    },
    {
      "cell_type": "code",
      "metadata": {
        "id": "xLvID8VpQfMl",
        "outputId": "459bf430-9972-4160-bc50-fd3ce19a1c5c",
        "colab": {
          "base_uri": "https://localhost:8080/",
          "height": 265
        }
      },
      "source": [
        "inertias=[]\n",
        "for i in range(1,11):\n",
        " km=KMeans(i)\n",
        " km.fit(iris_df.drop('target', axis=1))\n",
        " inertias.append(km.inertia_)\n",
        "pylab.plot(range(1,11), inertias, marker='x')\n",
        "pylab.plot(3, inertias[2], marker='x',color='red')\n",
        "pyplot.show()\n"
      ],
      "execution_count": 3,
      "outputs": [
        {
          "output_type": "display_data",
          "data": {
            "image/png": "[encoded data removed]",
            "text/plain": [
              "<Figure size 432x288 with 1 Axes>"
            ]
          },
          "metadata": {
            "tags": [],
            "needs_background": "light"
          }
        }
      ]
    }
  ]
}