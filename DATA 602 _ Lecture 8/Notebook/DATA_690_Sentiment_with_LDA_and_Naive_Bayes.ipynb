{
  "nbformat": 4,
  "nbformat_minor": 0,
  "metadata": {
    "colab": {
      "name": "DATA 690 Sentiment with LDA and Naive Bayes.ipynb",
      "provenance": [],
      "collapsed_sections": []
    },
    "kernelspec": {
      "name": "python3",
      "display_name": "Python 3"
    },
    "language_info": {
      "name": "python"
    }
  },
  "cells": [
    {
      "cell_type": "code",
      "metadata": {
        "colab": {
          "base_uri": "https://localhost:8080/"
        },
        "id": "irJylDv_CDxe",
        "outputId": "916e39ea-302d-4bbd-fe58-2b4b54f82d30"
      },
      "source": [
        "import re\n",
        "import pandas as pd\n",
        "import numpy as np\n",
        "import matplotlib.pyplot as plt\n",
        "from nltk.corpus import stopwords\n",
        "from nltk.stem import PorterStemmer\n",
        "from sklearn.feature_extraction.text import TfidfVectorizer\n",
        "from sklearn.metrics import classification_report, confusion_matrix\n",
        "from sklearn.model_selection import train_test_split\n",
        "import nltk\n",
        "nltk.download('stopwords')\n",
        "%matplotlib inline"
      ],
      "execution_count": 6,
      "outputs": [
        {
          "output_type": "stream",
          "name": "stdout",
          "text": [
            "[nltk_data] Downloading package stopwords to /root/nltk_data...\n",
            "[nltk_data]   Package stopwords is already up-to-date!\n"
          ]
        }
      ]
    },
    {
      "cell_type": "code",
      "metadata": {
        "id": "YI_avEdHCMtc"
      },
      "source": [
        "dataset = pd.read_csv('/content/uam_Sentiment.csv')"
      ],
      "execution_count": 8,
      "outputs": []
    },
    {
      "cell_type": "code",
      "metadata": {
        "colab": {
          "base_uri": "https://localhost:8080/",
          "height": 320
        },
        "id": "3vsuGZwnClwk",
        "outputId": "d2c5b300-4086-46d0-ce7d-b0b037e078a5"
      },
      "source": [
        "dataset.groupby('sentiment_type').content.count().plot.bar(ylim=0)\n",
        "plt.show()"
      ],
      "execution_count": 9,
      "outputs": [
        {
          "output_type": "display_data",
          "data": {
            "image/png": "[encoded data removed]",
            "text/plain": [
              "<Figure size 432x288 with 1 Axes>"
            ]
          },
          "metadata": {
            "needs_background": "light"
          }
        }
      ]
    },
    {
      "cell_type": "code",
      "metadata": {
        "colab": {
          "base_uri": "https://localhost:8080/"
        },
        "id": "0es8dTL3IRFa",
        "outputId": "be227afa-f182-4bc3-f554-2cfb918abcd1"
      },
      "source": [
        "nltk.download('stopwords')\n",
        "stemmer = PorterStemmer()\n",
        "words = stopwords.words(\"english\")\n",
        "dataset['cleaned'] = dataset['content'].apply(lambda x: \" \".join([stemmer.stem(i) for i in re.sub(\"[^a-zA-Z]\", \" \", x).split() if i not in words]).lower())"
      ],
      "execution_count": 10,
      "outputs": [
        {
          "output_type": "stream",
          "name": "stdout",
          "text": [
            "[nltk_data] Downloading package stopwords to /root/nltk_data...\n",
            "[nltk_data]   Package stopwords is already up-to-date!\n"
          ]
        }
      ]
    },
    {
      "cell_type": "code",
      "metadata": {
        "colab": {
          "base_uri": "https://localhost:8080/"
        },
        "id": "zKwP9xbCIYRa",
        "outputId": "fa0241b1-689d-4b11-f5ca-03bf46f66544"
      },
      "source": [
        "vectorizer = TfidfVectorizer(min_df= 3, stop_words=\"english\", sublinear_tf=True, norm='l2', ngram_range=(1, 2))\n",
        "final_features = vectorizer.fit_transform(dataset['cleaned']).toarray()\n",
        "final_features.shape"
      ],
      "execution_count": 11,
      "outputs": [
        {
          "output_type": "execute_result",
          "data": {
            "text/plain": [
              "(50, 118)"
            ]
          },
          "metadata": {},
          "execution_count": 11
        }
      ]
    },
    {
      "cell_type": "code",
      "metadata": {
        "colab": {
          "base_uri": "https://localhost:8080/"
        },
        "id": "xjwFwHOUIkgr",
        "outputId": "5e2b5b82-563b-42b0-f155-2227c03554b5"
      },
      "source": [
        "from sklearn.feature_extraction.text import CountVectorizer\n",
        "X = dataset['cleaned']\n",
        "Y = dataset['sentiment_type']\n",
        "vectorizer = CountVectorizer()\n",
        "X = vectorizer.fit_transform(X)\n",
        "vectorizer.get_feature_names()\n",
        "X.toarray()  "
      ],
      "execution_count": 12,
      "outputs": [
        {
          "output_type": "execute_result",
          "data": {
            "text/plain": [
              "array([[0, 0, 0, ..., 0, 0, 0],\n",
              "       [0, 0, 0, ..., 0, 0, 0],\n",
              "       [0, 0, 0, ..., 0, 0, 0],\n",
              "       ...,\n",
              "       [0, 0, 0, ..., 0, 0, 0],\n",
              "       [0, 1, 0, ..., 0, 0, 0],\n",
              "       [0, 0, 0, ..., 0, 0, 0]])"
            ]
          },
          "metadata": {},
          "execution_count": 12
        }
      ]
    },
    {
      "cell_type": "markdown",
      "metadata": {
        "id": "2hPPYjWfI55L"
      },
      "source": [
        "Naive Bayes Model"
      ]
    },
    {
      "cell_type": "code",
      "metadata": {
        "colab": {
          "base_uri": "https://localhost:8080/"
        },
        "id": "KYhRoAeIImH4",
        "outputId": "47d7f58a-37ea-47f7-c4a3-f74d44a1a03c"
      },
      "source": [
        "from sklearn.naive_bayes import MultinomialNB\n",
        "import numpy as np\n",
        "X_train, X_test, y_train, y_test = train_test_split(X, Y, test_size=0.25)\n",
        "mnb=MultinomialNB()\n",
        "model = mnb.fit(X_train, y_train)\n",
        "ytest = np.array(y_test)\n",
        "# confusion matrix and classification report(precision, recall, F1-score)\n",
        "print(\"Classification Report:\\n\", classification_report(ytest, model.predict(X_test)))\n",
        "print(\"Confusion Matrix:\\n\", confusion_matrix(ytest, model.predict(X_test)))"
      ],
      "execution_count": 13,
      "outputs": [
        {
          "output_type": "stream",
          "name": "stdout",
          "text": [
            "Classification Report:\n",
            "               precision    recall  f1-score   support\n",
            "\n",
            "    NEGATIVE       0.00      0.00      0.00         1\n",
            "     NEUTRAL       0.00      0.00      0.00         1\n",
            "    POSITIVE       0.78      0.64      0.70        11\n",
            "\n",
            "    accuracy                           0.54        13\n",
            "   macro avg       0.26      0.21      0.23        13\n",
            "weighted avg       0.66      0.54      0.59        13\n",
            "\n",
            "Confusion Matrix:\n",
            " [[0 0 1]\n",
            " [0 0 1]\n",
            " [1 3 7]]\n"
          ]
        }
      ]
    },
    {
      "cell_type": "code",
      "metadata": {
        "colab": {
          "base_uri": "https://localhost:8080/",
          "height": 295
        },
        "id": "Jawya9ioIxC9",
        "outputId": "e83d0fd8-57bf-42fd-e8ef-814b62dbe6fc"
      },
      "source": [
        "from sklearn import metrics\n",
        "import matplotlib.pyplot as plt\n",
        "disp = metrics.plot_confusion_matrix(mnb, X_test, ytest,\n",
        "                                 display_labels=['Negative', 'Neutral', 'Positive'],\n",
        "                                 cmap=plt.cm.Blues,\n",
        "                                 normalize='true')\n",
        "disp.ax_.set_title('Multinomial Naive Bayes Confusion matrix, with normalization');"
      ],
      "execution_count": 15,
      "outputs": [
        {
          "output_type": "display_data",
          "data": {
            "image/png": "[encoded data removed]",
            "text/plain": [
              "<Figure size 432x288 with 2 Axes>"
            ]
          },
          "metadata": {
            "needs_background": "light"
          }
        }
      ]
    },
    {
      "cell_type": "markdown",
      "metadata": {
        "id": "ISkDo5whI8wI"
      },
      "source": [
        "Linear Discriminant Analysis"
      ]
    },
    {
      "cell_type": "code",
      "metadata": {
        "id": "MCRh27jzI_te"
      },
      "source": [
        "from sklearn.discriminant_analysis import LinearDiscriminantAnalysis\n",
        "# create the lda model\n",
        "lda_clf = LinearDiscriminantAnalysis()"
      ],
      "execution_count": 16,
      "outputs": []
    },
    {
      "cell_type": "code",
      "metadata": {
        "colab": {
          "base_uri": "https://localhost:8080/"
        },
        "id": "CcJ9vj4qJNvX",
        "outputId": "97b0cc57-9458-4287-adf7-a467792807d2"
      },
      "source": [
        "# test classification dataset\n",
        "from sklearn.datasets import make_classification\n",
        "# define dataset\n",
        "X, y = make_classification(n_samples=1000, n_features=10, n_informative=10, n_redundant=0, random_state=1)\n",
        "# summarize the dataset\n",
        "print(X.shape, y.shape)"
      ],
      "execution_count": 17,
      "outputs": [
        {
          "output_type": "stream",
          "name": "stdout",
          "text": [
            "(1000, 10) (1000,)\n"
          ]
        }
      ]
    },
    {
      "cell_type": "code",
      "metadata": {
        "id": "lZuJDG6TJPQb"
      },
      "source": [
        "# evaluate a lda model on the dataset\n",
        "from numpy import mean\n",
        "from numpy import std\n",
        "from sklearn.datasets import make_classification\n",
        "from sklearn.model_selection import cross_val_score\n",
        "from sklearn.model_selection import RepeatedStratifiedKFold\n",
        "from sklearn.discriminant_analysis import LinearDiscriminantAnalysis\n",
        "# define dataset\n",
        "X, y = make_classification(n_samples=1000, n_features=10, n_informative=10, n_redundant=0, random_state=1)\n",
        "# define model\n",
        "lda_clf = LinearDiscriminantAnalysis()\n",
        "# define model evaluation method\n",
        "cv = RepeatedStratifiedKFold(n_splits=10, n_repeats=3, random_state=1)\n",
        "# evaluate model\n",
        "scores = cross_val_score(model, X, y, scoring='accuracy', cv=cv, n_jobs=-1)\n",
        "# summarize result\n",
        "print('Mean Accuracy: %.3f (%.3f)' % (mean(scores), std(scores)))"
      ],
      "execution_count": null,
      "outputs": []
    },
    {
      "cell_type": "code",
      "metadata": {
        "colab": {
          "base_uri": "https://localhost:8080/"
        },
        "id": "a4AiSoKcJcIo",
        "outputId": "e31763bd-276f-4586-90f8-ae5616d41e4b"
      },
      "source": [
        "from sklearn.feature_extraction.text import TfidfTransformer\n",
        "vectorizer = TfidfVectorizer(min_df= 3, stop_words=\"english\", sublinear_tf=True, norm='l2', ngram_range=(1, 2))\n",
        "final_features = vectorizer.fit_transform(dataset['cleaned']).toarray()\n",
        "final_features.shape\n",
        "from sklearn.feature_extraction.text import CountVectorizer\n",
        "X = dataset['cleaned']\n",
        "Y = dataset['sentiment_type']\n",
        "vectorizer = CountVectorizer()\n",
        "X = vectorizer.fit_transform(X)\n",
        "vectorizer.get_feature_names()\n",
        "X.toarray()  \n",
        "model1= lda_clf.fit(X_train.todense(), y_train)\n",
        "ytest = np.array(y_test)\n",
        "print(\"Classification Report:\\n\", classification_report(ytest, model1.predict(X_test)))\n",
        "print(\"Confusion Matrix:\\n\", confusion_matrix(ytest, model1.predict(X_test)))"
      ],
      "execution_count": 18,
      "outputs": [
        {
          "output_type": "stream",
          "name": "stdout",
          "text": [
            "Classification Report:\n",
            "               precision    recall  f1-score   support\n",
            "\n",
            "    NEGATIVE       0.00      0.00      0.00         1\n",
            "     NEUTRAL       0.00      0.00      0.00         1\n",
            "    POSITIVE       0.85      1.00      0.92        11\n",
            "\n",
            "    accuracy                           0.85        13\n",
            "   macro avg       0.28      0.33      0.31        13\n",
            "weighted avg       0.72      0.85      0.78        13\n",
            "\n",
            "Confusion Matrix:\n",
            " [[ 0  0  1]\n",
            " [ 0  0  1]\n",
            " [ 0  0 11]]\n"
          ]
        },
        {
          "output_type": "stream",
          "name": "stderr",
          "text": [
            "/usr/local/lib/python3.7/dist-packages/sklearn/metrics/_classification.py:1272: UndefinedMetricWarning: Precision and F-score are ill-defined and being set to 0.0 in labels with no predicted samples. Use `zero_division` parameter to control this behavior.\n",
            "  _warn_prf(average, modifier, msg_start, len(result))\n"
          ]
        }
      ]
    },
    {
      "cell_type": "code",
      "metadata": {
        "colab": {
          "base_uri": "https://localhost:8080/",
          "height": 295
        },
        "id": "bcX1ufLJJhz0",
        "outputId": "ca63ae6d-012d-412c-b5fd-2d86de2e8e94"
      },
      "source": [
        "from sklearn import metrics\n",
        "import matplotlib.pyplot as plt\n",
        "disp = metrics.plot_confusion_matrix(model1, X_test, ytest,\n",
        "                                 display_labels=['Negative', 'Neutral', 'Positive'],\n",
        "                                 cmap=plt.cm.Blues,\n",
        "                                 normalize='true')\n",
        "disp.ax_.set_title('LDA Confusion matrix, with normalization');"
      ],
      "execution_count": 19,
      "outputs": [
        {
          "output_type": "display_data",
          "data": {
            "image/png": "[encoded data removed]",
            "text/plain": [
              "<Figure size 432x288 with 2 Axes>"
            ]
          },
          "metadata": {
            "needs_background": "light"
          }
        }
      ]
    }
  ]
}