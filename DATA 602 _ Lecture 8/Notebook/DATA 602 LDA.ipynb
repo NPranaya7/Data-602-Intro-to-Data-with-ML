{
  "nbformat": 4,
  "nbformat_minor": 0,
  "metadata": {
    "colab": {
      "name": "DATA602 LDA",
      "provenance": [],
      "collapsed_sections": []
    },
    "kernelspec": {
      "name": "python3",
      "display_name": "Python 3"
    },
    "accelerator": "GPU"
  },
  "cells": [
    {
      "cell_type": "code",
      "metadata": {
        "id": "_yhTG6yvYVQi"
      },
      "source": [
        "from sklearn.datasets import load_wine\n",
        "import pandas as pd\n",
        "import numpy as np\n",
        "np.set_printoptions(precision=4)\n",
        "from matplotlib import pyplot as plt\n",
        "import seaborn as sns\n",
        "sns.set()\n",
        "from sklearn.preprocessing import LabelEncoder\n",
        "from sklearn.tree import DecisionTreeClassifier\n",
        "from sklearn.model_selection import train_test_split\n",
        "from sklearn.metrics import confusion_matrix"
      ],
      "execution_count": 1,
      "outputs": []
    },
    {
      "cell_type": "code",
      "metadata": {
        "id": "e1Ove28LYlSU"
      },
      "source": [
        "wine = load_wine()\n",
        "X = pd.DataFrame(wine.data, columns=wine.feature_names)\n",
        "y = pd.Categorical.from_codes(wine.target, wine.target_names)"
      ],
      "execution_count": 2,
      "outputs": []
    },
    {
      "cell_type": "code",
      "metadata": {
        "id": "cCbRoqYoYr5i",
        "outputId": "f7d77bb3-6622-4acc-f3a1-76e9c89de117",
        "colab": {
          "base_uri": "https://localhost:8080/",
          "height": 34
        }
      },
      "source": [
        "X.shape"
      ],
      "execution_count": 3,
      "outputs": [
        {
          "output_type": "execute_result",
          "data": {
            "text/plain": [
              "(178, 13)"
            ]
          },
          "metadata": {
            "tags": []
          },
          "execution_count": 3
        }
      ]
    },
    {
      "cell_type": "code",
      "metadata": {
        "id": "QaiCPre6YxtO",
        "outputId": "01eba1d9-fe77-4c90-c389-e17c2ca78f15",
        "colab": {
          "base_uri": "https://localhost:8080/",
          "height": 224
        }
      },
      "source": [
        "X.head()"
      ],
      "execution_count": 4,
      "outputs": [
        {
          "output_type": "execute_result",
          "data": {
            "text/html": [
              "<div>\n",
              "<style scoped>\n",
              "    .dataframe tbody tr th:only-of-type {\n",
              "        vertical-align: middle;\n",
              "    }\n",
              "\n",
              "    .dataframe tbody tr th {\n",
              "        vertical-align: top;\n",
              "    }\n",
              "\n",
              "    .dataframe thead th {\n",
              "        text-align: right;\n",
              "    }\n",
              "</style>\n",
              "<table border=\"1\" class=\"dataframe\">\n",
              "  <thead>\n",
              "    <tr style=\"text-align: right;\">\n",
              "      <th></th>\n",
              "      <th>alcohol</th>\n",
              "      <th>malic_acid</th>\n",
              "      <th>ash</th>\n",
              "      <th>alcalinity_of_ash</th>\n",
              "      <th>magnesium</th>\n",
              "      <th>total_phenols</th>\n",
              "      <th>flavanoids</th>\n",
              "      <th>nonflavanoid_phenols</th>\n",
              "      <th>proanthocyanins</th>\n",
              "      <th>color_intensity</th>\n",
              "      <th>hue</th>\n",
              "      <th>od280/od315_of_diluted_wines</th>\n",
              "      <th>proline</th>\n",
              "    </tr>\n",
              "  </thead>\n",
              "  <tbody>\n",
              "    <tr>\n",
              "      <th>0</th>\n",
              "      <td>14.23</td>\n",
              "      <td>1.71</td>\n",
              "      <td>2.43</td>\n",
              "      <td>15.6</td>\n",
              "      <td>127.0</td>\n",
              "      <td>2.80</td>\n",
              "      <td>3.06</td>\n",
              "      <td>0.28</td>\n",
              "      <td>2.29</td>\n",
              "      <td>5.64</td>\n",
              "      <td>1.04</td>\n",
              "      <td>3.92</td>\n",
              "      <td>1065.0</td>\n",
              "    </tr>\n",
              "    <tr>\n",
              "      <th>1</th>\n",
              "      <td>13.20</td>\n",
              "      <td>1.78</td>\n",
              "      <td>2.14</td>\n",
              "      <td>11.2</td>\n",
              "      <td>100.0</td>\n",
              "      <td>2.65</td>\n",
              "      <td>2.76</td>\n",
              "      <td>0.26</td>\n",
              "      <td>1.28</td>\n",
              "      <td>4.38</td>\n",
              "      <td>1.05</td>\n",
              "      <td>3.40</td>\n",
              "      <td>1050.0</td>\n",
              "    </tr>\n",
              "    <tr>\n",
              "      <th>2</th>\n",
              "      <td>13.16</td>\n",
              "      <td>2.36</td>\n",
              "      <td>2.67</td>\n",
              "      <td>18.6</td>\n",
              "      <td>101.0</td>\n",
              "      <td>2.80</td>\n",
              "      <td>3.24</td>\n",
              "      <td>0.30</td>\n",
              "      <td>2.81</td>\n",
              "      <td>5.68</td>\n",
              "      <td>1.03</td>\n",
              "      <td>3.17</td>\n",
              "      <td>1185.0</td>\n",
              "    </tr>\n",
              "    <tr>\n",
              "      <th>3</th>\n",
              "      <td>14.37</td>\n",
              "      <td>1.95</td>\n",
              "      <td>2.50</td>\n",
              "      <td>16.8</td>\n",
              "      <td>113.0</td>\n",
              "      <td>3.85</td>\n",
              "      <td>3.49</td>\n",
              "      <td>0.24</td>\n",
              "      <td>2.18</td>\n",
              "      <td>7.80</td>\n",
              "      <td>0.86</td>\n",
              "      <td>3.45</td>\n",
              "      <td>1480.0</td>\n",
              "    </tr>\n",
              "    <tr>\n",
              "      <th>4</th>\n",
              "      <td>13.24</td>\n",
              "      <td>2.59</td>\n",
              "      <td>2.87</td>\n",
              "      <td>21.0</td>\n",
              "      <td>118.0</td>\n",
              "      <td>2.80</td>\n",
              "      <td>2.69</td>\n",
              "      <td>0.39</td>\n",
              "      <td>1.82</td>\n",
              "      <td>4.32</td>\n",
              "      <td>1.04</td>\n",
              "      <td>2.93</td>\n",
              "      <td>735.0</td>\n",
              "    </tr>\n",
              "  </tbody>\n",
              "</table>\n",
              "</div>"
            ],
            "text/plain": [
              "   alcohol  malic_acid   ash  ...   hue  od280/od315_of_diluted_wines  proline\n",
              "0    14.23        1.71  2.43  ...  1.04                          3.92   1065.0\n",
              "1    13.20        1.78  2.14  ...  1.05                          3.40   1050.0\n",
              "2    13.16        2.36  2.67  ...  1.03                          3.17   1185.0\n",
              "3    14.37        1.95  2.50  ...  0.86                          3.45   1480.0\n",
              "4    13.24        2.59  2.87  ...  1.04                          2.93    735.0\n",
              "\n",
              "[5 rows x 13 columns]"
            ]
          },
          "metadata": {
            "tags": []
          },
          "execution_count": 4
        }
      ]
    },
    {
      "cell_type": "code",
      "metadata": {
        "id": "YOYmAy15Yzc8",
        "outputId": "8fe8db4f-8017-458d-9fd1-2503e4f18139",
        "colab": {
          "base_uri": "https://localhost:8080/",
          "height": 34
        }
      },
      "source": [
        "wine.target_names"
      ],
      "execution_count": 5,
      "outputs": [
        {
          "output_type": "execute_result",
          "data": {
            "text/plain": [
              "array(['class_0', 'class_1', 'class_2'], dtype='<U7')"
            ]
          },
          "metadata": {
            "tags": []
          },
          "execution_count": 5
        }
      ]
    },
    {
      "cell_type": "code",
      "metadata": {
        "id": "PDlnLhytY3wC"
      },
      "source": [
        "df = X.join(pd.Series(y, name='class'))"
      ],
      "execution_count": 6,
      "outputs": []
    },
    {
      "cell_type": "markdown",
      "metadata": {
        "id": "PEF6-HApZBGs"
      },
      "source": [
        "Linear Discriminant Analysis can be broken up into the following steps:\n",
        "Compute the within class and between class scatter matrices\n",
        "Compute the eigenvectors and corresponding eigenvalues for the scatter matrices\n",
        "Sort the eigenvalues and select the top k\n",
        "Create a new matrix containing eigenvectors that map to the k eigenvalues\n",
        "Obtain the new features (i.e. LDA components) by taking the dot product of the data and the matrix from step 4. For every class, we create a vector with the means of each feature."
      ]
    },
    {
      "cell_type": "code",
      "metadata": {
        "id": "Td2xqsMIZNRp",
        "outputId": "002f96dd-5bb5-4247-eadf-6a22fad503e4",
        "colab": {
          "base_uri": "https://localhost:8080/",
          "height": 452
        }
      },
      "source": [
        "class_feature_means = pd.DataFrame(columns=wine.target_names)\n",
        "for c, rows in df.groupby('class'):\n",
        "    class_feature_means[c] = rows.mean()\n",
        "class_feature_means"
      ],
      "execution_count": 7,
      "outputs": [
        {
          "output_type": "execute_result",
          "data": {
            "text/html": [
              "<div>\n",
              "<style scoped>\n",
              "    .dataframe tbody tr th:only-of-type {\n",
              "        vertical-align: middle;\n",
              "    }\n",
              "\n",
              "    .dataframe tbody tr th {\n",
              "        vertical-align: top;\n",
              "    }\n",
              "\n",
              "    .dataframe thead th {\n",
              "        text-align: right;\n",
              "    }\n",
              "</style>\n",
              "<table border=\"1\" class=\"dataframe\">\n",
              "  <thead>\n",
              "    <tr style=\"text-align: right;\">\n",
              "      <th></th>\n",
              "      <th>class_0</th>\n",
              "      <th>class_1</th>\n",
              "      <th>class_2</th>\n",
              "    </tr>\n",
              "  </thead>\n",
              "  <tbody>\n",
              "    <tr>\n",
              "      <th>alcohol</th>\n",
              "      <td>13.744746</td>\n",
              "      <td>12.278732</td>\n",
              "      <td>13.153750</td>\n",
              "    </tr>\n",
              "    <tr>\n",
              "      <th>malic_acid</th>\n",
              "      <td>2.010678</td>\n",
              "      <td>1.932676</td>\n",
              "      <td>3.333750</td>\n",
              "    </tr>\n",
              "    <tr>\n",
              "      <th>ash</th>\n",
              "      <td>2.455593</td>\n",
              "      <td>2.244789</td>\n",
              "      <td>2.437083</td>\n",
              "    </tr>\n",
              "    <tr>\n",
              "      <th>alcalinity_of_ash</th>\n",
              "      <td>17.037288</td>\n",
              "      <td>20.238028</td>\n",
              "      <td>21.416667</td>\n",
              "    </tr>\n",
              "    <tr>\n",
              "      <th>magnesium</th>\n",
              "      <td>106.338983</td>\n",
              "      <td>94.549296</td>\n",
              "      <td>99.312500</td>\n",
              "    </tr>\n",
              "    <tr>\n",
              "      <th>total_phenols</th>\n",
              "      <td>2.840169</td>\n",
              "      <td>2.258873</td>\n",
              "      <td>1.678750</td>\n",
              "    </tr>\n",
              "    <tr>\n",
              "      <th>flavanoids</th>\n",
              "      <td>2.982373</td>\n",
              "      <td>2.080845</td>\n",
              "      <td>0.781458</td>\n",
              "    </tr>\n",
              "    <tr>\n",
              "      <th>nonflavanoid_phenols</th>\n",
              "      <td>0.290000</td>\n",
              "      <td>0.363662</td>\n",
              "      <td>0.447500</td>\n",
              "    </tr>\n",
              "    <tr>\n",
              "      <th>proanthocyanins</th>\n",
              "      <td>1.899322</td>\n",
              "      <td>1.630282</td>\n",
              "      <td>1.153542</td>\n",
              "    </tr>\n",
              "    <tr>\n",
              "      <th>color_intensity</th>\n",
              "      <td>5.528305</td>\n",
              "      <td>3.086620</td>\n",
              "      <td>7.396250</td>\n",
              "    </tr>\n",
              "    <tr>\n",
              "      <th>hue</th>\n",
              "      <td>1.062034</td>\n",
              "      <td>1.056282</td>\n",
              "      <td>0.682708</td>\n",
              "    </tr>\n",
              "    <tr>\n",
              "      <th>od280/od315_of_diluted_wines</th>\n",
              "      <td>3.157797</td>\n",
              "      <td>2.785352</td>\n",
              "      <td>1.683542</td>\n",
              "    </tr>\n",
              "    <tr>\n",
              "      <th>proline</th>\n",
              "      <td>1115.711864</td>\n",
              "      <td>519.507042</td>\n",
              "      <td>629.895833</td>\n",
              "    </tr>\n",
              "  </tbody>\n",
              "</table>\n",
              "</div>"
            ],
            "text/plain": [
              "                                  class_0     class_1     class_2\n",
              "alcohol                         13.744746   12.278732   13.153750\n",
              "malic_acid                       2.010678    1.932676    3.333750\n",
              "ash                              2.455593    2.244789    2.437083\n",
              "alcalinity_of_ash               17.037288   20.238028   21.416667\n",
              "magnesium                      106.338983   94.549296   99.312500\n",
              "total_phenols                    2.840169    2.258873    1.678750\n",
              "flavanoids                       2.982373    2.080845    0.781458\n",
              "nonflavanoid_phenols             0.290000    0.363662    0.447500\n",
              "proanthocyanins                  1.899322    1.630282    1.153542\n",
              "color_intensity                  5.528305    3.086620    7.396250\n",
              "hue                              1.062034    1.056282    0.682708\n",
              "od280/od315_of_diluted_wines     3.157797    2.785352    1.683542\n",
              "proline                       1115.711864  519.507042  629.895833"
            ]
          },
          "metadata": {
            "tags": []
          },
          "execution_count": 7
        }
      ]
    },
    {
      "cell_type": "markdown",
      "metadata": {
        "id": "ETUUDnA3Zfev"
      },
      "source": [
        "Then, we plug the mean vectors (mi) into the equation from before in order to obtain the within class scatter matrix. "
      ]
    },
    {
      "cell_type": "code",
      "metadata": {
        "id": "pLojdtCiY8aG"
      },
      "source": [
        "within_class_scatter_matrix = np.zeros((13,13))\n",
        "for c, rows in df.groupby('class'):\n",
        "  rows = rows.drop(['class'], axis=1)\n",
        "  s = np.zeros((13,13))\n",
        "for index, row in rows.iterrows():\n",
        "        x, mc = row.values.reshape(13,1), class_feature_means[c].values.reshape(13,1)\n",
        "        s += (x - mc).dot((x - mc).T)\n",
        "        within_class_scatter_matrix += s"
      ],
      "execution_count": 8,
      "outputs": []
    },
    {
      "cell_type": "code",
      "metadata": {
        "id": "1QdmPgCUZ8-u"
      },
      "source": [
        "feature_means = df.mean()\n",
        "between_class_scatter_matrix = np.zeros((13,13))\n",
        "for c in class_feature_means:    \n",
        "    n = len(df.loc[df['class'] == c].index)\n",
        "    \n",
        "    mc, m = class_feature_means[c].values.reshape(13,1), feature_means.values.reshape(13,1)\n",
        "    \n",
        "    between_class_scatter_matrix += n * (mc - m).dot((mc - m).T)"
      ],
      "execution_count": 9,
      "outputs": []
    },
    {
      "cell_type": "code",
      "metadata": {
        "id": "9to--leGZ_00"
      },
      "source": [
        "eigen_values, eigen_vectors = np.linalg.eig(np.linalg.inv(within_class_scatter_matrix).dot(between_class_scatter_matrix))"
      ],
      "execution_count": 10,
      "outputs": []
    },
    {
      "cell_type": "markdown",
      "metadata": {
        "id": "NMKd-aRXc4ay"
      },
      "source": [
        "The eigenvectors with the highest eigenvalues carry the most information about the distribution of the data. Thus, we sort the eigenvalues from highest to lowest and select the first k eigenvectors. In order to ensure that the eigenvalue maps to the same eigenvector after sorting, we place them in a temporary array."
      ]
    },
    {
      "cell_type": "code",
      "metadata": {
        "id": "OduGu3g-aDoM",
        "outputId": "a3663940-da86-46f7-c764-21e226d55db4",
        "colab": {
          "base_uri": "https://localhost:8080/",
          "height": 238
        }
      },
      "source": [
        "pairs = [(np.abs(eigen_values[i]), eigen_vectors[:,i]) for i in range(len(eigen_values))]\n",
        "pairs = sorted(pairs, key=lambda x: x[0], reverse=True)\n",
        "for pair in pairs:\n",
        "    print(pair[0])"
      ],
      "execution_count": 11,
      "outputs": [
        {
          "output_type": "stream",
          "text": [
            "9.884546449232964\n",
            "2.9033610617160606\n",
            "6.285916968291436e-16\n",
            "6.285916968291436e-16\n",
            "5.979482586809227e-16\n",
            "5.345289989557e-16\n",
            "5.345289989557e-16\n",
            "2.5624197998855253e-16\n",
            "2.5624197998855253e-16\n",
            "2.4778227778444637e-16\n",
            "5.049704088349899e-17\n",
            "1.0023889228649853e-17\n",
            "0.0\n"
          ],
          "name": "stdout"
        }
      ]
    },
    {
      "cell_type": "markdown",
      "metadata": {
        "id": "voJFAx6haMb3"
      },
      "source": [
        "It is difficult to determine how much of the variance is explained by each component. Thus, we express it as a percentage."
      ]
    },
    {
      "cell_type": "code",
      "metadata": {
        "id": "VxvkCXFUaPpG",
        "outputId": "2eda846d-d26e-45f2-d424-e1b800d57222",
        "colab": {
          "base_uri": "https://localhost:8080/",
          "height": 255
        }
      },
      "source": [
        "eigen_value_sums = sum(eigen_values)\n",
        "print('Explained Variance')\n",
        "for i, pair in enumerate(pairs):\n",
        "    print('Eigenvector {}: {}'.format(i, (pair[0]/eigen_value_sums).real))"
      ],
      "execution_count": 12,
      "outputs": [
        {
          "output_type": "stream",
          "text": [
            "Explained Variance\n",
            "Eigenvector 0: 0.772960426932225\n",
            "Eigenvector 1: 0.22703957306777506\n",
            "Eigenvector 2: 4.915516446228146e-17\n",
            "Eigenvector 3: 4.915516446228146e-17\n",
            "Eigenvector 4: 4.6758882027333914e-17\n",
            "Eigenvector 5: 4.179956716906465e-17\n",
            "Eigenvector 6: 4.179956716906465e-17\n",
            "Eigenvector 7: 2.0037834944392412e-17\n",
            "Eigenvector 8: 2.0037834944392412e-17\n",
            "Eigenvector 9: 1.9376295736600758e-17\n",
            "Eigenvector 10: 3.948811863102963e-18\n",
            "Eigenvector 11: 7.838568757294643e-19\n",
            "Eigenvector 12: 0.0\n"
          ],
          "name": "stdout"
        }
      ]
    },
    {
      "cell_type": "markdown",
      "metadata": {
        "id": "-j6Dh0Jkab8C"
      },
      "source": [
        "First, we create a matrix W with the first two eigenvectors."
      ]
    },
    {
      "cell_type": "code",
      "metadata": {
        "id": "dt46RjFyaZbW",
        "outputId": "b4735bf0-6c86-4057-eeb8-4305888fa3d2",
        "colab": {
          "base_uri": "https://localhost:8080/",
          "height": 238
        }
      },
      "source": [
        "w_matrix = np.hstack((pairs[0][1].reshape(13,1), pairs[1][1].reshape(13,1))).real\n",
        "w_matrix"
      ],
      "execution_count": 13,
      "outputs": [
        {
          "output_type": "execute_result",
          "data": {
            "text/plain": [
              "array([[-4.1562e-02,  2.0879e-01],\n",
              "       [-1.6684e-02,  3.6500e-03],\n",
              "       [-4.4776e-03,  4.5911e-01],\n",
              "       [ 7.5359e-03, -2.4950e-02],\n",
              "       [ 6.4335e-03,  3.1071e-03],\n",
              "       [ 9.7213e-02,  1.9083e-01],\n",
              "       [-7.2041e-01,  2.6494e-02],\n",
              "       [-6.5156e-01,  3.4334e-01],\n",
              "       [ 1.6083e-02, -4.0468e-01],\n",
              "       [ 2.7091e-02,  6.7012e-03],\n",
              "       [-1.9634e-02, -5.7682e-01],\n",
              "       [-2.0866e-01, -3.0567e-01],\n",
              "       [-5.9173e-04,  9.9706e-04]])"
            ]
          },
          "metadata": {
            "tags": []
          },
          "execution_count": 13
        }
      ]
    },
    {
      "cell_type": "markdown",
      "metadata": {
        "id": "u40WTNANamK1"
      },
      "source": [
        "Then, we save the dot product of X and W into a new matrix Y.\n",
        "where X is a n×d matrix with n samples and d dimensions, and Y is a n×k matrix with n samples and k ( k<n) dimensions. \n",
        "In other words, Y is composed of the LDA components, or said yet another way, the new feature space."
      ]
    },
    {
      "cell_type": "code",
      "metadata": {
        "id": "USDkEkbZauMB",
        "outputId": "1c67f06f-55f3-49ef-c718-dd40e4d9f2ba",
        "colab": {
          "base_uri": "https://localhost:8080/",
          "height": 1000
        }
      },
      "source": [
        "X_lda = np.array(X.dot(w_matrix))\n",
        "X_lda"
      ],
      "execution_count": 14,
      "outputs": [
        {
          "output_type": "execute_result",
          "data": {
            "text/plain": [
              "array([[-3.0898,  3.1846],\n",
              "       [-2.9724,  3.3577],\n",
              "       [-3.2495,  3.0743],\n",
              "       [-3.4498,  4.0917],\n",
              "       [-2.5291,  3.2034],\n",
              "       [-3.4   ,  4.1123],\n",
              "       [-3.0367,  3.5544],\n",
              "       [-2.8555,  3.8611],\n",
              "       [-3.049 ,  3.5449],\n",
              "       [-3.1342,  3.2478],\n",
              "       [-3.455 ,  3.5023],\n",
              "       [-2.7984,  3.6056],\n",
              "       [-3.0704,  3.6012],\n",
              "       [-3.7015,  3.5086],\n",
              "       [-3.6974,  3.7308],\n",
              "       [-2.9534,  3.8804],\n",
              "       [-3.0524,  3.9394],\n",
              "       [-3.166 ,  3.7823],\n",
              "       [-3.8682,  4.2839],\n",
              "       [-2.8555,  3.2937],\n",
              "       [-2.9092,  2.9224],\n",
              "       [-2.5376,  2.7191],\n",
              "       [-3.1722,  3.03  ],\n",
              "       [-2.7119,  3.0313],\n",
              "       [-2.8484,  2.8515],\n",
              "       [-2.6393,  3.1509],\n",
              "       [-3.1843,  3.7527],\n",
              "       [-2.6081,  3.5686],\n",
              "       [-3.0052,  3.2753],\n",
              "       [-2.6955,  3.0687],\n",
              "       [-3.1836,  3.4638],\n",
              "       [-3.2407,  3.7421],\n",
              "       [-2.8603,  3.1465],\n",
              "       [-2.8395,  3.9321],\n",
              "       [-2.6655,  3.5116],\n",
              "       [-2.9779,  2.9484],\n",
              "       [-2.6427,  3.6009],\n",
              "       [-2.5779,  3.5225],\n",
              "       [-2.7471,  3.2248],\n",
              "       [-2.8067,  3.2838],\n",
              "       [-3.0037,  2.9679],\n",
              "       [-2.8952,  3.2488],\n",
              "       [-3.4503,  3.6508],\n",
              "       [-2.5786,  3.0424],\n",
              "       [-2.8876,  2.9147],\n",
              "       [-2.8288,  3.7786],\n",
              "       [-3.2351,  3.3339],\n",
              "       [-3.2184,  3.1639],\n",
              "       [-2.8867,  3.2936],\n",
              "       [-3.4111,  3.4942],\n",
              "       [-3.1649,  2.7898],\n",
              "       [-3.2263,  3.1992],\n",
              "       [-3.5036,  3.8458],\n",
              "       [-2.9692,  4.0092],\n",
              "       [-2.828 ,  3.4421],\n",
              "       [-2.6535,  3.1987],\n",
              "       [-2.8448,  3.4049],\n",
              "       [-3.2275,  3.8241],\n",
              "       [-3.3814,  3.8583],\n",
              "       [-0.9389,  2.9081],\n",
              "       [-1.4473,  3.4786],\n",
              "       [-1.4034,  3.2528],\n",
              "       [-1.9466,  3.0379],\n",
              "       [-2.5773,  2.3009],\n",
              "       [-1.7066,  2.5573],\n",
              "       [-2.4402,  2.75  ],\n",
              "       [-2.9274,  2.127 ],\n",
              "       [-2.2107,  2.1794],\n",
              "       [-1.5677,  3.9166],\n",
              "       [-1.2437,  1.8886],\n",
              "       [-1.4064,  2.9797],\n",
              "       [-2.589 ,  2.4037],\n",
              "       [-1.9372,  2.6865],\n",
              "       [-2.5737,  2.7596],\n",
              "       [-2.0986,  2.8026],\n",
              "       [-1.5785,  2.3138],\n",
              "       [-1.9443,  2.2715],\n",
              "       [-1.5115,  2.7239],\n",
              "       [-1.7374,  2.3944],\n",
              "       [-2.4716,  2.3094],\n",
              "       [-2.1668,  1.8104],\n",
              "       [-2.6183,  2.4395],\n",
              "       [-1.9379,  2.3723],\n",
              "       [-1.8678,  2.8642],\n",
              "       [-2.1451,  2.2474],\n",
              "       [-2.0149,  2.31  ],\n",
              "       [-1.8155,  2.2688],\n",
              "       [-1.9326,  2.0823],\n",
              "       [-2.0649,  2.604 ],\n",
              "       [-2.1029,  2.2957],\n",
              "       [-1.8338,  2.4218],\n",
              "       [-1.6171,  2.2193],\n",
              "       [-1.8208,  2.6009],\n",
              "       [-2.2043,  1.859 ],\n",
              "       [-1.9403,  2.2756],\n",
              "       [-1.9717,  2.4468],\n",
              "       [-0.9305,  2.7608],\n",
              "       [-2.3599,  2.1804],\n",
              "       [-3.1872,  2.6685],\n",
              "       [-2.7931,  1.793 ],\n",
              "       [-2.2551,  2.2734],\n",
              "       [-1.7196,  2.3159],\n",
              "       [-2.152 ,  2.5872],\n",
              "       [-1.7022,  2.3304],\n",
              "       [-2.2937,  2.2601],\n",
              "       [-2.2122,  2.224 ],\n",
              "       [-2.2973,  2.1333],\n",
              "       [-2.    ,  2.4851],\n",
              "       [-2.0224,  1.9651],\n",
              "       [-2.7775,  2.2993],\n",
              "       [-2.2149,  1.6849],\n",
              "       [-2.1193,  2.4795],\n",
              "       [-2.2016,  2.9526],\n",
              "       [-1.9077,  2.483 ],\n",
              "       [-2.3239,  2.5424],\n",
              "       [-2.237 ,  1.4931],\n",
              "       [-1.8993,  1.9799],\n",
              "       [-1.9821,  2.1225],\n",
              "       [-1.5546,  2.935 ],\n",
              "       [-2.0138,  2.13  ],\n",
              "       [-2.6703,  2.4536],\n",
              "       [-4.0763,  2.5482],\n",
              "       [-2.1484,  2.3438],\n",
              "       [-2.5665,  2.342 ],\n",
              "       [-2.8082,  1.6951],\n",
              "       [-2.5682,  2.3082],\n",
              "       [-2.7733,  2.5182],\n",
              "       [-2.2102,  2.4526],\n",
              "       [-2.3226,  2.1558],\n",
              "       [-2.0354,  2.7213],\n",
              "       [-1.0681,  3.5209],\n",
              "       [-1.1498,  3.3567],\n",
              "       [-1.08  ,  3.2958],\n",
              "       [-1.0542,  3.4031],\n",
              "       [-1.033 ,  3.3645],\n",
              "       [-1.1067,  3.4793],\n",
              "       [-1.0068,  3.5505],\n",
              "       [-1.0075,  3.2089],\n",
              "       [-1.0538,  3.3798],\n",
              "       [-0.985 ,  3.3684],\n",
              "       [-1.0918,  3.3882],\n",
              "       [-1.1791,  3.4601],\n",
              "       [-1.0039,  3.4614],\n",
              "       [-1.2402,  3.3053],\n",
              "       [-1.0357,  3.3117],\n",
              "       [-1.0564,  3.4578],\n",
              "       [-0.8066,  3.4534],\n",
              "       [-1.0643,  3.5227],\n",
              "       [-1.0027,  3.5641],\n",
              "       [-1.1572,  3.4807],\n",
              "       [-1.1166,  3.5132],\n",
              "       [-0.9805,  3.3335],\n",
              "       [-0.8516,  3.3555],\n",
              "       [-1.076 ,  3.4411],\n",
              "       [-0.8448,  3.2103],\n",
              "       [-1.073 ,  3.4821],\n",
              "       [-1.039 ,  3.3952],\n",
              "       [-1.0692,  3.5956],\n",
              "       [-1.2492,  3.3961],\n",
              "       [-1.1306,  3.3489],\n",
              "       [-1.0532,  3.4146],\n",
              "       [-0.9758,  3.6891],\n",
              "       [-1.0432,  3.267 ],\n",
              "       [-1.0349,  3.4871],\n",
              "       [-0.9621,  3.4335],\n",
              "       [-0.9611,  3.1801],\n",
              "       [-0.9632,  3.4894],\n",
              "       [-0.9695,  3.378 ],\n",
              "       [-1.0425,  3.4522],\n",
              "       [-0.951 ,  3.6104],\n",
              "       [-0.8351,  3.1463],\n",
              "       [-0.7765,  3.3949],\n",
              "       [-1.0098,  3.7191],\n",
              "       [-1.1122,  3.7663],\n",
              "       [-1.0118,  3.5502],\n",
              "       [-0.8661,  3.7044],\n",
              "       [-0.9247,  3.7037],\n",
              "       [-0.985 ,  3.7465]])"
            ]
          },
          "metadata": {
            "tags": []
          },
          "execution_count": 14
        }
      ]
    },
    {
      "cell_type": "markdown",
      "metadata": {
        "id": "8Fada3vVa8F8"
      },
      "source": [
        "Matplotlib cannot handle categorical variables directly. Thus, we encode every class as a number so that we can incorporate the class labels into our plot."
      ]
    },
    {
      "cell_type": "code",
      "metadata": {
        "id": "7TEMF4h6a_vT"
      },
      "source": [
        "le = LabelEncoder()\n",
        "y = le.fit_transform(df['class'])"
      ],
      "execution_count": 15,
      "outputs": []
    },
    {
      "cell_type": "code",
      "metadata": {
        "id": "S7SPH4q4bEv8",
        "outputId": "f755a999-d2de-4f0e-e214-e7e57f623c12",
        "colab": {
          "base_uri": "https://localhost:8080/",
          "height": 302
        }
      },
      "source": [
        "plt.xlabel('LD1')\n",
        "plt.ylabel('LD2')\n",
        "plt.scatter(\n",
        "    X_lda[:,0],\n",
        "    X_lda[:,1],\n",
        "    c=y,\n",
        "    cmap='rainbow',\n",
        "    alpha=0.7,\n",
        "    edgecolors='b'\n",
        ")"
      ],
      "execution_count": 16,
      "outputs": [
        {
          "output_type": "execute_result",
          "data": {
            "text/plain": [
              "<matplotlib.collections.PathCollection at 0x7fe9e5511e80>"
            ]
          },
          "metadata": {
            "tags": []
          },
          "execution_count": 16
        },
        {
          "output_type": "display_data",
          "data": {
            "image/png": "[encoded data removed]",
            "text/plain": [
              "<Figure size 432x288 with 1 Axes>"
            ]
          },
          "metadata": {
            "tags": [],
            "needs_background": "light"
          }
        }
      ]
    },
    {
      "cell_type": "markdown",
      "metadata": {
        "id": "aNQffBUTbPkS"
      },
      "source": [
        "Rather than implementing the Linear Discriminant Analysis algorithm from scratch every time, we can use the predefined LinearDiscriminantAnalysis class made available to us by the scikit-learn library."
      ]
    },
    {
      "cell_type": "code",
      "metadata": {
        "id": "szAxolimbRzz"
      },
      "source": [
        "from sklearn.discriminant_analysis import LinearDiscriminantAnalysis\n",
        "lda = LinearDiscriminantAnalysis()\n",
        "X_lda = lda.fit_transform(X, y)"
      ],
      "execution_count": 17,
      "outputs": []
    },
    {
      "cell_type": "code",
      "metadata": {
        "id": "7_t3PpY3bV1U",
        "outputId": "f8dc7379-2bed-483d-9578-5959588cc55f",
        "colab": {
          "base_uri": "https://localhost:8080/",
          "height": 34
        }
      },
      "source": [
        "lda.explained_variance_ratio_"
      ],
      "execution_count": 18,
      "outputs": [
        {
          "output_type": "execute_result",
          "data": {
            "text/plain": [
              "array([0.6875, 0.3125])"
            ]
          },
          "metadata": {
            "tags": []
          },
          "execution_count": 18
        }
      ]
    },
    {
      "cell_type": "code",
      "metadata": {
        "id": "TCRagmw9bgJM",
        "outputId": "e25452a6-f159-4bbb-aa6f-f16dcb4d7f28",
        "colab": {
          "base_uri": "https://localhost:8080/",
          "height": 302
        }
      },
      "source": [
        "plt.xlabel('LD1')\n",
        "plt.ylabel('LD2')\n",
        "plt.scatter(\n",
        "    X_lda[:,0],\n",
        "    X_lda[:,1],\n",
        "    c=y,\n",
        "    cmap='rainbow',\n",
        "    alpha=0.7,\n",
        "    edgecolors='b'\n",
        ")"
      ],
      "execution_count": 19,
      "outputs": [
        {
          "output_type": "execute_result",
          "data": {
            "text/plain": [
              "<matplotlib.collections.PathCollection at 0x7fe9e5015048>"
            ]
          },
          "metadata": {
            "tags": []
          },
          "execution_count": 19
        },
        {
          "output_type": "display_data",
          "data": {
            "image/png": "[encoded data removed]",
            "text/plain": [
              "<Figure size 432x288 with 1 Axes>"
            ]
          },
          "metadata": {
            "tags": [],
            "needs_background": "light"
          }
        }
      ]
    },
    {
      "cell_type": "markdown",
      "metadata": {
        "id": "2N9h7qALbmKo"
      },
      "source": [
        "Next, let’s take a look at how LDA compares to Principal Component Analysis or PCA. We start off by creating and fitting an instance of the PCA class."
      ]
    },
    {
      "cell_type": "code",
      "metadata": {
        "id": "1uvJc0R9boV_"
      },
      "source": [
        "from sklearn.decomposition import PCA\n",
        "pca = PCA(n_components=2)\n",
        "X_pca = pca.fit_transform(X, y)"
      ],
      "execution_count": 20,
      "outputs": []
    },
    {
      "cell_type": "code",
      "metadata": {
        "id": "e7zuxO9RbsSi",
        "outputId": "bf7418f0-ecfb-4253-83da-168ab8b5beb9",
        "colab": {
          "base_uri": "https://localhost:8080/",
          "height": 34
        }
      },
      "source": [
        "pca.explained_variance_ratio_"
      ],
      "execution_count": 21,
      "outputs": [
        {
          "output_type": "execute_result",
          "data": {
            "text/plain": [
              "array([0.9981, 0.0017])"
            ]
          },
          "metadata": {
            "tags": []
          },
          "execution_count": 21
        }
      ]
    },
    {
      "cell_type": "markdown",
      "metadata": {
        "id": "5fTByOAvb0bD"
      },
      "source": [
        "As we can see, PCA selected the components which would result in the highest spread (retain the most information) and not necessarily the ones which maximize the separation between classes.\n"
      ]
    },
    {
      "cell_type": "code",
      "metadata": {
        "id": "eUpWnqLDb2Y8",
        "outputId": "4bc23f45-99b9-44a5-8c32-c41174416db5",
        "colab": {
          "base_uri": "https://localhost:8080/",
          "height": 302
        }
      },
      "source": [
        "plt.xlabel('PC1')\n",
        "plt.ylabel('PC2')\n",
        "plt.scatter(\n",
        "    X_pca[:,0],\n",
        "    X_pca[:,1],\n",
        "    c=y,\n",
        "    cmap='rainbow',\n",
        "    alpha=0.7,\n",
        "    edgecolors='b'\n",
        ")"
      ],
      "execution_count": 22,
      "outputs": [
        {
          "output_type": "execute_result",
          "data": {
            "text/plain": [
              "<matplotlib.collections.PathCollection at 0x7fe9e4fcb780>"
            ]
          },
          "metadata": {
            "tags": []
          },
          "execution_count": 22
        },
        {
          "output_type": "display_data",
          "data": {
            "image/png": "[encoded data removed]",
            "text/plain": [
              "<Figure size 432x288 with 1 Axes>"
            ]
          },
          "metadata": {
            "tags": [],
            "needs_background": "light"
          }
        }
      ]
    },
    {
      "cell_type": "markdown",
      "metadata": {
        "id": "FKlhKrercDRD"
      },
      "source": [
        "Next, let’s create a model to classify the using the LDA components as features. First, we split the data into training and testing sets."
      ]
    },
    {
      "cell_type": "code",
      "metadata": {
        "id": "v0zq7uJ7cGWg"
      },
      "source": [
        "X_train, X_test, y_train, y_test = train_test_split(X_lda, y, random_state=1)"
      ],
      "execution_count": 23,
      "outputs": []
    },
    {
      "cell_type": "code",
      "metadata": {
        "id": "YQvhpIdTcNmd",
        "outputId": "291edf0a-463f-45ea-f03c-276a0dd516dc",
        "colab": {
          "base_uri": "https://localhost:8080/",
          "height": 68
        }
      },
      "source": [
        "dt = DecisionTreeClassifier()\n",
        "dt.fit(X_train, y_train)\n",
        "y_pred = dt.predict(X_test)\n",
        "confusion_matrix(y_test, y_pred)"
      ],
      "execution_count": 24,
      "outputs": [
        {
          "output_type": "execute_result",
          "data": {
            "text/plain": [
              "array([[18,  0,  0],\n",
              "       [ 0, 17,  0],\n",
              "       [ 0,  0, 10]])"
            ]
          },
          "metadata": {
            "tags": []
          },
          "execution_count": 24
        }
      ]
    },
    {
      "cell_type": "markdown",
      "metadata": {
        "id": "PuWUg3IrcV0_"
      },
      "source": [
        " The Decision Tree classifier correctly classified everything in the test set."
      ]
    }
  ]
}