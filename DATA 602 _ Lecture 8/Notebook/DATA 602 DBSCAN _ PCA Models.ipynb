{
  "nbformat": 4,
  "nbformat_minor": 0,
  "metadata": {
    "colab": {
      "name": "DATA 602 DBSCAN & PCA Models.ipynb",
      "provenance": [],
      "collapsed_sections": []
    },
    "kernelspec": {
      "name": "python3",
      "display_name": "Python 3"
    }
  },
  "cells": [
    {
      "cell_type": "markdown",
      "metadata": {
        "id": "4WeKkYcwHg30"
      },
      "source": [
        "**DBSCAN AND PCA Models**"
      ]
    },
    {
      "cell_type": "code",
      "metadata": {
        "id": "mOLxXNUxDCIn"
      },
      "source": [
        "import numpy as np \n",
        "import pandas as pd \n",
        "import matplotlib.pyplot as plt \n",
        "  \n",
        "from sklearn.cluster import DBSCAN \n",
        "from sklearn.preprocessing import StandardScaler \n",
        "from sklearn.preprocessing import normalize \n",
        "from sklearn.decomposition import PCA "
      ],
      "execution_count": null,
      "outputs": []
    },
    {
      "cell_type": "markdown",
      "metadata": {
        "id": "0hBEn-AOHtOK"
      },
      "source": [
        "Load the cc_general.csv file from the Data Files. Drop the 'Cust_ID' column. Handle the missing values with method='ffill'. "
      ]
    },
    {
      "cell_type": "code",
      "metadata": {
        "id": "XWJEDLepEHnn"
      },
      "source": [
        "X = pd.read_csv('/content/cc_general.csv') \n",
        "  \n",
        "# Dropping the CUST_ID column from the data \n",
        "X = X.drop('CUST_ID', axis = 1) \n",
        "  \n",
        "# Handling the missing values \n",
        "X.fillna(method ='ffill', inplace = True) \n",
        "  \n",
        "print(X.head()) "
      ],
      "execution_count": null,
      "outputs": []
    },
    {
      "cell_type": "markdown",
      "metadata": {
        "id": "gCGq8CPlHZxm"
      },
      "source": [
        "Scale the data, then normalize them and convert the numpy array into a pandas DataFrame"
      ]
    },
    {
      "cell_type": "code",
      "metadata": {
        "id": "vP6Mvo9cGjlZ"
      },
      "source": [
        "# Scaling the data to bring all the attributes to a comparable level \n",
        "scaler = StandardScaler() \n",
        "X_scaled = scaler.fit_transform(X) \n",
        "  \n",
        "# Normalizing the data so that  \n",
        "# the data approximately follows a Gaussian distribution \n",
        "X_normalized = normalize(X_scaled) \n",
        "  \n",
        "# Converting the numpy array into a pandas DataFrame \n",
        "X_normalized = pd.DataFrame(X_normalized) "
      ],
      "execution_count": null,
      "outputs": []
    },
    {
      "cell_type": "markdown",
      "metadata": {
        "id": "AlcjLXxGIUHw"
      },
      "source": [
        "Reducing the dimensionality of the data to make it visualizable. Use Principal Component Analysis do achieve that objective."
      ]
    },
    {
      "cell_type": "code",
      "metadata": {
        "id": "21eiozThGlqz"
      },
      "source": [
        "pca = PCA(n_components = 2) \n",
        "X_principal = pca.fit_transform(X_normalized) \n",
        "X_principal = pd.DataFrame(X_principal) \n",
        "X_principal.columns = ['P1', 'P2'] \n",
        "print(X_principal.head()) "
      ],
      "execution_count": null,
      "outputs": []
    },
    {
      "cell_type": "markdown",
      "metadata": {
        "id": "relMSct5IiJe"
      },
      "source": [
        "Build the clustering model. Set Epsilon to 0.0375."
      ]
    },
    {
      "cell_type": "code",
      "metadata": {
        "id": "vqERmeQYGwFv"
      },
      "source": [
        "# Numpy array of all the cluster labels assigned to each data point \n",
        "db_default = DBSCAN(eps = 0.0375, min_samples = 3).fit(X_principal) \n",
        "labels = db_default.labels_ "
      ],
      "execution_count": null,
      "outputs": []
    },
    {
      "cell_type": "markdown",
      "metadata": {
        "id": "pD3deIGmI_2N"
      },
      "source": [
        "Visualize the cluster"
      ]
    },
    {
      "cell_type": "code",
      "metadata": {
        "id": "lJf6P2NmG2l9"
      },
      "source": [
        "# Building the label to colour mapping \n",
        "colours = {} \n",
        "colours[0] = 'r'\n",
        "colours[1] = 'g'\n",
        "colours[2] = 'b'\n",
        "colours[-1] = 'k'\n",
        "  \n",
        "# Building the colour vector for each data point \n",
        "cvec = [colours[label] for label in labels] \n",
        "  \n",
        "# For the construction of the legend of the plot \n",
        "r = plt.scatter(X_principal['P1'], X_principal['P2'], color ='r'); \n",
        "g = plt.scatter(X_principal['P1'], X_principal['P2'], color ='g'); \n",
        "b = plt.scatter(X_principal['P1'], X_principal['P2'], color ='b'); \n",
        "k = plt.scatter(X_principal['P1'], X_principal['P2'], color ='k'); \n",
        "  \n",
        "# Plotting P1 on the X-Axis and P2 on the Y-Axis  \n",
        "# according to the colour vector defined \n",
        "plt.figure(figsize =(9, 9)) \n",
        "plt.scatter(X_principal['P1'], X_principal['P2'], c = cvec) \n",
        "  \n",
        "# Building the legend \n",
        "plt.legend((r, g, b, k), ('Label 0', 'Label 1', 'Label 2', 'Label -1')) \n",
        "  \n",
        "plt.show() "
      ],
      "execution_count": null,
      "outputs": []
    },
    {
      "cell_type": "markdown",
      "metadata": {
        "id": "jChx2pitJKOd"
      },
      "source": [
        "Tune the parameters of the model."
      ]
    },
    {
      "cell_type": "code",
      "metadata": {
        "id": "dnBXpEpdG9fA"
      },
      "source": [
        "db = DBSCAN(eps = 0.0375, min_samples = 50).fit(X_principal) \n",
        "labels1 = db.labels_ "
      ],
      "execution_count": null,
      "outputs": []
    },
    {
      "cell_type": "markdown",
      "metadata": {
        "id": "Spm3b348JRzn"
      },
      "source": [
        "Visualize the changes"
      ]
    },
    {
      "cell_type": "code",
      "metadata": {
        "id": "KQefbuOUHD_H"
      },
      "source": [
        "colours1 = {} \n",
        "colours1[0] = 'r'\n",
        "colours1[1] = 'g'\n",
        "colours1[2] = 'b'\n",
        "colours1[3] = 'c'\n",
        "colours1[4] = 'y'\n",
        "colours1[5] = 'm'\n",
        "colours1[-1] = 'k'\n",
        "  \n",
        "cvec = [colours1[label] for label in labels] \n",
        "colors = ['r', 'g', 'b', 'c', 'y', 'm', 'k' ] \n",
        "  \n",
        "r = plt.scatter( \n",
        "        X_principal['P1'], X_principal['P2'], marker ='o', color = colors[0]) \n",
        "g = plt.scatter( \n",
        "        X_principal['P1'], X_principal['P2'], marker ='o', color = colors[1]) \n",
        "b = plt.scatter( \n",
        "        X_principal['P1'], X_principal['P2'], marker ='o', color = colors[2]) \n",
        "c = plt.scatter( \n",
        "        X_principal['P1'], X_principal['P2'], marker ='o', color = colors[3]) \n",
        "y = plt.scatter( \n",
        "        X_principal['P1'], X_principal['P2'], marker ='o', color = colors[4]) \n",
        "m = plt.scatter( \n",
        "        X_principal['P1'], X_principal['P2'], marker ='o', color = colors[5]) \n",
        "k = plt.scatter( \n",
        "        X_principal['P1'], X_principal['P2'], marker ='o', color = colors[6]) \n",
        "  \n",
        "plt.figure(figsize =(9, 9)) \n",
        "plt.scatter(X_principal['P1'], X_principal['P2'], c = cvec) \n",
        "plt.legend((r, g, b, c, y, m, k), \n",
        "           ('Label 0', 'Label 1', 'Label 2', 'Label 3', 'Label 4', \n",
        "            'Label 5', 'Label -1'), \n",
        "           scatterpoints = 1, \n",
        "           loc ='upper left', \n",
        "           ncol = 3, \n",
        "           fontsize = 8) \n",
        "plt.show() "
      ],
      "execution_count": null,
      "outputs": []
    }
  ]
}