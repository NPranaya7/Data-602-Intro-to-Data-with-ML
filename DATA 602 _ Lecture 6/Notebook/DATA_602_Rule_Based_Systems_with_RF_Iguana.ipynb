{
  "nbformat": 4,
  "nbformat_minor": 0,
  "metadata": {
    "colab": {
      "name": "DATA 602 Rule-Based Systems with RF Iguana.ipynb",
      "provenance": [],
      "collapsed_sections": []
    },
    "kernelspec": {
      "name": "python3",
      "display_name": "Python 3"
    },
    "language_info": {
      "name": "python"
    }
  },
  "cells": [
    {
      "cell_type": "markdown",
      "source": [
        "Rules and Rules-Based Systems (RBS) are used extensively in many areas, from fraud detection to predicting customer churn. Despite having many advantages, there are also numerous disadvantages associated with deploying and maintaining an RBS."
      ],
      "metadata": {
        "id": "g8qEjxYN46jX"
      }
    },
    {
      "cell_type": "code",
      "execution_count": 1,
      "metadata": {
        "colab": {
          "base_uri": "https://localhost:8080/"
        },
        "id": "rR5E3Wy319Kj",
        "outputId": "ab09f803-dcac-4814-a4ab-30959bd52445"
      },
      "outputs": [
        {
          "output_type": "stream",
          "name": "stdout",
          "text": [
            "Collecting iguanas\n",
            "  Downloading iguanas-0.1.4-py3-none-any.whl (107 kB)\n",
            "\u001b[K     |████████████████████████████████| 107 kB 5.6 MB/s \n",
            "\u001b[?25hCollecting category-encoders>=2.0.0\n",
            "  Downloading category_encoders-2.4.0-py2.py3-none-any.whl (86 kB)\n",
            "\u001b[K     |████████████████████████████████| 86 kB 2.4 MB/s \n",
            "\u001b[?25hRequirement already satisfied: seaborn>=0.9.0 in /usr/local/lib/python3.7/dist-packages (from iguanas) (0.11.2)\n",
            "Requirement already satisfied: scikit-learn>=0.23.2 in /usr/local/lib/python3.7/dist-packages (from iguanas) (1.0.2)\n",
            "Collecting hyperopt==0.2.5\n",
            "  Downloading hyperopt-0.2.5-py2.py3-none-any.whl (965 kB)\n",
            "\u001b[K     |████████████████████████████████| 965 kB 33.8 MB/s \n",
            "\u001b[?25hRequirement already satisfied: joblib>=1.1.0 in /usr/local/lib/python3.7/dist-packages (from iguanas) (1.1.0)\n",
            "Requirement already satisfied: pandas>=1.1.4 in /usr/local/lib/python3.7/dist-packages (from iguanas) (1.3.5)\n",
            "Requirement already satisfied: scipy in /usr/local/lib/python3.7/dist-packages (from hyperopt==0.2.5->iguanas) (1.4.1)\n",
            "Requirement already satisfied: cloudpickle in /usr/local/lib/python3.7/dist-packages (from hyperopt==0.2.5->iguanas) (1.3.0)\n",
            "Requirement already satisfied: tqdm in /usr/local/lib/python3.7/dist-packages (from hyperopt==0.2.5->iguanas) (4.63.0)\n",
            "Requirement already satisfied: networkx>=2.2 in /usr/local/lib/python3.7/dist-packages (from hyperopt==0.2.5->iguanas) (2.6.3)\n",
            "Requirement already satisfied: six in /usr/local/lib/python3.7/dist-packages (from hyperopt==0.2.5->iguanas) (1.15.0)\n",
            "Requirement already satisfied: future in /usr/local/lib/python3.7/dist-packages (from hyperopt==0.2.5->iguanas) (0.16.0)\n",
            "Requirement already satisfied: numpy in /usr/local/lib/python3.7/dist-packages (from hyperopt==0.2.5->iguanas) (1.21.5)\n",
            "Requirement already satisfied: patsy>=0.5.1 in /usr/local/lib/python3.7/dist-packages (from category-encoders>=2.0.0->iguanas) (0.5.2)\n",
            "Requirement already satisfied: statsmodels>=0.9.0 in /usr/local/lib/python3.7/dist-packages (from category-encoders>=2.0.0->iguanas) (0.10.2)\n",
            "Requirement already satisfied: pytz>=2017.3 in /usr/local/lib/python3.7/dist-packages (from pandas>=1.1.4->iguanas) (2018.9)\n",
            "Requirement already satisfied: python-dateutil>=2.7.3 in /usr/local/lib/python3.7/dist-packages (from pandas>=1.1.4->iguanas) (2.8.2)\n",
            "Requirement already satisfied: threadpoolctl>=2.0.0 in /usr/local/lib/python3.7/dist-packages (from scikit-learn>=0.23.2->iguanas) (3.1.0)\n",
            "Requirement already satisfied: matplotlib>=2.2 in /usr/local/lib/python3.7/dist-packages (from seaborn>=0.9.0->iguanas) (3.2.2)\n",
            "Requirement already satisfied: pyparsing!=2.0.4,!=2.1.2,!=2.1.6,>=2.0.1 in /usr/local/lib/python3.7/dist-packages (from matplotlib>=2.2->seaborn>=0.9.0->iguanas) (3.0.7)\n",
            "Requirement already satisfied: kiwisolver>=1.0.1 in /usr/local/lib/python3.7/dist-packages (from matplotlib>=2.2->seaborn>=0.9.0->iguanas) (1.4.0)\n",
            "Requirement already satisfied: cycler>=0.10 in /usr/local/lib/python3.7/dist-packages (from matplotlib>=2.2->seaborn>=0.9.0->iguanas) (0.11.0)\n",
            "Requirement already satisfied: typing-extensions in /usr/local/lib/python3.7/dist-packages (from kiwisolver>=1.0.1->matplotlib>=2.2->seaborn>=0.9.0->iguanas) (3.10.0.2)\n",
            "Installing collected packages: hyperopt, category-encoders, iguanas\n",
            "  Attempting uninstall: hyperopt\n",
            "    Found existing installation: hyperopt 0.1.2\n",
            "    Uninstalling hyperopt-0.1.2:\n",
            "      Successfully uninstalled hyperopt-0.1.2\n",
            "Successfully installed category-encoders-2.4.0 hyperopt-0.2.5 iguanas-0.1.4\n"
          ]
        }
      ],
      "source": [
        "!pip install iguanas"
      ]
    },
    {
      "cell_type": "code",
      "source": [
        "!pip install pyspark"
      ],
      "metadata": {
        "colab": {
          "base_uri": "https://localhost:8080/"
        },
        "id": "yj6EmPQV2Pwa",
        "outputId": "211f500f-b863-4e68-9c4b-938ab9ccdae9"
      },
      "execution_count": 3,
      "outputs": [
        {
          "output_type": "stream",
          "name": "stdout",
          "text": [
            "Collecting pyspark\n",
            "  Downloading pyspark-3.2.1.tar.gz (281.4 MB)\n",
            "\u001b[K     |████████████████████████████████| 281.4 MB 34 kB/s \n",
            "\u001b[?25hCollecting py4j==0.10.9.3\n",
            "  Downloading py4j-0.10.9.3-py2.py3-none-any.whl (198 kB)\n",
            "\u001b[K     |████████████████████████████████| 198 kB 42.2 MB/s \n",
            "\u001b[?25hBuilding wheels for collected packages: pyspark\n",
            "  Building wheel for pyspark (setup.py) ... \u001b[?25l\u001b[?25hdone\n",
            "  Created wheel for pyspark: filename=pyspark-3.2.1-py2.py3-none-any.whl size=281853642 sha256=6d0ee1b3d9d0a74534e51b63215cff6cc039ef2b36d07b75e06c4096751555ca\n",
            "  Stored in directory: /root/.cache/pip/wheels/9f/f5/07/7cd8017084dce4e93e84e92efd1e1d5334db05f2e83bcef74f\n",
            "Successfully built pyspark\n",
            "Installing collected packages: py4j, pyspark\n",
            "Successfully installed py4j-0.10.9.3 pyspark-3.2.1\n"
          ]
        }
      ]
    },
    {
      "cell_type": "code",
      "source": [
        "from iguanas.rule_generation import RuleGeneratorDT\n",
        "from iguanas.rule_selection import SimpleFilter, CorrelatedFilter, BayesSearchCV\n",
        "from iguanas.metrics import FScore, JaccardSimilarity\n",
        "from iguanas.rbs import RBSOptimiser, RBSPipeline\n",
        "from iguanas.correlation_reduction import AgglomerativeClusteringReducer\n",
        "from iguanas.pipeline import LinearPipeline\n",
        "from iguanas.pipeline.class_accessor import ClassAccessor\n",
        "from iguanas.space import UniformFloat, UniformInteger, Choice\n",
        "\n",
        "import pandas as pd\n",
        "from sklearn.model_selection import train_test_split\n",
        "from category_encoders.one_hot import OneHotEncoder\n",
        "from sklearn.ensemble import RandomForestClassifier"
      ],
      "metadata": {
        "colab": {
          "base_uri": "https://localhost:8080/"
        },
        "id": "YEQTLFQ92Bs-",
        "outputId": "0fef862a-502f-476d-f1ba-68d5fe0f193b"
      },
      "execution_count": 4,
      "outputs": [
        {
          "output_type": "stream",
          "name": "stderr",
          "text": [
            "/usr/local/lib/python3.7/dist-packages/statsmodels/tools/_testing.py:19: FutureWarning: pandas.util.testing is deprecated. Use the functions in the public API at pandas.testing instead.\n",
            "  import pandas.util.testing as tm\n"
          ]
        }
      ]
    },
    {
      "cell_type": "code",
      "source": [
        "# Read in data\n",
        "df = pd.read_csv(\n",
        "    '/content/titanic.csv', \n",
        "    index_col='PassengerId'\n",
        ")\n",
        "\n",
        "# Create feature set and target.\n",
        "target_col = 'Survived'\n",
        "X = df.drop(\n",
        "    target_col, \n",
        "    axis=1\n",
        ")\n",
        "y = df[target_col]\n",
        "\n",
        "# Drop unnecessary columns\n",
        "cols_to_drop = ['Name', 'Ticket', 'Cabin']\n",
        "X.drop(\n",
        "    cols_to_drop, \n",
        "    axis=1, \n",
        "    inplace=True\n",
        ")\n",
        "\n",
        "# Create training and test sets\n",
        "X_train, X_test, y_train, y_test = train_test_split(\n",
        "    X,\n",
        "    y,\n",
        "    test_size=0.33,\n",
        "    random_state=42\n",
        ")"
      ],
      "metadata": {
        "id": "f12FOKbb2iQ7"
      },
      "execution_count": 5,
      "outputs": []
    },
    {
      "cell_type": "code",
      "source": [
        "# One hot encode\n",
        "encoder = OneHotEncoder(\n",
        "    use_cat_names=True\n",
        ")\n",
        "X_train = encoder.fit_transform(X_train)\n",
        "X_test = encoder.transform(X_test)\n",
        "\n",
        "# Impute\n",
        "X_train.fillna(-1, inplace=True)\n",
        "X_test.fillna(-1, inplace=True)"
      ],
      "metadata": {
        "id": "w9kL6ksY2402"
      },
      "execution_count": 6,
      "outputs": []
    },
    {
      "cell_type": "code",
      "source": [
        "# Instantiate F1 score\n",
        "f1 = FScore(beta=1)\n",
        "# Instantiate rule generator class\n",
        "generator = RuleGeneratorDT(\n",
        "    metric=f1.fit,\n",
        "    n_total_conditions=4,\n",
        "    tree_ensemble=RandomForestClassifier(\n",
        "        n_estimators=10,\n",
        "        random_state=0\n",
        "    )\n",
        ")\n",
        "# Generate rules using X_train, y_train\n",
        "X_rules = generator.fit(X_train, y_train)\n",
        "# Instantiate RBS Pipeline class\n",
        "rbs_pipeline = RBSPipeline(\n",
        "    config=[], # Empty list means that the RBSOptimiser will generate a new rule config\n",
        "    final_decision=0\n",
        ")\n",
        "# Instantiate RBS Optimiser class, using the RBS Pipeline above\n",
        "rbs_optimiser = RBSOptimiser(\n",
        "    pipeline=rbs_pipeline,\n",
        "    metric=f1.fit, \n",
        "    pos_pred_rules=ClassAccessor(\n",
        "        class_tag='generator', \n",
        "        class_attribute='rule_names'\n",
        "    ),\n",
        "    n_iter=10\n",
        ")\n",
        "# Optimise the RBS Pipeline using the generated rules\n",
        "rbs_optimiser.fit(X_rules, y_train)"
      ],
      "metadata": {
        "id": "Bde5epmZ3AJU"
      },
      "execution_count": 7,
      "outputs": []
    },
    {
      "cell_type": "code",
      "source": [
        "# Instantiate F1 score\n",
        "f1 = FScore(beta=1)\n",
        "# Instantiate rule generator class\n",
        "generator = RuleGeneratorDT(\n",
        "    metric=f1.fit,\n",
        "    n_total_conditions=4,\n",
        "    tree_ensemble=RandomForestClassifier(\n",
        "        n_estimators=10,\n",
        "        random_state=0\n",
        "    )\n",
        ")\n",
        "# Instantiate RBS Pipeline class\n",
        "rbs_pipeline = RBSPipeline(\n",
        "    config=[], # Empty list means that the RBSOptimiser will generate a new rule config\n",
        "    final_decision=0\n",
        ")\n",
        "# Instantiate RBS Optimiser class, using the RBS Pipeline above\n",
        "rbs_optimiser = RBSOptimiser(\n",
        "    pipeline=rbs_pipeline,\n",
        "    metric=f1.fit, \n",
        "    pos_pred_rules=ClassAccessor(\n",
        "        class_tag='generator', \n",
        "        class_attribute='rule_names'\n",
        "    ),\n",
        "    n_iter=10\n",
        ")\n",
        "# Create the steps for our linear pipeline\n",
        "steps = [\n",
        "    ('generator', generator),\n",
        "    ('rbs_optimiser', rbs_optimiser)\n",
        "]\n",
        "# Instantiate the linear pipeline class\n",
        "lp = LinearPipeline(steps=steps)"
      ],
      "metadata": {
        "id": "fnmzzWCM3NvR"
      },
      "execution_count": 8,
      "outputs": []
    },
    {
      "cell_type": "code",
      "source": [
        "# Define search space for linear pipeline\n",
        "search_spaces = {\n",
        "    'generator': {\n",
        "        'n_total_conditions': UniformInteger(1, 5),\n",
        "        'target_feat_corr_types': Choice([\n",
        "            'Infer',\n",
        "            None\n",
        "        ])\n",
        "    },\n",
        "    'rbs_optimiser': {\n",
        "        'n_iter': UniformInteger(5, 20)\n",
        "    }\n",
        "}"
      ],
      "metadata": {
        "id": "6mO30FUB3WXy"
      },
      "execution_count": 9,
      "outputs": []
    },
    {
      "cell_type": "code",
      "source": [
        "# Instantiate Bayes Search CV class\n",
        "bs = BayesSearchCV(\n",
        "    pipeline=lp, \n",
        "    search_spaces=search_spaces, \n",
        "    metric=f1.fit, \n",
        "    cv=3, \n",
        "    n_iter=15,\n",
        "    num_cores=3,\n",
        "    error_score=0,\n",
        "    verbose=1\n",
        ")\n",
        "# Fit on training data\n",
        "bs.fit(X_train, y_train)"
      ],
      "metadata": {
        "colab": {
          "base_uri": "https://localhost:8080/"
        },
        "id": "AbnNv1Xm3fYe",
        "outputId": "f6088f2b-420b-4261-ad90-b3a0027070ee"
      },
      "execution_count": 10,
      "outputs": [
        {
          "output_type": "stream",
          "name": "stdout",
          "text": [
            "--- Optimising pipeline parameters ---\n",
            "100%|██████████| 15/15 [06:30<00:00, 26.07s/trial, best loss: -0.6447698369569125]\n",
            "--- Refitting on entire dataset with best pipeline ---\n"
          ]
        }
      ]
    },
    {
      "cell_type": "code",
      "source": [
        "# Fit our original pipeline to the training set\n",
        "lp.fit(X_train, y_train)"
      ],
      "metadata": {
        "id": "Jd4j7Yeb39d1"
      },
      "execution_count": 12,
      "outputs": []
    },
    {
      "cell_type": "code",
      "source": [
        "# Predict on the test set using our fitted, original pipeline\n",
        "y_pred_test_init = lp.predict(X_test)\n",
        "# Predict on the test set using our optimised pipeline\n",
        "y_pred_test_opt = bs.predict(X_test)\n",
        "# Calculate F1 score of original pipeline prediction\n",
        "f1_init = f1.fit(y_pred_test_init, y_test)\n",
        "# Calculate F1 score of optimised pipeline prediction\n",
        "f1_opt = f1.fit(y_pred_test_opt, y_test)\n",
        "# Print results\n",
        "print(f'F1 score of original pipeline: {round(f1_init, 2)}')\n",
        "print(f'F1 score of optimised pipeline: {round(f1_opt, 2)}')\n",
        "print(f'Percentage improvement in F1 score: {round(100*(f1_opt-f1_init)/f1_init, 2)}%')"
      ],
      "metadata": {
        "colab": {
          "base_uri": "https://localhost:8080/"
        },
        "id": "lJFr-sHm3-On",
        "outputId": "89551628-9e83-485d-f08f-9ceb2923974e"
      },
      "execution_count": 13,
      "outputs": [
        {
          "output_type": "stream",
          "name": "stdout",
          "text": [
            "F1 score of original pipeline: 0.58\n",
            "F1 score of optimised pipeline: 0.68\n",
            "Percentage improvement in F1 score: 17.49%\n"
          ]
        }
      ]
    },
    {
      "cell_type": "code",
      "source": [
        "bs.cv_results.head()"
      ],
      "metadata": {
        "colab": {
          "base_uri": "https://localhost:8080/",
          "height": 444
        },
        "id": "fQn9FnJJ5mxP",
        "outputId": "18f23652-3fa6-4506-ef7e-ef5e625b79f0"
      },
      "execution_count": 14,
      "outputs": [
        {
          "output_type": "execute_result",
          "data": {
            "text/plain": [
              "                                               Params  \\\n",
              "0   {'generator': {'n_total_conditions': 2.0, 'tar...   \n",
              "8   {'generator': {'n_total_conditions': 2.0, 'tar...   \n",
              "10  {'generator': {'n_total_conditions': 2.0, 'tar...   \n",
              "13  {'generator': {'n_total_conditions': 2.0, 'tar...   \n",
              "6   {'generator': {'n_total_conditions': 3.0, 'tar...   \n",
              "\n",
              "    generator__n_total_conditions generator__target_feat_corr_types  \\\n",
              "0                             2.0                             Infer   \n",
              "8                             2.0                             Infer   \n",
              "10                            2.0                             Infer   \n",
              "13                            2.0                             Infer   \n",
              "6                             3.0                             Infer   \n",
              "\n",
              "    rbs_optimiser__n_iter    FoldIdx  \\\n",
              "0                    12.0  [0, 1, 2]   \n",
              "8                    13.0  [0, 1, 2]   \n",
              "10                   11.0  [0, 1, 2]   \n",
              "13                   11.0  [0, 1, 2]   \n",
              "6                    18.0  [0, 1, 2]   \n",
              "\n",
              "                                               Scores  MeanScore  StdDevScore  \n",
              "0   [0.6160714285714286, 0.6994535519125683, 0.618...   0.644770     0.038683  \n",
              "8   [0.6160714285714286, 0.6994535519125683, 0.618...   0.644770     0.038683  \n",
              "10  [0.6160714285714286, 0.6994535519125683, 0.618...   0.644770     0.038683  \n",
              "13  [0.6160714285714286, 0.6994535519125683, 0.618...   0.644770     0.038683  \n",
              "6   [0.5670498084291188, 0.5795918367346938, 0.603...   0.583415     0.015166  "
            ],
            "text/html": [
              "\n",
              "  <div id=\"df-ea633c99-f910-4e7f-babb-3c96cd74a26d\">\n",
              "    <div class=\"colab-df-container\">\n",
              "      <div>\n",
              "<style scoped>\n",
              "    .dataframe tbody tr th:only-of-type {\n",
              "        vertical-align: middle;\n",
              "    }\n",
              "\n",
              "    .dataframe tbody tr th {\n",
              "        vertical-align: top;\n",
              "    }\n",
              "\n",
              "    .dataframe thead th {\n",
              "        text-align: right;\n",
              "    }\n",
              "</style>\n",
              "<table border=\"1\" class=\"dataframe\">\n",
              "  <thead>\n",
              "    <tr style=\"text-align: right;\">\n",
              "      <th></th>\n",
              "      <th>Params</th>\n",
              "      <th>generator__n_total_conditions</th>\n",
              "      <th>generator__target_feat_corr_types</th>\n",
              "      <th>rbs_optimiser__n_iter</th>\n",
              "      <th>FoldIdx</th>\n",
              "      <th>Scores</th>\n",
              "      <th>MeanScore</th>\n",
              "      <th>StdDevScore</th>\n",
              "    </tr>\n",
              "  </thead>\n",
              "  <tbody>\n",
              "    <tr>\n",
              "      <th>0</th>\n",
              "      <td>{'generator': {'n_total_conditions': 2.0, 'tar...</td>\n",
              "      <td>2.0</td>\n",
              "      <td>Infer</td>\n",
              "      <td>12.0</td>\n",
              "      <td>[0, 1, 2]</td>\n",
              "      <td>[0.6160714285714286, 0.6994535519125683, 0.618...</td>\n",
              "      <td>0.644770</td>\n",
              "      <td>0.038683</td>\n",
              "    </tr>\n",
              "    <tr>\n",
              "      <th>8</th>\n",
              "      <td>{'generator': {'n_total_conditions': 2.0, 'tar...</td>\n",
              "      <td>2.0</td>\n",
              "      <td>Infer</td>\n",
              "      <td>13.0</td>\n",
              "      <td>[0, 1, 2]</td>\n",
              "      <td>[0.6160714285714286, 0.6994535519125683, 0.618...</td>\n",
              "      <td>0.644770</td>\n",
              "      <td>0.038683</td>\n",
              "    </tr>\n",
              "    <tr>\n",
              "      <th>10</th>\n",
              "      <td>{'generator': {'n_total_conditions': 2.0, 'tar...</td>\n",
              "      <td>2.0</td>\n",
              "      <td>Infer</td>\n",
              "      <td>11.0</td>\n",
              "      <td>[0, 1, 2]</td>\n",
              "      <td>[0.6160714285714286, 0.6994535519125683, 0.618...</td>\n",
              "      <td>0.644770</td>\n",
              "      <td>0.038683</td>\n",
              "    </tr>\n",
              "    <tr>\n",
              "      <th>13</th>\n",
              "      <td>{'generator': {'n_total_conditions': 2.0, 'tar...</td>\n",
              "      <td>2.0</td>\n",
              "      <td>Infer</td>\n",
              "      <td>11.0</td>\n",
              "      <td>[0, 1, 2]</td>\n",
              "      <td>[0.6160714285714286, 0.6994535519125683, 0.618...</td>\n",
              "      <td>0.644770</td>\n",
              "      <td>0.038683</td>\n",
              "    </tr>\n",
              "    <tr>\n",
              "      <th>6</th>\n",
              "      <td>{'generator': {'n_total_conditions': 3.0, 'tar...</td>\n",
              "      <td>3.0</td>\n",
              "      <td>Infer</td>\n",
              "      <td>18.0</td>\n",
              "      <td>[0, 1, 2]</td>\n",
              "      <td>[0.5670498084291188, 0.5795918367346938, 0.603...</td>\n",
              "      <td>0.583415</td>\n",
              "      <td>0.015166</td>\n",
              "    </tr>\n",
              "  </tbody>\n",
              "</table>\n",
              "</div>\n",
              "      <button class=\"colab-df-convert\" onclick=\"convertToInteractive('df-ea633c99-f910-4e7f-babb-3c96cd74a26d')\"\n",
              "              title=\"Convert this dataframe to an interactive table.\"\n",
              "              style=\"display:none;\">\n",
              "        \n",
              "  <svg xmlns=\"http://www.w3.org/2000/svg\" height=\"24px\"viewBox=\"0 0 24 24\"\n",
              "       width=\"24px\">\n",
              "    <path d=\"M0 0h24v24H0V0z\" fill=\"none\"/>\n",
              "    <path d=\"M18.56 5.44l.94 2.06.94-2.06 2.06-.94-2.06-.94-.94-2.06-.94 2.06-2.06.94zm-11 1L8.5 8.5l.94-2.06 2.06-.94-2.06-.94L8.5 2.5l-.94 2.06-2.06.94zm10 10l.94 2.06.94-2.06 2.06-.94-2.06-.94-.94-2.06-.94 2.06-2.06.94z\"/><path d=\"M17.41 7.96l-1.37-1.37c-.4-.4-.92-.59-1.43-.59-.52 0-1.04.2-1.43.59L10.3 9.45l-7.72 7.72c-.78.78-.78 2.05 0 2.83L4 21.41c.39.39.9.59 1.41.59.51 0 1.02-.2 1.41-.59l7.78-7.78 2.81-2.81c.8-.78.8-2.07 0-2.86zM5.41 20L4 18.59l7.72-7.72 1.47 1.35L5.41 20z\"/>\n",
              "  </svg>\n",
              "      </button>\n",
              "      \n",
              "  <style>\n",
              "    .colab-df-container {\n",
              "      display:flex;\n",
              "      flex-wrap:wrap;\n",
              "      gap: 12px;\n",
              "    }\n",
              "\n",
              "    .colab-df-convert {\n",
              "      background-color: #E8F0FE;\n",
              "      border: none;\n",
              "      border-radius: 50%;\n",
              "      cursor: pointer;\n",
              "      display: none;\n",
              "      fill: #1967D2;\n",
              "      height: 32px;\n",
              "      padding: 0 0 0 0;\n",
              "      width: 32px;\n",
              "    }\n",
              "\n",
              "    .colab-df-convert:hover {\n",
              "      background-color: #E2EBFA;\n",
              "      box-shadow: 0px 1px 2px rgba(60, 64, 67, 0.3), 0px 1px 3px 1px rgba(60, 64, 67, 0.15);\n",
              "      fill: #174EA6;\n",
              "    }\n",
              "\n",
              "    [theme=dark] .colab-df-convert {\n",
              "      background-color: #3B4455;\n",
              "      fill: #D2E3FC;\n",
              "    }\n",
              "\n",
              "    [theme=dark] .colab-df-convert:hover {\n",
              "      background-color: #434B5C;\n",
              "      box-shadow: 0px 1px 3px 1px rgba(0, 0, 0, 0.15);\n",
              "      filter: drop-shadow(0px 1px 2px rgba(0, 0, 0, 0.3));\n",
              "      fill: #FFFFFF;\n",
              "    }\n",
              "  </style>\n",
              "\n",
              "      <script>\n",
              "        const buttonEl =\n",
              "          document.querySelector('#df-ea633c99-f910-4e7f-babb-3c96cd74a26d button.colab-df-convert');\n",
              "        buttonEl.style.display =\n",
              "          google.colab.kernel.accessAllowed ? 'block' : 'none';\n",
              "\n",
              "        async function convertToInteractive(key) {\n",
              "          const element = document.querySelector('#df-ea633c99-f910-4e7f-babb-3c96cd74a26d');\n",
              "          const dataTable =\n",
              "            await google.colab.kernel.invokeFunction('convertToInteractive',\n",
              "                                                     [key], {});\n",
              "          if (!dataTable) return;\n",
              "\n",
              "          const docLinkHtml = 'Like what you see? Visit the ' +\n",
              "            '<a target=\"_blank\" href=https://colab.research.google.com/notebooks/data_table.ipynb>data table notebook</a>'\n",
              "            + ' to learn more about interactive tables.';\n",
              "          element.innerHTML = '';\n",
              "          dataTable['output_type'] = 'display_data';\n",
              "          await google.colab.output.renderOutput(dataTable, element);\n",
              "          const docLink = document.createElement('div');\n",
              "          docLink.innerHTML = docLinkHtml;\n",
              "          element.appendChild(docLink);\n",
              "        }\n",
              "      </script>\n",
              "    </div>\n",
              "  </div>\n",
              "  "
            ]
          },
          "metadata": {},
          "execution_count": 14
        }
      ]
    },
    {
      "cell_type": "code",
      "source": [
        "bs.best_score"
      ],
      "metadata": {
        "colab": {
          "base_uri": "https://localhost:8080/"
        },
        "id": "Xi1XHNMT6Xb4",
        "outputId": "f52da03d-b8f5-4041-e0d7-bef7b503dbbe"
      },
      "execution_count": 16,
      "outputs": [
        {
          "output_type": "execute_result",
          "data": {
            "text/plain": [
              "0.6447698369569125"
            ]
          },
          "metadata": {},
          "execution_count": 16
        }
      ]
    },
    {
      "cell_type": "code",
      "source": [
        "bs.best_index"
      ],
      "metadata": {
        "colab": {
          "base_uri": "https://localhost:8080/"
        },
        "id": "UQ896N576fIQ",
        "outputId": "9eca9e92-353f-4238-e116-104e02e4b4f6"
      },
      "execution_count": 17,
      "outputs": [
        {
          "output_type": "execute_result",
          "data": {
            "text/plain": [
              "0"
            ]
          },
          "metadata": {},
          "execution_count": 17
        }
      ]
    },
    {
      "cell_type": "code",
      "source": [
        "bs.best_params"
      ],
      "metadata": {
        "colab": {
          "base_uri": "https://localhost:8080/"
        },
        "id": "iPy867jU6ivR",
        "outputId": "4d4d0749-75f9-42d9-bf09-c7fda9c70f80"
      },
      "execution_count": 18,
      "outputs": [
        {
          "output_type": "execute_result",
          "data": {
            "text/plain": [
              "{'generator': {'n_total_conditions': 2.0, 'target_feat_corr_types': 'Infer'},\n",
              " 'rbs_optimiser': {'n_iter': 12.0}}"
            ]
          },
          "metadata": {},
          "execution_count": 18
        }
      ]
    },
    {
      "cell_type": "code",
      "source": [
        "# Access the rule_strings attribute from the generator step in the optimised pipeline\n",
        "rule_strings = bs.pipeline_.get_params()\n",
        "# Access the rules_to_keep attribute from the rbs_optimiser step in the optimised pipeline\n",
        "rules_to_keep = bs.pipeline_.get_params()\n",
        "# Filter the generated rules to those remaining after the rbs_optimiser step\n",
        "rule_strings_remaining = {\n",
        "    rule_name: rule_string for rule_name, rule_string in rule_strings.items() if rule_name in rules_to_keep\n",
        "}\n",
        "# Show the string representation of the rules remaining after the rbs_optimiser step\n",
        "rule_strings_remaining"
      ],
      "metadata": {
        "colab": {
          "base_uri": "https://localhost:8080/"
        },
        "id": "4WsJweuo34Zg",
        "outputId": "5465cad0-2794-4393-fff9-62112794534b"
      },
      "execution_count": 21,
      "outputs": [
        {
          "output_type": "execute_result",
          "data": {
            "text/plain": [
              "{'generator': {'_rule_name_counter': 19,\n",
              "  '_today': '20220411',\n",
              "  'infer_dtypes': True,\n",
              "  'lambda_args': {'RGDT_Rule_20220411_0': [],\n",
              "   'RGDT_Rule_20220411_1': [],\n",
              "   'RGDT_Rule_20220411_10': [],\n",
              "   'RGDT_Rule_20220411_11': [],\n",
              "   'RGDT_Rule_20220411_12': [],\n",
              "   'RGDT_Rule_20220411_13': [],\n",
              "   'RGDT_Rule_20220411_14': [],\n",
              "   'RGDT_Rule_20220411_15': [],\n",
              "   'RGDT_Rule_20220411_16': [],\n",
              "   'RGDT_Rule_20220411_17': [],\n",
              "   'RGDT_Rule_20220411_18': [],\n",
              "   'RGDT_Rule_20220411_2': [],\n",
              "   'RGDT_Rule_20220411_3': [],\n",
              "   'RGDT_Rule_20220411_4': [],\n",
              "   'RGDT_Rule_20220411_5': [],\n",
              "   'RGDT_Rule_20220411_6': [],\n",
              "   'RGDT_Rule_20220411_7': [],\n",
              "   'RGDT_Rule_20220411_8': [],\n",
              "   'RGDT_Rule_20220411_9': []},\n",
              "  'lambda_kwargs': {'RGDT_Rule_20220411_0': {'Age': -0.125},\n",
              "   'RGDT_Rule_20220411_1': {'Age': 35.5},\n",
              "   'RGDT_Rule_20220411_10': {'Fare': 79.025},\n",
              "   'RGDT_Rule_20220411_11': {'Fare': 79.025},\n",
              "   'RGDT_Rule_20220411_12': {'Parch': 1},\n",
              "   'RGDT_Rule_20220411_13': {'Parch': 2},\n",
              "   'RGDT_Rule_20220411_14': {'Pclass': 1},\n",
              "   'RGDT_Rule_20220411_15': {'Pclass': 2},\n",
              "   'RGDT_Rule_20220411_16': {'Pclass': 2},\n",
              "   'RGDT_Rule_20220411_17': {},\n",
              "   'RGDT_Rule_20220411_18': {},\n",
              "   'RGDT_Rule_20220411_2': {},\n",
              "   'RGDT_Rule_20220411_3': {},\n",
              "   'RGDT_Rule_20220411_4': {},\n",
              "   'RGDT_Rule_20220411_5': {},\n",
              "   'RGDT_Rule_20220411_6': {'Fare': 11.89375},\n",
              "   'RGDT_Rule_20220411_7': {'Fare': 11.89375, 'Pclass': 2},\n",
              "   'RGDT_Rule_20220411_8': {'Fare': 52.2771},\n",
              "   'RGDT_Rule_20220411_9': {'Fare': 52.2771, 'Pclass': 2}},\n",
              "  'metric': <bound method FScore.fit of FScore with beta=1>,\n",
              "  'n_total_conditions': 2.0,\n",
              "  'num_cores': 1,\n",
              "  'precision_threshold': 0,\n",
              "  'rule_dicts': {'RGDT_Rule_20220411_0': {'condition': 'AND',\n",
              "    'rules': [{'field': 'Age', 'operator': 'greater', 'value': -0.125},\n",
              "     {'field': 'Embarked_C', 'operator': 'equal', 'value': True}]},\n",
              "   'RGDT_Rule_20220411_1': {'condition': 'AND',\n",
              "    'rules': [{'field': 'Age', 'operator': 'greater', 'value': 35.5}]},\n",
              "   'RGDT_Rule_20220411_10': {'condition': 'AND',\n",
              "    'rules': [{'field': 'Fare', 'operator': 'greater', 'value': 79.025}]},\n",
              "   'RGDT_Rule_20220411_11': {'condition': 'AND',\n",
              "    'rules': [{'field': 'Fare', 'operator': 'greater', 'value': 79.025},\n",
              "     {'field': 'Sex_male', 'operator': 'equal', 'value': False}]},\n",
              "   'RGDT_Rule_20220411_12': {'condition': 'AND',\n",
              "    'rules': [{'field': 'Parch', 'operator': 'greater_or_equal', 'value': 1}]},\n",
              "   'RGDT_Rule_20220411_13': {'condition': 'AND',\n",
              "    'rules': [{'field': 'Parch', 'operator': 'greater_or_equal', 'value': 2}]},\n",
              "   'RGDT_Rule_20220411_14': {'condition': 'AND',\n",
              "    'rules': [{'field': 'Pclass', 'operator': 'less_or_equal', 'value': 1}]},\n",
              "   'RGDT_Rule_20220411_15': {'condition': 'AND',\n",
              "    'rules': [{'field': 'Pclass', 'operator': 'less_or_equal', 'value': 2}]},\n",
              "   'RGDT_Rule_20220411_16': {'condition': 'AND',\n",
              "    'rules': [{'field': 'Pclass', 'operator': 'less_or_equal', 'value': 2},\n",
              "     {'field': 'Sex_female', 'operator': 'equal', 'value': True}]},\n",
              "   'RGDT_Rule_20220411_17': {'condition': 'AND',\n",
              "    'rules': [{'field': 'Sex_female', 'operator': 'equal', 'value': True}]},\n",
              "   'RGDT_Rule_20220411_18': {'condition': 'AND',\n",
              "    'rules': [{'field': 'Sex_male', 'operator': 'equal', 'value': False}]},\n",
              "   'RGDT_Rule_20220411_2': {'condition': 'AND',\n",
              "    'rules': [{'field': 'Embarked_C', 'operator': 'equal', 'value': True}]},\n",
              "   'RGDT_Rule_20220411_3': {'condition': 'AND',\n",
              "    'rules': [{'field': 'Embarked_C', 'operator': 'equal', 'value': True},\n",
              "     {'field': 'Sex_female', 'operator': 'equal', 'value': True}]},\n",
              "   'RGDT_Rule_20220411_4': {'condition': 'AND',\n",
              "    'rules': [{'field': 'Embarked_S', 'operator': 'equal', 'value': False}]},\n",
              "   'RGDT_Rule_20220411_5': {'condition': 'AND',\n",
              "    'rules': [{'field': 'Embarked_S', 'operator': 'equal', 'value': False},\n",
              "     {'field': 'Sex_female', 'operator': 'equal', 'value': True}]},\n",
              "   'RGDT_Rule_20220411_6': {'condition': 'AND',\n",
              "    'rules': [{'field': 'Fare', 'operator': 'greater', 'value': 11.89375}]},\n",
              "   'RGDT_Rule_20220411_7': {'condition': 'AND',\n",
              "    'rules': [{'field': 'Fare', 'operator': 'greater', 'value': 11.89375},\n",
              "     {'field': 'Pclass', 'operator': 'less_or_equal', 'value': 2}]},\n",
              "   'RGDT_Rule_20220411_8': {'condition': 'AND',\n",
              "    'rules': [{'field': 'Fare', 'operator': 'greater', 'value': 52.2771}]},\n",
              "   'RGDT_Rule_20220411_9': {'condition': 'AND',\n",
              "    'rules': [{'field': 'Fare', 'operator': 'greater', 'value': 52.2771},\n",
              "     {'field': 'Pclass', 'operator': 'less_or_equal', 'value': 2}]}},\n",
              "  'rule_features': {'RGDT_Rule_20220411_0': [],\n",
              "   'RGDT_Rule_20220411_1': [],\n",
              "   'RGDT_Rule_20220411_10': [],\n",
              "   'RGDT_Rule_20220411_11': [],\n",
              "   'RGDT_Rule_20220411_12': [],\n",
              "   'RGDT_Rule_20220411_13': [],\n",
              "   'RGDT_Rule_20220411_14': [],\n",
              "   'RGDT_Rule_20220411_15': [],\n",
              "   'RGDT_Rule_20220411_16': [],\n",
              "   'RGDT_Rule_20220411_17': [],\n",
              "   'RGDT_Rule_20220411_18': [],\n",
              "   'RGDT_Rule_20220411_2': [],\n",
              "   'RGDT_Rule_20220411_3': [],\n",
              "   'RGDT_Rule_20220411_4': [],\n",
              "   'RGDT_Rule_20220411_5': [],\n",
              "   'RGDT_Rule_20220411_6': [],\n",
              "   'RGDT_Rule_20220411_7': [],\n",
              "   'RGDT_Rule_20220411_8': [],\n",
              "   'RGDT_Rule_20220411_9': []},\n",
              "  'rule_lambdas': {'RGDT_Rule_20220411_0': <function iguanas.rules._convert_rule_dicts_to_rule_strings._ConvertRuleDictsToRuleStrings._convert_to_lambda.<locals>._make_lambda.<locals>.<lambda>>,\n",
              "   'RGDT_Rule_20220411_1': <function iguanas.rules._convert_rule_dicts_to_rule_strings._ConvertRuleDictsToRuleStrings._convert_to_lambda.<locals>._make_lambda.<locals>.<lambda>>,\n",
              "   'RGDT_Rule_20220411_10': <function iguanas.rules._convert_rule_dicts_to_rule_strings._ConvertRuleDictsToRuleStrings._convert_to_lambda.<locals>._make_lambda.<locals>.<lambda>>,\n",
              "   'RGDT_Rule_20220411_11': <function iguanas.rules._convert_rule_dicts_to_rule_strings._ConvertRuleDictsToRuleStrings._convert_to_lambda.<locals>._make_lambda.<locals>.<lambda>>,\n",
              "   'RGDT_Rule_20220411_12': <function iguanas.rules._convert_rule_dicts_to_rule_strings._ConvertRuleDictsToRuleStrings._convert_to_lambda.<locals>._make_lambda.<locals>.<lambda>>,\n",
              "   'RGDT_Rule_20220411_13': <function iguanas.rules._convert_rule_dicts_to_rule_strings._ConvertRuleDictsToRuleStrings._convert_to_lambda.<locals>._make_lambda.<locals>.<lambda>>,\n",
              "   'RGDT_Rule_20220411_14': <function iguanas.rules._convert_rule_dicts_to_rule_strings._ConvertRuleDictsToRuleStrings._convert_to_lambda.<locals>._make_lambda.<locals>.<lambda>>,\n",
              "   'RGDT_Rule_20220411_15': <function iguanas.rules._convert_rule_dicts_to_rule_strings._ConvertRuleDictsToRuleStrings._convert_to_lambda.<locals>._make_lambda.<locals>.<lambda>>,\n",
              "   'RGDT_Rule_20220411_16': <function iguanas.rules._convert_rule_dicts_to_rule_strings._ConvertRuleDictsToRuleStrings._convert_to_lambda.<locals>._make_lambda.<locals>.<lambda>>,\n",
              "   'RGDT_Rule_20220411_17': <function iguanas.rules._convert_rule_dicts_to_rule_strings._ConvertRuleDictsToRuleStrings._convert_to_lambda.<locals>._make_lambda.<locals>.<lambda>>,\n",
              "   'RGDT_Rule_20220411_18': <function iguanas.rules._convert_rule_dicts_to_rule_strings._ConvertRuleDictsToRuleStrings._convert_to_lambda.<locals>._make_lambda.<locals>.<lambda>>,\n",
              "   'RGDT_Rule_20220411_2': <function iguanas.rules._convert_rule_dicts_to_rule_strings._ConvertRuleDictsToRuleStrings._convert_to_lambda.<locals>._make_lambda.<locals>.<lambda>>,\n",
              "   'RGDT_Rule_20220411_3': <function iguanas.rules._convert_rule_dicts_to_rule_strings._ConvertRuleDictsToRuleStrings._convert_to_lambda.<locals>._make_lambda.<locals>.<lambda>>,\n",
              "   'RGDT_Rule_20220411_4': <function iguanas.rules._convert_rule_dicts_to_rule_strings._ConvertRuleDictsToRuleStrings._convert_to_lambda.<locals>._make_lambda.<locals>.<lambda>>,\n",
              "   'RGDT_Rule_20220411_5': <function iguanas.rules._convert_rule_dicts_to_rule_strings._ConvertRuleDictsToRuleStrings._convert_to_lambda.<locals>._make_lambda.<locals>.<lambda>>,\n",
              "   'RGDT_Rule_20220411_6': <function iguanas.rules._convert_rule_dicts_to_rule_strings._ConvertRuleDictsToRuleStrings._convert_to_lambda.<locals>._make_lambda.<locals>.<lambda>>,\n",
              "   'RGDT_Rule_20220411_7': <function iguanas.rules._convert_rule_dicts_to_rule_strings._ConvertRuleDictsToRuleStrings._convert_to_lambda.<locals>._make_lambda.<locals>.<lambda>>,\n",
              "   'RGDT_Rule_20220411_8': <function iguanas.rules._convert_rule_dicts_to_rule_strings._ConvertRuleDictsToRuleStrings._convert_to_lambda.<locals>._make_lambda.<locals>.<lambda>>,\n",
              "   'RGDT_Rule_20220411_9': <function iguanas.rules._convert_rule_dicts_to_rule_strings._ConvertRuleDictsToRuleStrings._convert_to_lambda.<locals>._make_lambda.<locals>.<lambda>>},\n",
              "  'rule_name_prefix': 'RGDT_Rule',\n",
              "  'rule_names': ['RGDT_Rule_20220411_0',\n",
              "   'RGDT_Rule_20220411_1',\n",
              "   'RGDT_Rule_20220411_2',\n",
              "   'RGDT_Rule_20220411_3',\n",
              "   'RGDT_Rule_20220411_4',\n",
              "   'RGDT_Rule_20220411_5',\n",
              "   'RGDT_Rule_20220411_6',\n",
              "   'RGDT_Rule_20220411_7',\n",
              "   'RGDT_Rule_20220411_8',\n",
              "   'RGDT_Rule_20220411_9',\n",
              "   'RGDT_Rule_20220411_10',\n",
              "   'RGDT_Rule_20220411_11',\n",
              "   'RGDT_Rule_20220411_12',\n",
              "   'RGDT_Rule_20220411_13',\n",
              "   'RGDT_Rule_20220411_14',\n",
              "   'RGDT_Rule_20220411_15',\n",
              "   'RGDT_Rule_20220411_16',\n",
              "   'RGDT_Rule_20220411_17',\n",
              "   'RGDT_Rule_20220411_18'],\n",
              "  'rule_strings': {'RGDT_Rule_20220411_0': \"(X['Age']>-0.125)&(X['Embarked_C']==True)\",\n",
              "   'RGDT_Rule_20220411_1': \"(X['Age']>35.5)\",\n",
              "   'RGDT_Rule_20220411_10': \"(X['Fare']>79.025)\",\n",
              "   'RGDT_Rule_20220411_11': \"(X['Fare']>79.025)&(X['Sex_male']==False)\",\n",
              "   'RGDT_Rule_20220411_12': \"(X['Parch']>=1)\",\n",
              "   'RGDT_Rule_20220411_13': \"(X['Parch']>=2)\",\n",
              "   'RGDT_Rule_20220411_14': \"(X['Pclass']<=1)\",\n",
              "   'RGDT_Rule_20220411_15': \"(X['Pclass']<=2)\",\n",
              "   'RGDT_Rule_20220411_16': \"(X['Pclass']<=2)&(X['Sex_female']==True)\",\n",
              "   'RGDT_Rule_20220411_17': \"(X['Sex_female']==True)\",\n",
              "   'RGDT_Rule_20220411_18': \"(X['Sex_male']==False)\",\n",
              "   'RGDT_Rule_20220411_2': \"(X['Embarked_C']==True)\",\n",
              "   'RGDT_Rule_20220411_3': \"(X['Embarked_C']==True)&(X['Sex_female']==True)\",\n",
              "   'RGDT_Rule_20220411_4': \"(X['Embarked_S']==False)\",\n",
              "   'RGDT_Rule_20220411_5': \"(X['Embarked_S']==False)&(X['Sex_female']==True)\",\n",
              "   'RGDT_Rule_20220411_6': \"(X['Fare']>11.89375)\",\n",
              "   'RGDT_Rule_20220411_7': \"(X['Fare']>11.89375)&(X['Pclass']<=2)\",\n",
              "   'RGDT_Rule_20220411_8': \"(X['Fare']>52.2771)\",\n",
              "   'RGDT_Rule_20220411_9': \"(X['Fare']>52.2771)&(X['Pclass']<=2)\"},\n",
              "  'rules': Rules object containing 19 rules,\n",
              "  'target_feat_corr_types': {'NegativeCorr': ['Pclass',\n",
              "    'Sex_male',\n",
              "    'Embarked_S'],\n",
              "   'PositiveCorr': ['Sex_female',\n",
              "    'Age',\n",
              "    'SibSp',\n",
              "    'Parch',\n",
              "    'Fare',\n",
              "    'Embarked_Q',\n",
              "    'Embarked_C',\n",
              "    'Embarked_nan']},\n",
              "  'tree_ensemble': RandomForestClassifier(max_depth=2.0, n_estimators=10, random_state=0),\n",
              "  'verbose': 0},\n",
              " 'rbs_optimiser': {'algorithm': <function hyperopt.tpe.suggest>,\n",
              "  'config': [(1,\n",
              "    ['RGDT_Rule_20220411_10',\n",
              "     'RGDT_Rule_20220411_5',\n",
              "     'RGDT_Rule_20220411_16',\n",
              "     'RGDT_Rule_20220411_11',\n",
              "     'RGDT_Rule_20220411_2',\n",
              "     'RGDT_Rule_20220411_0',\n",
              "     'RGDT_Rule_20220411_14',\n",
              "     'RGDT_Rule_20220411_7',\n",
              "     'RGDT_Rule_20220411_12',\n",
              "     'RGDT_Rule_20220411_8'])],\n",
              "  'config_given': False,\n",
              "  'final_decision': 0,\n",
              "  'kwargs': {},\n",
              "  'metric': <bound method FScore.fit of FScore with beta=1>,\n",
              "  'n_iter': 12.0,\n",
              "  'neg_pred_rules': [],\n",
              "  'orig_config': [],\n",
              "  'pos_pred_rules': ['RGDT_Rule_20220411_0',\n",
              "   'RGDT_Rule_20220411_1',\n",
              "   'RGDT_Rule_20220411_2',\n",
              "   'RGDT_Rule_20220411_3',\n",
              "   'RGDT_Rule_20220411_4',\n",
              "   'RGDT_Rule_20220411_5',\n",
              "   'RGDT_Rule_20220411_6',\n",
              "   'RGDT_Rule_20220411_7',\n",
              "   'RGDT_Rule_20220411_8',\n",
              "   'RGDT_Rule_20220411_9',\n",
              "   'RGDT_Rule_20220411_10',\n",
              "   'RGDT_Rule_20220411_11',\n",
              "   'RGDT_Rule_20220411_12',\n",
              "   'RGDT_Rule_20220411_13',\n",
              "   'RGDT_Rule_20220411_14',\n",
              "   'RGDT_Rule_20220411_15',\n",
              "   'RGDT_Rule_20220411_16',\n",
              "   'RGDT_Rule_20220411_17',\n",
              "   'RGDT_Rule_20220411_18'],\n",
              "  'rules': Rules object containing 0 rules,\n",
              "  'rules_to_keep': ['RGDT_Rule_20220411_10',\n",
              "   'RGDT_Rule_20220411_5',\n",
              "   'RGDT_Rule_20220411_16',\n",
              "   'RGDT_Rule_20220411_11',\n",
              "   'RGDT_Rule_20220411_2',\n",
              "   'RGDT_Rule_20220411_0',\n",
              "   'RGDT_Rule_20220411_14',\n",
              "   'RGDT_Rule_20220411_7',\n",
              "   'RGDT_Rule_20220411_12',\n",
              "   'RGDT_Rule_20220411_8'],\n",
              "  'verbose': 0}}"
            ]
          },
          "metadata": {},
          "execution_count": 21
        }
      ]
    }
  ]
}