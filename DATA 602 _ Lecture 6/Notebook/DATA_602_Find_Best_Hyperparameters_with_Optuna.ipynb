{
  "nbformat": 4,
  "nbformat_minor": 0,
  "metadata": {
    "colab": {
      "name": "DATA 602 Find Best Hyperparameters with Optuna.ipynb",
      "provenance": [],
      "collapsed_sections": []
    },
    "kernelspec": {
      "name": "python3",
      "display_name": "Python 3"
    },
    "language_info": {
      "name": "python"
    }
  },
  "cells": [
    {
      "cell_type": "code",
      "execution_count": 1,
      "metadata": {
        "colab": {
          "base_uri": "https://localhost:8080/"
        },
        "id": "DI-lIKTb15o9",
        "outputId": "91de9683-0de7-4a3d-9eaf-926cf57673ac"
      },
      "outputs": [
        {
          "output_type": "stream",
          "name": "stdout",
          "text": [
            "\u001b[K     |████████████████████████████████| 308 kB 15.5 MB/s \n",
            "\u001b[K     |████████████████████████████████| 209 kB 66.7 MB/s \n",
            "\u001b[K     |████████████████████████████████| 80 kB 9.1 MB/s \n",
            "\u001b[K     |████████████████████████████████| 75 kB 5.0 MB/s \n",
            "\u001b[K     |████████████████████████████████| 49 kB 6.2 MB/s \n",
            "\u001b[K     |████████████████████████████████| 112 kB 58.7 MB/s \n",
            "\u001b[K     |████████████████████████████████| 149 kB 63.6 MB/s \n",
            "\u001b[?25h  Building wheel for pyperclip (setup.py) ... \u001b[?25l\u001b[?25hdone\n"
          ]
        }
      ],
      "source": [
        "!pip install --quiet optuna"
      ]
    },
    {
      "cell_type": "code",
      "source": [
        "import optuna\n",
        "optuna.__version__"
      ],
      "metadata": {
        "colab": {
          "base_uri": "https://localhost:8080/",
          "height": 35
        },
        "id": "7J5TZcqq2Fr6",
        "outputId": "9406ea2b-367e-4b07-fb3a-f145fa326f4f"
      },
      "execution_count": 2,
      "outputs": [
        {
          "output_type": "execute_result",
          "data": {
            "application/vnd.google.colaboratory.intrinsic+json": {
              "type": "string"
            },
            "text/plain": [
              "'2.10.0'"
            ]
          },
          "metadata": {},
          "execution_count": 2
        }
      ]
    },
    {
      "cell_type": "markdown",
      "source": [
        "The Case of a Random Forest Classifier"
      ],
      "metadata": {
        "id": "d_i9L9Ij2_CM"
      }
    },
    {
      "cell_type": "code",
      "source": [
        "import sklearn.datasets\n",
        "import sklearn.ensemble\n",
        "import sklearn.model_selection\n",
        "\n",
        "def objective():\n",
        "    iris = sklearn.datasets.load_iris()  # Prepare the data.\n",
        "    \n",
        "    clf = sklearn.ensemble.RandomForestClassifier(    \n",
        "        n_estimators=5, max_depth=3)  # Define the model.\n",
        "    \n",
        "    return sklearn.model_selection.cross_val_score(\n",
        "        clf, iris.data, iris.target, n_jobs=-1, cv=3).mean()  # Train and evaluate the model.\n",
        "\n",
        "print('Accuracy: {}'.format(objective()))"
      ],
      "metadata": {
        "colab": {
          "base_uri": "https://localhost:8080/"
        },
        "id": "yPtEvZmB2LKC",
        "outputId": "ed7411f2-4076-4bcd-cc21-520eed22b687"
      },
      "execution_count": 3,
      "outputs": [
        {
          "output_type": "stream",
          "name": "stdout",
          "text": [
            "Accuracy: 0.9533333333333333\n"
          ]
        }
      ]
    },
    {
      "cell_type": "code",
      "source": [
        "import optuna\n",
        "\n",
        "def objective(trial):\n",
        "    iris = sklearn.datasets.load_iris()\n",
        "    \n",
        "    n_estimators = trial.suggest_int('n_estimators', 2, 20)\n",
        "    max_depth = int(trial.suggest_float('max_depth', 1, 32, log=True))\n",
        "    \n",
        "    clf = sklearn.ensemble.RandomForestClassifier(\n",
        "        n_estimators=n_estimators, max_depth=max_depth)\n",
        "    \n",
        "    return sklearn.model_selection.cross_val_score(\n",
        "        clf, iris.data, iris.target, n_jobs=-1, cv=3).mean()\n",
        "\n",
        "study = optuna.create_study(direction='maximize')\n",
        "study.optimize(objective, n_trials=100)\n",
        "\n",
        "trial = study.best_trial\n",
        "\n",
        "print('Accuracy: {}'.format(trial.value))\n",
        "print(\"Best hyperparameters: {}\".format(trial.params))"
      ],
      "metadata": {
        "colab": {
          "base_uri": "https://localhost:8080/"
        },
        "id": "c-wb_QWQ2Upi",
        "outputId": "924bf295-880f-4b40-e904-b93bd3575a44"
      },
      "execution_count": 4,
      "outputs": [
        {
          "output_type": "stream",
          "name": "stderr",
          "text": [
            "\u001b[32m[I 2022-01-01 18:14:03,395]\u001b[0m A new study created in memory with name: no-name-14fcda6c-05c0-45eb-b7d6-55f4598f156e\u001b[0m\n",
            "\u001b[32m[I 2022-01-01 18:14:03,445]\u001b[0m Trial 0 finished with value: 0.8666666666666667 and parameters: {'n_estimators': 6, 'max_depth': 1.0151786767689153}. Best is trial 0 with value: 0.8666666666666667.\u001b[0m\n",
            "\u001b[32m[I 2022-01-01 18:14:03,535]\u001b[0m Trial 1 finished with value: 0.96 and parameters: {'n_estimators': 17, 'max_depth': 21.932164584821482}. Best is trial 1 with value: 0.96.\u001b[0m\n",
            "\u001b[32m[I 2022-01-01 18:14:03,591]\u001b[0m Trial 2 finished with value: 0.7933333333333334 and parameters: {'n_estimators': 10, 'max_depth': 1.7254223670553028}. Best is trial 1 with value: 0.96.\u001b[0m\n",
            "\u001b[32m[I 2022-01-01 18:14:03,665]\u001b[0m Trial 3 finished with value: 0.9466666666666667 and parameters: {'n_estimators': 13, 'max_depth': 2.3514966911249777}. Best is trial 1 with value: 0.96.\u001b[0m\n",
            "\u001b[32m[I 2022-01-01 18:14:03,761]\u001b[0m Trial 4 finished with value: 0.9666666666666667 and parameters: {'n_estimators': 19, 'max_depth': 4.176170534107371}. Best is trial 4 with value: 0.9666666666666667.\u001b[0m\n",
            "\u001b[32m[I 2022-01-01 18:14:03,833]\u001b[0m Trial 5 finished with value: 0.9666666666666667 and parameters: {'n_estimators': 14, 'max_depth': 28.038986053818384}. Best is trial 4 with value: 0.9666666666666667.\u001b[0m\n",
            "\u001b[32m[I 2022-01-01 18:14:03,923]\u001b[0m Trial 6 finished with value: 0.96 and parameters: {'n_estimators': 16, 'max_depth': 8.56646850460105}. Best is trial 4 with value: 0.9666666666666667.\u001b[0m\n",
            "\u001b[32m[I 2022-01-01 18:14:04,003]\u001b[0m Trial 7 finished with value: 0.9533333333333333 and parameters: {'n_estimators': 14, 'max_depth': 2.0150343411548888}. Best is trial 4 with value: 0.9666666666666667.\u001b[0m\n",
            "\u001b[32m[I 2022-01-01 18:14:04,094]\u001b[0m Trial 8 finished with value: 0.96 and parameters: {'n_estimators': 18, 'max_depth': 7.151166548693055}. Best is trial 4 with value: 0.9666666666666667.\u001b[0m\n",
            "\u001b[32m[I 2022-01-01 18:14:04,187]\u001b[0m Trial 9 finished with value: 0.9466666666666667 and parameters: {'n_estimators': 17, 'max_depth': 2.172892882281397}. Best is trial 4 with value: 0.9666666666666667.\u001b[0m\n",
            "\u001b[32m[I 2022-01-01 18:14:04,221]\u001b[0m Trial 10 finished with value: 0.9466666666666667 and parameters: {'n_estimators': 2, 'max_depth': 4.564086164403703}. Best is trial 4 with value: 0.9666666666666667.\u001b[0m\n",
            "\u001b[32m[I 2022-01-01 18:14:04,320]\u001b[0m Trial 11 finished with value: 0.96 and parameters: {'n_estimators': 20, 'max_depth': 31.518276449376614}. Best is trial 4 with value: 0.9666666666666667.\u001b[0m\n",
            "\u001b[32m[I 2022-01-01 18:14:04,382]\u001b[0m Trial 12 finished with value: 0.96 and parameters: {'n_estimators': 10, 'max_depth': 13.015614964574617}. Best is trial 4 with value: 0.9666666666666667.\u001b[0m\n",
            "\u001b[32m[I 2022-01-01 18:14:04,488]\u001b[0m Trial 13 finished with value: 0.9666666666666667 and parameters: {'n_estimators': 20, 'max_depth': 4.068519280592462}. Best is trial 4 with value: 0.9666666666666667.\u001b[0m\n",
            "\u001b[32m[I 2022-01-01 18:14:04,567]\u001b[0m Trial 14 finished with value: 0.9533333333333333 and parameters: {'n_estimators': 13, 'max_depth': 13.396847288074822}. Best is trial 4 with value: 0.9666666666666667.\u001b[0m\n",
            "\u001b[32m[I 2022-01-01 18:14:04,616]\u001b[0m Trial 15 finished with value: 0.9666666666666667 and parameters: {'n_estimators': 7, 'max_depth': 3.222356165675774}. Best is trial 4 with value: 0.9666666666666667.\u001b[0m\n",
            "\u001b[32m[I 2022-01-01 18:14:04,696]\u001b[0m Trial 16 finished with value: 0.9533333333333333 and parameters: {'n_estimators': 15, 'max_depth': 11.20201942596072}. Best is trial 4 with value: 0.9666666666666667.\u001b[0m\n",
            "\u001b[32m[I 2022-01-01 18:14:04,797]\u001b[0m Trial 17 finished with value: 0.96 and parameters: {'n_estimators': 20, 'max_depth': 4.1417255867844185}. Best is trial 4 with value: 0.9666666666666667.\u001b[0m\n",
            "\u001b[32m[I 2022-01-01 18:14:04,852]\u001b[0m Trial 18 finished with value: 0.96 and parameters: {'n_estimators': 7, 'max_depth': 3.1696904786776647}. Best is trial 4 with value: 0.9666666666666667.\u001b[0m\n",
            "\u001b[32m[I 2022-01-01 18:14:04,899]\u001b[0m Trial 19 finished with value: 0.7866666666666667 and parameters: {'n_estimators': 7, 'max_depth': 1.2014944627927797}. Best is trial 4 with value: 0.9666666666666667.\u001b[0m\n",
            "\u001b[32m[I 2022-01-01 18:14:04,963]\u001b[0m Trial 20 finished with value: 0.96 and parameters: {'n_estimators': 12, 'max_depth': 18.468610441433487}. Best is trial 4 with value: 0.9666666666666667.\u001b[0m\n",
            "\u001b[32m[I 2022-01-01 18:14:05,008]\u001b[0m Trial 21 finished with value: 0.94 and parameters: {'n_estimators': 4, 'max_depth': 7.246542924197018}. Best is trial 4 with value: 0.9666666666666667.\u001b[0m\n",
            "\u001b[32m[I 2022-01-01 18:14:05,104]\u001b[0m Trial 22 finished with value: 0.9533333333333333 and parameters: {'n_estimators': 19, 'max_depth': 3.3113040947389076}. Best is trial 4 with value: 0.9666666666666667.\u001b[0m\n",
            "\u001b[32m[I 2022-01-01 18:14:05,157]\u001b[0m Trial 23 finished with value: 0.9466666666666667 and parameters: {'n_estimators': 9, 'max_depth': 5.808487899341234}. Best is trial 4 with value: 0.9666666666666667.\u001b[0m\n",
            "\u001b[32m[I 2022-01-01 18:14:05,248]\u001b[0m Trial 24 finished with value: 0.9466666666666667 and parameters: {'n_estimators': 19, 'max_depth': 4.904345751319163}. Best is trial 4 with value: 0.9666666666666667.\u001b[0m\n",
            "\u001b[32m[I 2022-01-01 18:14:05,326]\u001b[0m Trial 25 finished with value: 0.9533333333333333 and parameters: {'n_estimators': 16, 'max_depth': 6.1016234150725355}. Best is trial 4 with value: 0.9666666666666667.\u001b[0m\n",
            "\u001b[32m[I 2022-01-01 18:14:05,373]\u001b[0m Trial 26 finished with value: 0.9466666666666667 and parameters: {'n_estimators': 5, 'max_depth': 2.954686430955369}. Best is trial 4 with value: 0.9666666666666667.\u001b[0m\n",
            "\u001b[32m[I 2022-01-01 18:14:05,431]\u001b[0m Trial 27 finished with value: 0.9533333333333333 and parameters: {'n_estimators': 9, 'max_depth': 3.7298503131025353}. Best is trial 4 with value: 0.9666666666666667.\u001b[0m\n",
            "\u001b[32m[I 2022-01-01 18:14:05,520]\u001b[0m Trial 28 finished with value: 0.9666666666666667 and parameters: {'n_estimators': 18, 'max_depth': 9.787987210515542}. Best is trial 4 with value: 0.9666666666666667.\u001b[0m\n",
            "\u001b[32m[I 2022-01-01 18:14:05,599]\u001b[0m Trial 29 finished with value: 0.9533333333333333 and parameters: {'n_estimators': 15, 'max_depth': 31.616663055820784}. Best is trial 4 with value: 0.9666666666666667.\u001b[0m\n",
            "\u001b[32m[I 2022-01-01 18:14:05,686]\u001b[0m Trial 30 finished with value: 0.94 and parameters: {'n_estimators': 18, 'max_depth': 9.81792314437634}. Best is trial 4 with value: 0.9666666666666667.\u001b[0m\n",
            "\u001b[32m[I 2022-01-01 18:14:05,753]\u001b[0m Trial 31 finished with value: 0.9666666666666667 and parameters: {'n_estimators': 12, 'max_depth': 19.638964372337014}. Best is trial 4 with value: 0.9666666666666667.\u001b[0m\n",
            "\u001b[32m[I 2022-01-01 18:14:05,836]\u001b[0m Trial 32 finished with value: 0.9666666666666667 and parameters: {'n_estimators': 17, 'max_depth': 24.181961754041083}. Best is trial 4 with value: 0.9666666666666667.\u001b[0m\n",
            "\u001b[32m[I 2022-01-01 18:14:05,887]\u001b[0m Trial 33 finished with value: 0.9533333333333333 and parameters: {'n_estimators': 8, 'max_depth': 20.935716006572708}. Best is trial 4 with value: 0.9666666666666667.\u001b[0m\n",
            "\u001b[32m[I 2022-01-01 18:14:05,959]\u001b[0m Trial 34 finished with value: 0.96 and parameters: {'n_estimators': 12, 'max_depth': 17.28896215065574}. Best is trial 4 with value: 0.9666666666666667.\u001b[0m\n",
            "\u001b[32m[I 2022-01-01 18:14:06,055]\u001b[0m Trial 35 finished with value: 0.9533333333333333 and parameters: {'n_estimators': 17, 'max_depth': 25.74595361386742}. Best is trial 4 with value: 0.9666666666666667.\u001b[0m\n",
            "\u001b[32m[I 2022-01-01 18:14:06,130]\u001b[0m Trial 36 finished with value: 0.96 and parameters: {'n_estimators': 15, 'max_depth': 14.859902941871633}. Best is trial 4 with value: 0.9666666666666667.\u001b[0m\n",
            "\u001b[32m[I 2022-01-01 18:14:06,206]\u001b[0m Trial 37 finished with value: 0.9666666666666667 and parameters: {'n_estimators': 13, 'max_depth': 25.72675527773526}. Best is trial 4 with value: 0.9666666666666667.\u001b[0m\n",
            "\u001b[32m[I 2022-01-01 18:14:06,269]\u001b[0m Trial 38 finished with value: 0.9533333333333333 and parameters: {'n_estimators': 11, 'max_depth': 24.31437493224432}. Best is trial 4 with value: 0.9666666666666667.\u001b[0m\n",
            "\u001b[32m[I 2022-01-01 18:14:06,311]\u001b[0m Trial 39 finished with value: 0.9666666666666667 and parameters: {'n_estimators': 6, 'max_depth': 2.3513849747672126}. Best is trial 4 with value: 0.9666666666666667.\u001b[0m\n",
            "\u001b[32m[I 2022-01-01 18:14:06,340]\u001b[0m Trial 40 finished with value: 0.9066666666666666 and parameters: {'n_estimators': 2, 'max_depth': 2.5877462057346663}. Best is trial 4 with value: 0.9666666666666667.\u001b[0m\n",
            "\u001b[32m[I 2022-01-01 18:14:06,427]\u001b[0m Trial 41 finished with value: 0.96 and parameters: {'n_estimators': 18, 'max_depth': 17.388925735469087}. Best is trial 4 with value: 0.9666666666666667.\u001b[0m\n",
            "\u001b[32m[I 2022-01-01 18:14:06,514]\u001b[0m Trial 42 finished with value: 0.9466666666666667 and parameters: {'n_estimators': 14, 'max_depth': 25.623870355315823}. Best is trial 4 with value: 0.9666666666666667.\u001b[0m\n",
            "\u001b[32m[I 2022-01-01 18:14:06,598]\u001b[0m Trial 43 finished with value: 0.9466666666666667 and parameters: {'n_estimators': 16, 'max_depth': 2.0449851582268526}. Best is trial 4 with value: 0.9666666666666667.\u001b[0m\n",
            "\u001b[32m[I 2022-01-01 18:14:06,670]\u001b[0m Trial 44 finished with value: 0.96 and parameters: {'n_estimators': 13, 'max_depth': 22.050869686439228}. Best is trial 4 with value: 0.9666666666666667.\u001b[0m\n",
            "\u001b[32m[I 2022-01-01 18:14:06,737]\u001b[0m Trial 45 finished with value: 0.8533333333333334 and parameters: {'n_estimators': 11, 'max_depth': 1.1171625174469106}. Best is trial 4 with value: 0.9666666666666667.\u001b[0m\n",
            "\u001b[32m[I 2022-01-01 18:14:06,813]\u001b[0m Trial 46 finished with value: 0.9466666666666667 and parameters: {'n_estimators': 14, 'max_depth': 27.8306174932359}. Best is trial 4 with value: 0.9666666666666667.\u001b[0m\n",
            "\u001b[32m[I 2022-01-01 18:14:06,846]\u001b[0m Trial 47 finished with value: 0.9466666666666667 and parameters: {'n_estimators': 3, 'max_depth': 2.5650114932374257}. Best is trial 4 with value: 0.9666666666666667.\u001b[0m\n",
            "\u001b[32m[I 2022-01-01 18:14:06,905]\u001b[0m Trial 48 finished with value: 0.96 and parameters: {'n_estimators': 10, 'max_depth': 20.324918068476865}. Best is trial 4 with value: 0.9666666666666667.\u001b[0m\n",
            "\u001b[32m[I 2022-01-01 18:14:06,998]\u001b[0m Trial 49 finished with value: 0.9533333333333333 and parameters: {'n_estimators': 19, 'max_depth': 11.216897607519519}. Best is trial 4 with value: 0.9666666666666667.\u001b[0m\n",
            "\u001b[32m[I 2022-01-01 18:14:07,079]\u001b[0m Trial 50 finished with value: 0.96 and parameters: {'n_estimators': 12, 'max_depth': 29.490286990326126}. Best is trial 4 with value: 0.9666666666666667.\u001b[0m\n",
            "\u001b[32m[I 2022-01-01 18:14:07,125]\u001b[0m Trial 51 finished with value: 0.7666666666666666 and parameters: {'n_estimators': 6, 'max_depth': 1.5518468214578849}. Best is trial 4 with value: 0.9666666666666667.\u001b[0m\n",
            "\u001b[32m[I 2022-01-01 18:14:07,209]\u001b[0m Trial 52 finished with value: 0.88 and parameters: {'n_estimators': 17, 'max_depth': 1.59272284870967}. Best is trial 4 with value: 0.9666666666666667.\u001b[0m\n",
            "\u001b[32m[I 2022-01-01 18:14:07,296]\u001b[0m Trial 53 finished with value: 0.9666666666666667 and parameters: {'n_estimators': 16, 'max_depth': 15.150312447249176}. Best is trial 4 with value: 0.9666666666666667.\u001b[0m\n",
            "\u001b[32m[I 2022-01-01 18:14:07,346]\u001b[0m Trial 54 finished with value: 0.96 and parameters: {'n_estimators': 7, 'max_depth': 14.814636839958943}. Best is trial 4 with value: 0.9666666666666667.\u001b[0m\n",
            "\u001b[32m[I 2022-01-01 18:14:07,384]\u001b[0m Trial 55 finished with value: 0.9533333333333333 and parameters: {'n_estimators': 4, 'max_depth': 15.576953222517359}. Best is trial 4 with value: 0.9666666666666667.\u001b[0m\n",
            "\u001b[32m[I 2022-01-01 18:14:07,459]\u001b[0m Trial 56 finished with value: 0.96 and parameters: {'n_estimators': 13, 'max_depth': 22.386771990087627}. Best is trial 4 with value: 0.9666666666666667.\u001b[0m\n",
            "\u001b[32m[I 2022-01-01 18:14:07,555]\u001b[0m Trial 57 finished with value: 0.96 and parameters: {'n_estimators': 17, 'max_depth': 8.995473397188634}. Best is trial 4 with value: 0.9666666666666667.\u001b[0m\n",
            "\u001b[32m[I 2022-01-01 18:14:07,655]\u001b[0m Trial 58 finished with value: 0.9533333333333333 and parameters: {'n_estimators': 20, 'max_depth': 6.8731273967911495}. Best is trial 4 with value: 0.9666666666666667.\u001b[0m\n",
            "\u001b[32m[I 2022-01-01 18:14:07,703]\u001b[0m Trial 59 finished with value: 0.9533333333333333 and parameters: {'n_estimators': 6, 'max_depth': 4.952675723683496}. Best is trial 4 with value: 0.9666666666666667.\u001b[0m\n",
            "\u001b[32m[I 2022-01-01 18:14:07,763]\u001b[0m Trial 60 finished with value: 0.9666666666666667 and parameters: {'n_estimators': 9, 'max_depth': 19.447450125730892}. Best is trial 4 with value: 0.9666666666666667.\u001b[0m\n",
            "\u001b[32m[I 2022-01-01 18:14:07,820]\u001b[0m Trial 61 finished with value: 0.9466666666666667 and parameters: {'n_estimators': 8, 'max_depth': 18.623980116736245}. Best is trial 4 with value: 0.9666666666666667.\u001b[0m\n",
            "\u001b[32m[I 2022-01-01 18:14:07,896]\u001b[0m Trial 62 finished with value: 0.9666666666666667 and parameters: {'n_estimators': 14, 'max_depth': 4.1161175654073086}. Best is trial 4 with value: 0.9666666666666667.\u001b[0m\n",
            "\u001b[32m[I 2022-01-01 18:14:07,984]\u001b[0m Trial 63 finished with value: 0.96 and parameters: {'n_estimators': 18, 'max_depth': 12.169532029791275}. Best is trial 4 with value: 0.9666666666666667.\u001b[0m\n",
            "\u001b[32m[I 2022-01-01 18:14:08,051]\u001b[0m Trial 64 finished with value: 0.96 and parameters: {'n_estimators': 12, 'max_depth': 3.658404433549814}. Best is trial 4 with value: 0.9666666666666667.\u001b[0m\n",
            "\u001b[32m[I 2022-01-01 18:14:08,109]\u001b[0m Trial 65 finished with value: 0.9466666666666667 and parameters: {'n_estimators': 5, 'max_depth': 2.341661762594332}. Best is trial 4 with value: 0.9666666666666667.\u001b[0m\n",
            "\u001b[32m[I 2022-01-01 18:14:08,204]\u001b[0m Trial 66 finished with value: 0.9533333333333333 and parameters: {'n_estimators': 20, 'max_depth': 3.4297599900693183}. Best is trial 4 with value: 0.9666666666666667.\u001b[0m\n",
            "\u001b[32m[I 2022-01-01 18:14:08,284]\u001b[0m Trial 67 finished with value: 0.9666666666666667 and parameters: {'n_estimators': 15, 'max_depth': 4.304480712626857}. Best is trial 4 with value: 0.9666666666666667.\u001b[0m\n",
            "\u001b[32m[I 2022-01-01 18:14:08,370]\u001b[0m Trial 68 finished with value: 0.96 and parameters: {'n_estimators': 16, 'max_depth': 4.356772398363691}. Best is trial 4 with value: 0.9666666666666667.\u001b[0m\n",
            "\u001b[32m[I 2022-01-01 18:14:08,450]\u001b[0m Trial 69 finished with value: 0.9533333333333333 and parameters: {'n_estimators': 15, 'max_depth': 5.247456673986419}. Best is trial 4 with value: 0.9666666666666667.\u001b[0m\n",
            "\u001b[32m[I 2022-01-01 18:14:08,503]\u001b[0m Trial 70 finished with value: 0.96 and parameters: {'n_estimators': 8, 'max_depth': 13.717592758906338}. Best is trial 4 with value: 0.9666666666666667.\u001b[0m\n",
            "\u001b[32m[I 2022-01-01 18:14:08,580]\u001b[0m Trial 71 finished with value: 0.9733333333333333 and parameters: {'n_estimators': 15, 'max_depth': 27.690898006311016}. Best is trial 71 with value: 0.9733333333333333.\u001b[0m\n",
            "\u001b[32m[I 2022-01-01 18:14:08,640]\u001b[0m Trial 72 finished with value: 0.96 and parameters: {'n_estimators': 9, 'max_depth': 2.927744649039582}. Best is trial 71 with value: 0.9733333333333333.\u001b[0m\n",
            "\u001b[32m[I 2022-01-01 18:14:08,716]\u001b[0m Trial 73 finished with value: 0.96 and parameters: {'n_estimators': 13, 'max_depth': 23.97998251045647}. Best is trial 71 with value: 0.9733333333333333.\u001b[0m\n",
            "\u001b[32m[I 2022-01-01 18:14:08,797]\u001b[0m Trial 74 finished with value: 0.9533333333333333 and parameters: {'n_estimators': 16, 'max_depth': 28.640241694694}. Best is trial 71 with value: 0.9733333333333333.\u001b[0m\n",
            "\u001b[32m[I 2022-01-01 18:14:08,873]\u001b[0m Trial 75 finished with value: 0.96 and parameters: {'n_estimators': 15, 'max_depth': 3.885385407344821}. Best is trial 71 with value: 0.9733333333333333.\u001b[0m\n",
            "\u001b[32m[I 2022-01-01 18:14:08,955]\u001b[0m Trial 76 finished with value: 0.96 and parameters: {'n_estimators': 17, 'max_depth': 2.937656814950891}. Best is trial 71 with value: 0.9733333333333333.\u001b[0m\n",
            "\u001b[32m[I 2022-01-01 18:14:09,029]\u001b[0m Trial 77 finished with value: 0.9666666666666667 and parameters: {'n_estimators': 14, 'max_depth': 6.220261577487397}. Best is trial 71 with value: 0.9733333333333333.\u001b[0m\n",
            "\u001b[32m[I 2022-01-01 18:14:09,127]\u001b[0m Trial 78 finished with value: 0.9666666666666667 and parameters: {'n_estimators': 18, 'max_depth': 6.3997794417126395}. Best is trial 71 with value: 0.9733333333333333.\u001b[0m\n",
            "\u001b[32m[I 2022-01-01 18:14:09,204]\u001b[0m Trial 79 finished with value: 0.9733333333333333 and parameters: {'n_estimators': 14, 'max_depth': 5.394755326187851}. Best is trial 71 with value: 0.9733333333333333.\u001b[0m\n",
            "\u001b[32m[I 2022-01-01 18:14:09,279]\u001b[0m Trial 80 finished with value: 0.9666666666666667 and parameters: {'n_estimators': 14, 'max_depth': 6.409394579795243}. Best is trial 71 with value: 0.9733333333333333.\u001b[0m\n",
            "\u001b[32m[I 2022-01-01 18:14:09,355]\u001b[0m Trial 81 finished with value: 0.9533333333333333 and parameters: {'n_estimators': 14, 'max_depth': 8.351877252208922}. Best is trial 71 with value: 0.9733333333333333.\u001b[0m\n",
            "\u001b[32m[I 2022-01-01 18:14:09,428]\u001b[0m Trial 82 finished with value: 0.9466666666666667 and parameters: {'n_estimators': 13, 'max_depth': 7.775862993174683}. Best is trial 71 with value: 0.9733333333333333.\u001b[0m\n",
            "\u001b[32m[I 2022-01-01 18:14:09,492]\u001b[0m Trial 83 finished with value: 0.9533333333333333 and parameters: {'n_estimators': 10, 'max_depth': 18.414974659295613}. Best is trial 71 with value: 0.9733333333333333.\u001b[0m\n",
            "\u001b[32m[I 2022-01-01 18:14:09,556]\u001b[0m Trial 84 finished with value: 0.9666666666666667 and parameters: {'n_estimators': 11, 'max_depth': 5.450093601731249}. Best is trial 71 with value: 0.9733333333333333.\u001b[0m\n",
            "\u001b[32m[I 2022-01-01 18:14:09,637]\u001b[0m Trial 85 finished with value: 0.96 and parameters: {'n_estimators': 16, 'max_depth': 5.414390414399985}. Best is trial 71 with value: 0.9733333333333333.\u001b[0m\n",
            "\u001b[32m[I 2022-01-01 18:14:09,735]\u001b[0m Trial 86 finished with value: 0.96 and parameters: {'n_estimators': 19, 'max_depth': 10.16195642895692}. Best is trial 71 with value: 0.9733333333333333.\u001b[0m\n",
            "\u001b[32m[I 2022-01-01 18:14:09,840]\u001b[0m Trial 87 finished with value: 0.96 and parameters: {'n_estimators': 19, 'max_depth': 6.216557121498887}. Best is trial 71 with value: 0.9733333333333333.\u001b[0m\n",
            "\u001b[32m[I 2022-01-01 18:14:09,929]\u001b[0m Trial 88 finished with value: 0.96 and parameters: {'n_estimators': 15, 'max_depth': 6.626393383269704}. Best is trial 71 with value: 0.9733333333333333.\u001b[0m\n",
            "\u001b[32m[I 2022-01-01 18:14:09,998]\u001b[0m Trial 89 finished with value: 0.9533333333333333 and parameters: {'n_estimators': 12, 'max_depth': 16.98282500149548}. Best is trial 71 with value: 0.9733333333333333.\u001b[0m\n",
            "\u001b[32m[I 2022-01-01 18:14:10,089]\u001b[0m Trial 90 finished with value: 0.9733333333333333 and parameters: {'n_estimators': 18, 'max_depth': 7.517500145002902}. Best is trial 71 with value: 0.9733333333333333.\u001b[0m\n",
            "\u001b[32m[I 2022-01-01 18:14:10,162]\u001b[0m Trial 91 finished with value: 0.9533333333333333 and parameters: {'n_estimators': 11, 'max_depth': 4.763460095453396}. Best is trial 71 with value: 0.9733333333333333.\u001b[0m\n",
            "\u001b[32m[I 2022-01-01 18:14:10,239]\u001b[0m Trial 92 finished with value: 0.96 and parameters: {'n_estimators': 14, 'max_depth': 4.28677144290781}. Best is trial 71 with value: 0.9733333333333333.\u001b[0m\n",
            "\u001b[32m[I 2022-01-01 18:14:10,331]\u001b[0m Trial 93 finished with value: 0.94 and parameters: {'n_estimators': 18, 'max_depth': 7.535586487949576}. Best is trial 71 with value: 0.9733333333333333.\u001b[0m\n",
            "\u001b[32m[I 2022-01-01 18:14:10,434]\u001b[0m Trial 94 finished with value: 0.96 and parameters: {'n_estimators': 20, 'max_depth': 26.550367936759184}. Best is trial 71 with value: 0.9733333333333333.\u001b[0m\n",
            "\u001b[32m[I 2022-01-01 18:14:10,524]\u001b[0m Trial 95 finished with value: 0.9466666666666667 and parameters: {'n_estimators': 18, 'max_depth': 8.967784947826237}. Best is trial 71 with value: 0.9733333333333333.\u001b[0m\n",
            "\u001b[32m[I 2022-01-01 18:14:10,599]\u001b[0m Trial 96 finished with value: 0.9533333333333333 and parameters: {'n_estimators': 14, 'max_depth': 5.825785377181111}. Best is trial 71 with value: 0.9733333333333333.\u001b[0m\n",
            "\u001b[32m[I 2022-01-01 18:14:10,673]\u001b[0m Trial 97 finished with value: 0.9733333333333333 and parameters: {'n_estimators': 13, 'max_depth': 6.271497905543178}. Best is trial 71 with value: 0.9733333333333333.\u001b[0m\n",
            "\u001b[32m[I 2022-01-01 18:14:10,759]\u001b[0m Trial 98 finished with value: 0.94 and parameters: {'n_estimators': 17, 'max_depth': 31.61522065549567}. Best is trial 71 with value: 0.9733333333333333.\u001b[0m\n",
            "\u001b[32m[I 2022-01-01 18:14:10,840]\u001b[0m Trial 99 finished with value: 0.96 and parameters: {'n_estimators': 15, 'max_depth': 23.024578286374066}. Best is trial 71 with value: 0.9733333333333333.\u001b[0m\n"
          ]
        },
        {
          "output_type": "stream",
          "name": "stdout",
          "text": [
            "Accuracy: 0.9733333333333333\n",
            "Best hyperparameters: {'n_estimators': 15, 'max_depth': 27.690898006311016}\n"
          ]
        }
      ]
    },
    {
      "cell_type": "markdown",
      "source": [
        "The case of SVC"
      ],
      "metadata": {
        "id": "WzbECVJo3PwA"
      }
    },
    {
      "cell_type": "code",
      "source": [
        "import sklearn.svm\n",
        "\n",
        "def objective(trial):\n",
        "    iris = sklearn.datasets.load_iris()\n",
        "\n",
        "    classifier = trial.suggest_categorical('classifier', ['RandomForest', 'SVC'])\n",
        "    \n",
        "    if classifier == 'RandomForest':\n",
        "        n_estimators = trial.suggest_int('n_estimators', 2, 20)\n",
        "        max_depth = int(trial.suggest_float('max_depth', 1, 32, log=True))\n",
        "\n",
        "        clf = sklearn.ensemble.RandomForestClassifier(\n",
        "            n_estimators=n_estimators, max_depth=max_depth)\n",
        "    else:\n",
        "        c = trial.suggest_float('svc_c', 1e-10, 1e10, log=True)\n",
        "        \n",
        "        clf = sklearn.svm.SVC(C=c, gamma='auto')\n",
        "\n",
        "    return sklearn.model_selection.cross_val_score(\n",
        "        clf, iris.data, iris.target, n_jobs=-1, cv=3).mean()\n",
        "\n",
        "study = optuna.create_study(direction='maximize')\n",
        "study.optimize(objective, n_trials=100)\n",
        "\n",
        "trial = study.best_trial\n",
        "\n",
        "print('Accuracy: {}'.format(trial.value))\n",
        "print(\"Best hyperparameters: {}\".format(trial.params))"
      ],
      "metadata": {
        "colab": {
          "base_uri": "https://localhost:8080/"
        },
        "id": "6Ou1PT_r2bAp",
        "outputId": "8a1ae99a-6617-4699-9d33-bb1477bf284d"
      },
      "execution_count": 5,
      "outputs": [
        {
          "output_type": "stream",
          "name": "stderr",
          "text": [
            "\u001b[32m[I 2022-01-01 18:14:41,893]\u001b[0m A new study created in memory with name: no-name-6cd992e3-7f69-41a4-a1d7-8a11fa219cc6\u001b[0m\n",
            "\u001b[32m[I 2022-01-01 18:14:41,914]\u001b[0m Trial 0 finished with value: 0.32 and parameters: {'classifier': 'SVC', 'svc_c': 8.507344340903596e-05}. Best is trial 0 with value: 0.32.\u001b[0m\n",
            "\u001b[32m[I 2022-01-01 18:14:41,950]\u001b[0m Trial 1 finished with value: 0.8266666666666667 and parameters: {'classifier': 'RandomForest', 'n_estimators': 5, 'max_depth': 1.8110976460098747}. Best is trial 1 with value: 0.8266666666666667.\u001b[0m\n",
            "\u001b[32m[I 2022-01-01 18:14:41,967]\u001b[0m Trial 2 finished with value: 0.96 and parameters: {'classifier': 'SVC', 'svc_c': 82.70812812893928}. Best is trial 2 with value: 0.96.\u001b[0m\n",
            "\u001b[32m[I 2022-01-01 18:14:41,983]\u001b[0m Trial 3 finished with value: 0.96 and parameters: {'classifier': 'SVC', 'svc_c': 1151.1733771157194}. Best is trial 2 with value: 0.96.\u001b[0m\n",
            "\u001b[32m[I 2022-01-01 18:14:42,070]\u001b[0m Trial 4 finished with value: 0.9533333333333333 and parameters: {'classifier': 'RandomForest', 'n_estimators': 20, 'max_depth': 3.4604650638481456}. Best is trial 2 with value: 0.96.\u001b[0m\n",
            "\u001b[32m[I 2022-01-01 18:14:42,089]\u001b[0m Trial 5 finished with value: 0.4000000000000001 and parameters: {'classifier': 'SVC', 'svc_c': 0.0180351185788522}. Best is trial 2 with value: 0.96.\u001b[0m\n",
            "\u001b[32m[I 2022-01-01 18:14:42,106]\u001b[0m Trial 6 finished with value: 0.9733333333333333 and parameters: {'classifier': 'SVC', 'svc_c': 12.115121921674026}. Best is trial 6 with value: 0.9733333333333333.\u001b[0m\n",
            "\u001b[32m[I 2022-01-01 18:14:42,125]\u001b[0m Trial 7 finished with value: 0.96 and parameters: {'classifier': 'SVC', 'svc_c': 542918375.9709126}. Best is trial 6 with value: 0.9733333333333333.\u001b[0m\n",
            "\u001b[32m[I 2022-01-01 18:14:42,141]\u001b[0m Trial 8 finished with value: 0.96 and parameters: {'classifier': 'SVC', 'svc_c': 370052249.92854327}. Best is trial 6 with value: 0.9733333333333333.\u001b[0m\n",
            "\u001b[32m[I 2022-01-01 18:14:42,175]\u001b[0m Trial 9 finished with value: 0.94 and parameters: {'classifier': 'RandomForest', 'n_estimators': 4, 'max_depth': 3.6300740911485976}. Best is trial 6 with value: 0.9733333333333333.\u001b[0m\n",
            "\u001b[32m[I 2022-01-01 18:14:42,257]\u001b[0m Trial 10 finished with value: 0.96 and parameters: {'classifier': 'RandomForest', 'n_estimators': 17, 'max_depth': 30.451691139692713}. Best is trial 6 with value: 0.9733333333333333.\u001b[0m\n",
            "\u001b[32m[I 2022-01-01 18:14:42,276]\u001b[0m Trial 11 finished with value: 0.98 and parameters: {'classifier': 'SVC', 'svc_c': 8.451374334622919}. Best is trial 11 with value: 0.98.\u001b[0m\n",
            "\u001b[32m[I 2022-01-01 18:14:42,294]\u001b[0m Trial 12 finished with value: 0.9533333333333333 and parameters: {'classifier': 'SVC', 'svc_c': 473.2792473756255}. Best is trial 11 with value: 0.98.\u001b[0m\n",
            "\u001b[32m[I 2022-01-01 18:14:42,316]\u001b[0m Trial 13 finished with value: 0.32 and parameters: {'classifier': 'SVC', 'svc_c': 5.142915923457433e-09}. Best is trial 11 with value: 0.98.\u001b[0m\n",
            "\u001b[32m[I 2022-01-01 18:14:42,337]\u001b[0m Trial 14 finished with value: 0.32 and parameters: {'classifier': 'SVC', 'svc_c': 0.005375902418492366}. Best is trial 11 with value: 0.98.\u001b[0m\n",
            "\u001b[32m[I 2022-01-01 18:14:42,361]\u001b[0m Trial 15 finished with value: 0.96 and parameters: {'classifier': 'SVC', 'svc_c': 1897782.2264710492}. Best is trial 11 with value: 0.98.\u001b[0m\n",
            "\u001b[32m[I 2022-01-01 18:14:42,382]\u001b[0m Trial 16 finished with value: 0.32 and parameters: {'classifier': 'SVC', 'svc_c': 1.0952438153282127e-06}. Best is trial 11 with value: 0.98.\u001b[0m\n",
            "\u001b[32m[I 2022-01-01 18:14:42,403]\u001b[0m Trial 17 finished with value: 0.9666666666666667 and parameters: {'classifier': 'SVC', 'svc_c': 0.8294089382653002}. Best is trial 11 with value: 0.98.\u001b[0m\n",
            "\u001b[32m[I 2022-01-01 18:14:42,480]\u001b[0m Trial 18 finished with value: 0.9666666666666667 and parameters: {'classifier': 'RandomForest', 'n_estimators': 12, 'max_depth': 20.831551374826436}. Best is trial 11 with value: 0.98.\u001b[0m\n",
            "\u001b[32m[I 2022-01-01 18:14:42,499]\u001b[0m Trial 19 finished with value: 0.96 and parameters: {'classifier': 'SVC', 'svc_c': 22111.746658393502}. Best is trial 11 with value: 0.98.\u001b[0m\n",
            "\u001b[32m[I 2022-01-01 18:14:42,517]\u001b[0m Trial 20 finished with value: 0.98 and parameters: {'classifier': 'SVC', 'svc_c': 9.68345127348279}. Best is trial 11 with value: 0.98.\u001b[0m\n",
            "\u001b[32m[I 2022-01-01 18:14:42,536]\u001b[0m Trial 21 finished with value: 0.9733333333333333 and parameters: {'classifier': 'SVC', 'svc_c': 0.9808876391970008}. Best is trial 11 with value: 0.98.\u001b[0m\n",
            "\u001b[32m[I 2022-01-01 18:14:42,562]\u001b[0m Trial 22 finished with value: 0.9533333333333333 and parameters: {'classifier': 'SVC', 'svc_c': 0.14359174928279198}. Best is trial 11 with value: 0.98.\u001b[0m\n",
            "\u001b[32m[I 2022-01-01 18:14:42,581]\u001b[0m Trial 23 finished with value: 0.9666666666666667 and parameters: {'classifier': 'SVC', 'svc_c': 41.72592896762406}. Best is trial 11 with value: 0.98.\u001b[0m\n",
            "\u001b[32m[I 2022-01-01 18:14:42,600]\u001b[0m Trial 24 finished with value: 0.96 and parameters: {'classifier': 'SVC', 'svc_c': 115866.07868311134}. Best is trial 11 with value: 0.98.\u001b[0m\n",
            "\u001b[32m[I 2022-01-01 18:14:42,625]\u001b[0m Trial 25 finished with value: 0.32 and parameters: {'classifier': 'SVC', 'svc_c': 0.00020334425512473473}. Best is trial 11 with value: 0.98.\u001b[0m\n",
            "\u001b[32m[I 2022-01-01 18:14:42,688]\u001b[0m Trial 26 finished with value: 0.96 and parameters: {'classifier': 'RandomForest', 'n_estimators': 11, 'max_depth': 10.869986410556411}. Best is trial 11 with value: 0.98.\u001b[0m\n",
            "\u001b[32m[I 2022-01-01 18:14:42,712]\u001b[0m Trial 27 finished with value: 0.9666666666666667 and parameters: {'classifier': 'SVC', 'svc_c': 1.368522801256134}. Best is trial 11 with value: 0.98.\u001b[0m\n",
            "\u001b[32m[I 2022-01-01 18:14:42,732]\u001b[0m Trial 28 finished with value: 0.32 and parameters: {'classifier': 'SVC', 'svc_c': 0.0006382307210021538}. Best is trial 11 with value: 0.98.\u001b[0m\n",
            "\u001b[32m[I 2022-01-01 18:14:42,756]\u001b[0m Trial 29 finished with value: 0.32 and parameters: {'classifier': 'SVC', 'svc_c': 1.8649051989204755e-06}. Best is trial 11 with value: 0.98.\u001b[0m\n",
            "\u001b[32m[I 2022-01-01 18:14:42,774]\u001b[0m Trial 30 finished with value: 0.96 and parameters: {'classifier': 'SVC', 'svc_c': 49926.07620552398}. Best is trial 11 with value: 0.98.\u001b[0m\n",
            "\u001b[32m[I 2022-01-01 18:14:42,792]\u001b[0m Trial 31 finished with value: 0.98 and parameters: {'classifier': 'SVC', 'svc_c': 7.0203539981948255}. Best is trial 11 with value: 0.98.\u001b[0m\n",
            "\u001b[32m[I 2022-01-01 18:14:42,811]\u001b[0m Trial 32 finished with value: 0.9733333333333333 and parameters: {'classifier': 'SVC', 'svc_c': 2.082509631347816}. Best is trial 11 with value: 0.98.\u001b[0m\n",
            "\u001b[32m[I 2022-01-01 18:14:42,832]\u001b[0m Trial 33 finished with value: 0.96 and parameters: {'classifier': 'SVC', 'svc_c': 1288.920050989004}. Best is trial 11 with value: 0.98.\u001b[0m\n",
            "\u001b[32m[I 2022-01-01 18:14:42,855]\u001b[0m Trial 34 finished with value: 0.9199999999999999 and parameters: {'classifier': 'SVC', 'svc_c': 0.05732296825814517}. Best is trial 11 with value: 0.98.\u001b[0m\n",
            "\u001b[32m[I 2022-01-01 18:14:42,912]\u001b[0m Trial 35 finished with value: 0.8466666666666667 and parameters: {'classifier': 'RandomForest', 'n_estimators': 10, 'max_depth': 1.3171363700481535}. Best is trial 11 with value: 0.98.\u001b[0m\n",
            "\u001b[32m[I 2022-01-01 18:14:42,947]\u001b[0m Trial 36 finished with value: 0.98 and parameters: {'classifier': 'SVC', 'svc_c': 8.557311668495487}. Best is trial 11 with value: 0.98.\u001b[0m\n",
            "\u001b[32m[I 2022-01-01 18:14:42,977]\u001b[0m Trial 37 finished with value: 0.96 and parameters: {'classifier': 'SVC', 'svc_c': 10790027.354726937}. Best is trial 11 with value: 0.98.\u001b[0m\n",
            "\u001b[32m[I 2022-01-01 18:14:43,011]\u001b[0m Trial 38 finished with value: 0.9666666666666667 and parameters: {'classifier': 'SVC', 'svc_c': 19.754995234117807}. Best is trial 11 with value: 0.98.\u001b[0m\n",
            "\u001b[32m[I 2022-01-01 18:14:43,078]\u001b[0m Trial 39 finished with value: 0.94 and parameters: {'classifier': 'RandomForest', 'n_estimators': 2, 'max_depth': 9.598802288813921}. Best is trial 11 with value: 0.98.\u001b[0m\n",
            "\u001b[32m[I 2022-01-01 18:14:43,114]\u001b[0m Trial 40 finished with value: 0.96 and parameters: {'classifier': 'SVC', 'svc_c': 1773.8968081082082}. Best is trial 11 with value: 0.98.\u001b[0m\n",
            "\u001b[32m[I 2022-01-01 18:14:43,145]\u001b[0m Trial 41 finished with value: 0.96 and parameters: {'classifier': 'SVC', 'svc_c': 0.3002051809968453}. Best is trial 11 with value: 0.98.\u001b[0m\n",
            "\u001b[32m[I 2022-01-01 18:14:43,186]\u001b[0m Trial 42 finished with value: 0.98 and parameters: {'classifier': 'SVC', 'svc_c': 7.714447153125875}. Best is trial 11 with value: 0.98.\u001b[0m\n",
            "\u001b[32m[I 2022-01-01 18:14:43,221]\u001b[0m Trial 43 finished with value: 0.9733333333333333 and parameters: {'classifier': 'SVC', 'svc_c': 13.352781258245866}. Best is trial 11 with value: 0.98.\u001b[0m\n",
            "\u001b[32m[I 2022-01-01 18:14:43,275]\u001b[0m Trial 44 finished with value: 0.9466666666666667 and parameters: {'classifier': 'SVC', 'svc_c': 218.93594609014156}. Best is trial 11 with value: 0.98.\u001b[0m\n",
            "\u001b[32m[I 2022-01-01 18:14:43,315]\u001b[0m Trial 45 finished with value: 0.32 and parameters: {'classifier': 'SVC', 'svc_c': 0.0020174865381144087}. Best is trial 11 with value: 0.98.\u001b[0m\n",
            "\u001b[32m[I 2022-01-01 18:14:43,352]\u001b[0m Trial 46 finished with value: 0.84 and parameters: {'classifier': 'SVC', 'svc_c': 0.0388470767240844}. Best is trial 11 with value: 0.98.\u001b[0m\n",
            "\u001b[32m[I 2022-01-01 18:14:43,383]\u001b[0m Trial 47 finished with value: 0.96 and parameters: {'classifier': 'SVC', 'svc_c': 6119.335630259427}. Best is trial 11 with value: 0.98.\u001b[0m\n",
            "\u001b[32m[I 2022-01-01 18:14:43,552]\u001b[0m Trial 48 finished with value: 0.9333333333333332 and parameters: {'classifier': 'RandomForest', 'n_estimators': 15, 'max_depth': 1.0431271891629543}. Best is trial 11 with value: 0.98.\u001b[0m\n",
            "\u001b[32m[I 2022-01-01 18:14:43,588]\u001b[0m Trial 49 finished with value: 0.96 and parameters: {'classifier': 'SVC', 'svc_c': 143.035725597852}. Best is trial 11 with value: 0.98.\u001b[0m\n",
            "\u001b[32m[I 2022-01-01 18:14:43,621]\u001b[0m Trial 50 finished with value: 0.98 and parameters: {'classifier': 'SVC', 'svc_c': 6.895930737844627}. Best is trial 11 with value: 0.98.\u001b[0m\n",
            "\u001b[32m[I 2022-01-01 18:14:43,667]\u001b[0m Trial 51 finished with value: 0.9866666666666667 and parameters: {'classifier': 'SVC', 'svc_c': 4.6057290517024505}. Best is trial 51 with value: 0.9866666666666667.\u001b[0m\n",
            "\u001b[32m[I 2022-01-01 18:14:43,692]\u001b[0m Trial 52 finished with value: 0.96 and parameters: {'classifier': 'SVC', 'svc_c': 90.4316757853567}. Best is trial 51 with value: 0.9866666666666667.\u001b[0m\n",
            "\u001b[32m[I 2022-01-01 18:14:43,718]\u001b[0m Trial 53 finished with value: 0.9866666666666667 and parameters: {'classifier': 'SVC', 'svc_c': 4.4528281553124}. Best is trial 51 with value: 0.9866666666666667.\u001b[0m\n",
            "\u001b[32m[I 2022-01-01 18:14:43,752]\u001b[0m Trial 54 finished with value: 0.3466666666666667 and parameters: {'classifier': 'SVC', 'svc_c': 0.017708552646286686}. Best is trial 51 with value: 0.9866666666666667.\u001b[0m\n",
            "\u001b[32m[I 2022-01-01 18:14:43,790]\u001b[0m Trial 55 finished with value: 0.9733333333333333 and parameters: {'classifier': 'SVC', 'svc_c': 2.4440202190228817}. Best is trial 51 with value: 0.9866666666666667.\u001b[0m\n",
            "\u001b[32m[I 2022-01-01 18:14:43,827]\u001b[0m Trial 56 finished with value: 0.96 and parameters: {'classifier': 'SVC', 'svc_c': 523.8546332348949}. Best is trial 51 with value: 0.9866666666666667.\u001b[0m\n",
            "\u001b[32m[I 2022-01-01 18:14:43,854]\u001b[0m Trial 57 finished with value: 0.96 and parameters: {'classifier': 'SVC', 'svc_c': 0.2174021272127327}. Best is trial 51 with value: 0.9866666666666667.\u001b[0m\n",
            "\u001b[32m[I 2022-01-01 18:14:43,883]\u001b[0m Trial 58 finished with value: 0.32 and parameters: {'classifier': 'SVC', 'svc_c': 3.243484055726656e-05}. Best is trial 51 with value: 0.9866666666666667.\u001b[0m\n",
            "\u001b[32m[I 2022-01-01 18:14:44,001]\u001b[0m Trial 59 finished with value: 0.9466666666666667 and parameters: {'classifier': 'RandomForest', 'n_estimators': 7, 'max_depth': 7.238537413068287}. Best is trial 51 with value: 0.9866666666666667.\u001b[0m\n",
            "\u001b[32m[I 2022-01-01 18:14:44,040]\u001b[0m Trial 60 finished with value: 0.32 and parameters: {'classifier': 'SVC', 'svc_c': 0.008216203439250634}. Best is trial 51 with value: 0.9866666666666667.\u001b[0m\n",
            "\u001b[32m[I 2022-01-01 18:14:44,078]\u001b[0m Trial 61 finished with value: 0.9866666666666667 and parameters: {'classifier': 'SVC', 'svc_c': 4.219937226509429}. Best is trial 51 with value: 0.9866666666666667.\u001b[0m\n",
            "\u001b[32m[I 2022-01-01 18:14:44,118]\u001b[0m Trial 62 finished with value: 0.96 and parameters: {'classifier': 'SVC', 'svc_c': 44.319847831148834}. Best is trial 51 with value: 0.9866666666666667.\u001b[0m\n",
            "\u001b[32m[I 2022-01-01 18:14:44,153]\u001b[0m Trial 63 finished with value: 0.9866666666666667 and parameters: {'classifier': 'SVC', 'svc_c': 4.578386849955323}. Best is trial 51 with value: 0.9866666666666667.\u001b[0m\n",
            "\u001b[32m[I 2022-01-01 18:14:44,178]\u001b[0m Trial 64 finished with value: 0.9866666666666667 and parameters: {'classifier': 'SVC', 'svc_c': 4.353739445319227}. Best is trial 51 with value: 0.9866666666666667.\u001b[0m\n",
            "\u001b[32m[I 2022-01-01 18:14:44,230]\u001b[0m Trial 65 finished with value: 0.96 and parameters: {'classifier': 'SVC', 'svc_c': 0.3270332591741448}. Best is trial 51 with value: 0.9866666666666667.\u001b[0m\n",
            "\u001b[32m[I 2022-01-01 18:14:44,283]\u001b[0m Trial 66 finished with value: 0.96 and parameters: {'classifier': 'SVC', 'svc_c': 6188.264448429227}. Best is trial 51 with value: 0.9866666666666667.\u001b[0m\n",
            "\u001b[32m[I 2022-01-01 18:14:44,337]\u001b[0m Trial 67 finished with value: 0.9666666666666667 and parameters: {'classifier': 'SVC', 'svc_c': 1.3147786251927283}. Best is trial 51 with value: 0.9866666666666667.\u001b[0m\n",
            "\u001b[32m[I 2022-01-01 18:14:44,369]\u001b[0m Trial 68 finished with value: 0.9533333333333333 and parameters: {'classifier': 'SVC', 'svc_c': 0.14184382715753804}. Best is trial 51 with value: 0.9866666666666667.\u001b[0m\n",
            "\u001b[32m[I 2022-01-01 18:14:44,398]\u001b[0m Trial 69 finished with value: 0.96 and parameters: {'classifier': 'SVC', 'svc_c': 59.889941736592164}. Best is trial 51 with value: 0.9866666666666667.\u001b[0m\n",
            "\u001b[32m[I 2022-01-01 18:14:44,429]\u001b[0m Trial 70 finished with value: 0.9733333333333333 and parameters: {'classifier': 'SVC', 'svc_c': 2.775331871312519}. Best is trial 51 with value: 0.9866666666666667.\u001b[0m\n",
            "\u001b[32m[I 2022-01-01 18:14:44,459]\u001b[0m Trial 71 finished with value: 0.98 and parameters: {'classifier': 'SVC', 'svc_c': 9.084739014541201}. Best is trial 51 with value: 0.9866666666666667.\u001b[0m\n",
            "\u001b[32m[I 2022-01-01 18:14:44,499]\u001b[0m Trial 72 finished with value: 0.9466666666666667 and parameters: {'classifier': 'SVC', 'svc_c': 308.9189283642354}. Best is trial 51 with value: 0.9866666666666667.\u001b[0m\n",
            "\u001b[32m[I 2022-01-01 18:14:44,537]\u001b[0m Trial 73 finished with value: 0.32 and parameters: {'classifier': 'SVC', 'svc_c': 1.5610640203721997e-09}. Best is trial 51 with value: 0.9866666666666667.\u001b[0m\n",
            "\u001b[32m[I 2022-01-01 18:14:44,578]\u001b[0m Trial 74 finished with value: 0.98 and parameters: {'classifier': 'SVC', 'svc_c': 5.1104909043308355}. Best is trial 51 with value: 0.9866666666666667.\u001b[0m\n",
            "\u001b[32m[I 2022-01-01 18:14:44,645]\u001b[0m Trial 75 finished with value: 0.94 and parameters: {'classifier': 'SVC', 'svc_c': 0.07669736979061818}. Best is trial 51 with value: 0.9866666666666667.\u001b[0m\n",
            "\u001b[32m[I 2022-01-01 18:14:44,899]\u001b[0m Trial 76 finished with value: 0.94 and parameters: {'classifier': 'RandomForest', 'n_estimators': 20, 'max_depth': 2.5292143270336243}. Best is trial 51 with value: 0.9866666666666667.\u001b[0m\n",
            "\u001b[32m[I 2022-01-01 18:14:44,955]\u001b[0m Trial 77 finished with value: 0.96 and parameters: {'classifier': 'SVC', 'svc_c': 29.25674347003416}. Best is trial 51 with value: 0.9866666666666667.\u001b[0m\n",
            "\u001b[32m[I 2022-01-01 18:14:44,995]\u001b[0m Trial 78 finished with value: 0.9666666666666667 and parameters: {'classifier': 'SVC', 'svc_c': 0.5402610507911858}. Best is trial 51 with value: 0.9866666666666667.\u001b[0m\n",
            "\u001b[32m[I 2022-01-01 18:14:45,025]\u001b[0m Trial 79 finished with value: 0.96 and parameters: {'classifier': 'SVC', 'svc_c': 4018360597.315786}. Best is trial 51 with value: 0.9866666666666667.\u001b[0m\n",
            "\u001b[32m[I 2022-01-01 18:14:45,051]\u001b[0m Trial 80 finished with value: 0.9733333333333333 and parameters: {'classifier': 'SVC', 'svc_c': 1.1179214391178591}. Best is trial 51 with value: 0.9866666666666667.\u001b[0m\n",
            "\u001b[32m[I 2022-01-01 18:14:45,079]\u001b[0m Trial 81 finished with value: 0.98 and parameters: {'classifier': 'SVC', 'svc_c': 6.386827113136078}. Best is trial 51 with value: 0.9866666666666667.\u001b[0m\n",
            "\u001b[32m[I 2022-01-01 18:14:45,125]\u001b[0m Trial 82 finished with value: 0.9666666666666667 and parameters: {'classifier': 'SVC', 'svc_c': 20.853406261075293}. Best is trial 51 with value: 0.9866666666666667.\u001b[0m\n",
            "\u001b[32m[I 2022-01-01 18:14:45,175]\u001b[0m Trial 83 finished with value: 0.96 and parameters: {'classifier': 'SVC', 'svc_c': 1191.38071410805}. Best is trial 51 with value: 0.9866666666666667.\u001b[0m\n",
            "\u001b[32m[I 2022-01-01 18:14:45,227]\u001b[0m Trial 84 finished with value: 0.96 and parameters: {'classifier': 'SVC', 'svc_c': 99.98440932555295}. Best is trial 51 with value: 0.9866666666666667.\u001b[0m\n",
            "\u001b[32m[I 2022-01-01 18:14:45,261]\u001b[0m Trial 85 finished with value: 0.9866666666666667 and parameters: {'classifier': 'SVC', 'svc_c': 4.841729176273609}. Best is trial 51 with value: 0.9866666666666667.\u001b[0m\n",
            "\u001b[32m[I 2022-01-01 18:14:45,301]\u001b[0m Trial 86 finished with value: 0.9733333333333333 and parameters: {'classifier': 'SVC', 'svc_c': 2.9692478727559695}. Best is trial 51 with value: 0.9866666666666667.\u001b[0m\n",
            "\u001b[32m[I 2022-01-01 18:14:45,345]\u001b[0m Trial 87 finished with value: 0.7466666666666667 and parameters: {'classifier': 'SVC', 'svc_c': 0.02677124577747369}. Best is trial 51 with value: 0.9866666666666667.\u001b[0m\n",
            "\u001b[32m[I 2022-01-01 18:14:45,378]\u001b[0m Trial 88 finished with value: 0.9666666666666667 and parameters: {'classifier': 'SVC', 'svc_c': 0.527928046708891}. Best is trial 51 with value: 0.9866666666666667.\u001b[0m\n",
            "\u001b[32m[I 2022-01-01 18:14:45,482]\u001b[0m Trial 89 finished with value: 0.9666666666666667 and parameters: {'classifier': 'RandomForest', 'n_estimators': 8, 'max_depth': 16.577991408542584}. Best is trial 51 with value: 0.9866666666666667.\u001b[0m\n",
            "\u001b[32m[I 2022-01-01 18:14:45,514]\u001b[0m Trial 90 finished with value: 0.9733333333333333 and parameters: {'classifier': 'SVC', 'svc_c': 2.901679635741058}. Best is trial 51 with value: 0.9866666666666667.\u001b[0m\n",
            "\u001b[32m[I 2022-01-01 18:14:45,558]\u001b[0m Trial 91 finished with value: 0.9666666666666667 and parameters: {'classifier': 'SVC', 'svc_c': 22.54933570223184}. Best is trial 51 with value: 0.9866666666666667.\u001b[0m\n",
            "\u001b[32m[I 2022-01-01 18:14:45,603]\u001b[0m Trial 92 finished with value: 0.98 and parameters: {'classifier': 'SVC', 'svc_c': 7.060862343922682}. Best is trial 51 with value: 0.9866666666666667.\u001b[0m\n",
            "\u001b[32m[I 2022-01-01 18:14:45,662]\u001b[0m Trial 93 finished with value: 0.94 and parameters: {'classifier': 'SVC', 'svc_c': 256.85097710695186}. Best is trial 51 with value: 0.9866666666666667.\u001b[0m\n",
            "\u001b[32m[I 2022-01-01 18:14:45,712]\u001b[0m Trial 94 finished with value: 0.94 and parameters: {'classifier': 'SVC', 'svc_c': 0.10222026018969499}. Best is trial 51 with value: 0.9866666666666667.\u001b[0m\n",
            "\u001b[32m[I 2022-01-01 18:14:45,758]\u001b[0m Trial 95 finished with value: 0.9733333333333333 and parameters: {'classifier': 'SVC', 'svc_c': 3.539172606250211}. Best is trial 51 with value: 0.9866666666666667.\u001b[0m\n",
            "\u001b[32m[I 2022-01-01 18:14:45,811]\u001b[0m Trial 96 finished with value: 0.9666666666666667 and parameters: {'classifier': 'SVC', 'svc_c': 0.6833729244251625}. Best is trial 51 with value: 0.9866666666666667.\u001b[0m\n",
            "\u001b[32m[I 2022-01-01 18:14:45,859]\u001b[0m Trial 97 finished with value: 0.32 and parameters: {'classifier': 'SVC', 'svc_c': 0.0024628710418297473}. Best is trial 51 with value: 0.9866666666666667.\u001b[0m\n",
            "\u001b[32m[I 2022-01-01 18:14:45,900]\u001b[0m Trial 98 finished with value: 0.98 and parameters: {'classifier': 'SVC', 'svc_c': 8.330504310787482}. Best is trial 51 with value: 0.9866666666666667.\u001b[0m\n",
            "\u001b[32m[I 2022-01-01 18:14:45,957]\u001b[0m Trial 99 finished with value: 0.96 and parameters: {'classifier': 'SVC', 'svc_c': 60.03561409122719}. Best is trial 51 with value: 0.9866666666666667.\u001b[0m\n"
          ]
        },
        {
          "output_type": "stream",
          "name": "stdout",
          "text": [
            "Accuracy: 0.9866666666666667\n",
            "Best hyperparameters: {'classifier': 'SVC', 'svc_c': 4.6057290517024505}\n"
          ]
        }
      ]
    },
    {
      "cell_type": "markdown",
      "source": [
        "Optimization Plots"
      ],
      "metadata": {
        "id": "7vbXJUT93VjQ"
      }
    },
    {
      "cell_type": "code",
      "source": [
        "# Plotting the optimization history of the study.\n",
        "optuna.visualization.plot_optimization_history(study)"
      ],
      "metadata": {
        "colab": {
          "base_uri": "https://localhost:8080/",
          "height": 542
        },
        "id": "O1NDrnrQ2l6X",
        "outputId": "df3c448f-ef01-4c65-9650-ab9a82aa9099"
      },
      "execution_count": 6,
      "outputs": [
        {
          "output_type": "display_data",
          "data": {
            "text/html": [
              "<html>\n",
              "<head><meta charset=\"utf-8\" /></head>\n",
              "<body>\n",
              "    <div>\n",
              "            <script src=\"https://cdnjs.cloudflare.com/ajax/libs/mathjax/2.7.5/MathJax.js?config=TeX-AMS-MML_SVG\"></script><script type=\"text/javascript\">if (window.MathJax) {MathJax.Hub.Config({SVG: {font: \"STIX-Web\"}});}</script>\n",
              "                <script type=\"text/javascript\">window.PlotlyConfig = {MathJaxConfig: 'local'};</script>\n",
              "        <script src=\"https://cdn.plot.ly/plotly-latest.min.js\"></script>    \n",
              "            <div id=\"38631061-3eef-4491-b372-ac6690c67c5a\" class=\"plotly-graph-div\" style=\"height:525px; width:100%;\"></div>\n",
              "            <script type=\"text/javascript\">\n",
              "                \n",
              "                    window.PLOTLYENV=window.PLOTLYENV || {};\n",
              "                    \n",
              "                if (document.getElementById(\"38631061-3eef-4491-b372-ac6690c67c5a\")) {\n",
              "                    Plotly.newPlot(\n",
              "                        '38631061-3eef-4491-b372-ac6690c67c5a',\n",
              "                        [{\"mode\": \"markers\", \"name\": \"Objective Value\", \"type\": \"scatter\", \"x\": [0, 1, 2, 3, 4, 5, 6, 7, 8, 9, 10, 11, 12, 13, 14, 15, 16, 17, 18, 19, 20, 21, 22, 23, 24, 25, 26, 27, 28, 29, 30, 31, 32, 33, 34, 35, 36, 37, 38, 39, 40, 41, 42, 43, 44, 45, 46, 47, 48, 49, 50, 51, 52, 53, 54, 55, 56, 57, 58, 59, 60, 61, 62, 63, 64, 65, 66, 67, 68, 69, 70, 71, 72, 73, 74, 75, 76, 77, 78, 79, 80, 81, 82, 83, 84, 85, 86, 87, 88, 89, 90, 91, 92, 93, 94, 95, 96, 97, 98, 99], \"y\": [0.32, 0.8266666666666667, 0.96, 0.96, 0.9533333333333333, 0.4000000000000001, 0.9733333333333333, 0.96, 0.96, 0.94, 0.96, 0.98, 0.9533333333333333, 0.32, 0.32, 0.96, 0.32, 0.9666666666666667, 0.9666666666666667, 0.96, 0.98, 0.9733333333333333, 0.9533333333333333, 0.9666666666666667, 0.96, 0.32, 0.96, 0.9666666666666667, 0.32, 0.32, 0.96, 0.98, 0.9733333333333333, 0.96, 0.9199999999999999, 0.8466666666666667, 0.98, 0.96, 0.9666666666666667, 0.94, 0.96, 0.96, 0.98, 0.9733333333333333, 0.9466666666666667, 0.32, 0.84, 0.96, 0.9333333333333332, 0.96, 0.98, 0.9866666666666667, 0.96, 0.9866666666666667, 0.3466666666666667, 0.9733333333333333, 0.96, 0.96, 0.32, 0.9466666666666667, 0.32, 0.9866666666666667, 0.96, 0.9866666666666667, 0.9866666666666667, 0.96, 0.96, 0.9666666666666667, 0.9533333333333333, 0.96, 0.9733333333333333, 0.98, 0.9466666666666667, 0.32, 0.98, 0.94, 0.94, 0.96, 0.9666666666666667, 0.96, 0.9733333333333333, 0.98, 0.9666666666666667, 0.96, 0.96, 0.9866666666666667, 0.9733333333333333, 0.7466666666666667, 0.9666666666666667, 0.9666666666666667, 0.9733333333333333, 0.9666666666666667, 0.98, 0.94, 0.94, 0.9733333333333333, 0.9666666666666667, 0.32, 0.98, 0.96]}, {\"name\": \"Best Value\", \"type\": \"scatter\", \"x\": [0, 1, 2, 3, 4, 5, 6, 7, 8, 9, 10, 11, 12, 13, 14, 15, 16, 17, 18, 19, 20, 21, 22, 23, 24, 25, 26, 27, 28, 29, 30, 31, 32, 33, 34, 35, 36, 37, 38, 39, 40, 41, 42, 43, 44, 45, 46, 47, 48, 49, 50, 51, 52, 53, 54, 55, 56, 57, 58, 59, 60, 61, 62, 63, 64, 65, 66, 67, 68, 69, 70, 71, 72, 73, 74, 75, 76, 77, 78, 79, 80, 81, 82, 83, 84, 85, 86, 87, 88, 89, 90, 91, 92, 93, 94, 95, 96, 97, 98, 99], \"y\": [0.32, 0.8266666666666667, 0.96, 0.96, 0.96, 0.96, 0.9733333333333333, 0.9733333333333333, 0.9733333333333333, 0.9733333333333333, 0.9733333333333333, 0.98, 0.98, 0.98, 0.98, 0.98, 0.98, 0.98, 0.98, 0.98, 0.98, 0.98, 0.98, 0.98, 0.98, 0.98, 0.98, 0.98, 0.98, 0.98, 0.98, 0.98, 0.98, 0.98, 0.98, 0.98, 0.98, 0.98, 0.98, 0.98, 0.98, 0.98, 0.98, 0.98, 0.98, 0.98, 0.98, 0.98, 0.98, 0.98, 0.98, 0.9866666666666667, 0.9866666666666667, 0.9866666666666667, 0.9866666666666667, 0.9866666666666667, 0.9866666666666667, 0.9866666666666667, 0.9866666666666667, 0.9866666666666667, 0.9866666666666667, 0.9866666666666667, 0.9866666666666667, 0.9866666666666667, 0.9866666666666667, 0.9866666666666667, 0.9866666666666667, 0.9866666666666667, 0.9866666666666667, 0.9866666666666667, 0.9866666666666667, 0.9866666666666667, 0.9866666666666667, 0.9866666666666667, 0.9866666666666667, 0.9866666666666667, 0.9866666666666667, 0.9866666666666667, 0.9866666666666667, 0.9866666666666667, 0.9866666666666667, 0.9866666666666667, 0.9866666666666667, 0.9866666666666667, 0.9866666666666667, 0.9866666666666667, 0.9866666666666667, 0.9866666666666667, 0.9866666666666667, 0.9866666666666667, 0.9866666666666667, 0.9866666666666667, 0.9866666666666667, 0.9866666666666667, 0.9866666666666667, 0.9866666666666667, 0.9866666666666667, 0.9866666666666667, 0.9866666666666667, 0.9866666666666667]}],\n",
              "                        {\"template\": {\"data\": {\"bar\": [{\"error_x\": {\"color\": \"#2a3f5f\"}, \"error_y\": {\"color\": \"#2a3f5f\"}, \"marker\": {\"line\": {\"color\": \"#E5ECF6\", \"width\": 0.5}}, \"type\": \"bar\"}], \"barpolar\": [{\"marker\": {\"line\": {\"color\": \"#E5ECF6\", \"width\": 0.5}}, \"type\": \"barpolar\"}], \"carpet\": [{\"aaxis\": {\"endlinecolor\": \"#2a3f5f\", \"gridcolor\": \"white\", \"linecolor\": \"white\", \"minorgridcolor\": \"white\", \"startlinecolor\": \"#2a3f5f\"}, \"baxis\": {\"endlinecolor\": \"#2a3f5f\", \"gridcolor\": \"white\", \"linecolor\": \"white\", \"minorgridcolor\": \"white\", \"startlinecolor\": \"#2a3f5f\"}, \"type\": \"carpet\"}], \"choropleth\": [{\"colorbar\": {\"outlinewidth\": 0, \"ticks\": \"\"}, \"type\": \"choropleth\"}], \"contour\": [{\"colorbar\": {\"outlinewidth\": 0, \"ticks\": \"\"}, \"colorscale\": [[0.0, \"#0d0887\"], [0.1111111111111111, \"#46039f\"], [0.2222222222222222, \"#7201a8\"], [0.3333333333333333, \"#9c179e\"], [0.4444444444444444, \"#bd3786\"], [0.5555555555555556, \"#d8576b\"], [0.6666666666666666, \"#ed7953\"], [0.7777777777777778, \"#fb9f3a\"], [0.8888888888888888, \"#fdca26\"], [1.0, \"#f0f921\"]], \"type\": \"contour\"}], \"contourcarpet\": [{\"colorbar\": {\"outlinewidth\": 0, \"ticks\": \"\"}, \"type\": \"contourcarpet\"}], \"heatmap\": [{\"colorbar\": {\"outlinewidth\": 0, \"ticks\": \"\"}, \"colorscale\": [[0.0, \"#0d0887\"], [0.1111111111111111, \"#46039f\"], [0.2222222222222222, \"#7201a8\"], [0.3333333333333333, \"#9c179e\"], [0.4444444444444444, \"#bd3786\"], [0.5555555555555556, \"#d8576b\"], [0.6666666666666666, \"#ed7953\"], [0.7777777777777778, \"#fb9f3a\"], [0.8888888888888888, \"#fdca26\"], [1.0, \"#f0f921\"]], \"type\": \"heatmap\"}], \"heatmapgl\": [{\"colorbar\": {\"outlinewidth\": 0, \"ticks\": \"\"}, \"colorscale\": [[0.0, \"#0d0887\"], [0.1111111111111111, \"#46039f\"], [0.2222222222222222, \"#7201a8\"], [0.3333333333333333, \"#9c179e\"], [0.4444444444444444, \"#bd3786\"], [0.5555555555555556, \"#d8576b\"], [0.6666666666666666, \"#ed7953\"], [0.7777777777777778, \"#fb9f3a\"], [0.8888888888888888, \"#fdca26\"], [1.0, \"#f0f921\"]], \"type\": \"heatmapgl\"}], \"histogram\": [{\"marker\": {\"colorbar\": {\"outlinewidth\": 0, \"ticks\": \"\"}}, \"type\": \"histogram\"}], \"histogram2d\": [{\"colorbar\": {\"outlinewidth\": 0, \"ticks\": \"\"}, \"colorscale\": [[0.0, \"#0d0887\"], [0.1111111111111111, \"#46039f\"], [0.2222222222222222, \"#7201a8\"], [0.3333333333333333, \"#9c179e\"], [0.4444444444444444, \"#bd3786\"], [0.5555555555555556, \"#d8576b\"], [0.6666666666666666, \"#ed7953\"], [0.7777777777777778, \"#fb9f3a\"], [0.8888888888888888, \"#fdca26\"], [1.0, \"#f0f921\"]], \"type\": \"histogram2d\"}], \"histogram2dcontour\": [{\"colorbar\": {\"outlinewidth\": 0, \"ticks\": \"\"}, \"colorscale\": [[0.0, \"#0d0887\"], [0.1111111111111111, \"#46039f\"], [0.2222222222222222, \"#7201a8\"], [0.3333333333333333, \"#9c179e\"], [0.4444444444444444, \"#bd3786\"], [0.5555555555555556, \"#d8576b\"], [0.6666666666666666, \"#ed7953\"], [0.7777777777777778, \"#fb9f3a\"], [0.8888888888888888, \"#fdca26\"], [1.0, \"#f0f921\"]], \"type\": \"histogram2dcontour\"}], \"mesh3d\": [{\"colorbar\": {\"outlinewidth\": 0, \"ticks\": \"\"}, \"type\": \"mesh3d\"}], \"parcoords\": [{\"line\": {\"colorbar\": {\"outlinewidth\": 0, \"ticks\": \"\"}}, \"type\": \"parcoords\"}], \"pie\": [{\"automargin\": true, \"type\": \"pie\"}], \"scatter\": [{\"marker\": {\"colorbar\": {\"outlinewidth\": 0, \"ticks\": \"\"}}, \"type\": \"scatter\"}], \"scatter3d\": [{\"line\": {\"colorbar\": {\"outlinewidth\": 0, \"ticks\": \"\"}}, \"marker\": {\"colorbar\": {\"outlinewidth\": 0, \"ticks\": \"\"}}, \"type\": \"scatter3d\"}], \"scattercarpet\": [{\"marker\": {\"colorbar\": {\"outlinewidth\": 0, \"ticks\": \"\"}}, \"type\": \"scattercarpet\"}], \"scattergeo\": [{\"marker\": {\"colorbar\": {\"outlinewidth\": 0, \"ticks\": \"\"}}, \"type\": \"scattergeo\"}], \"scattergl\": [{\"marker\": {\"colorbar\": {\"outlinewidth\": 0, \"ticks\": \"\"}}, \"type\": \"scattergl\"}], \"scattermapbox\": [{\"marker\": {\"colorbar\": {\"outlinewidth\": 0, \"ticks\": \"\"}}, \"type\": \"scattermapbox\"}], \"scatterpolar\": [{\"marker\": {\"colorbar\": {\"outlinewidth\": 0, \"ticks\": \"\"}}, \"type\": \"scatterpolar\"}], \"scatterpolargl\": [{\"marker\": {\"colorbar\": {\"outlinewidth\": 0, \"ticks\": \"\"}}, \"type\": \"scatterpolargl\"}], \"scatterternary\": [{\"marker\": {\"colorbar\": {\"outlinewidth\": 0, \"ticks\": \"\"}}, \"type\": \"scatterternary\"}], \"surface\": [{\"colorbar\": {\"outlinewidth\": 0, \"ticks\": \"\"}, \"colorscale\": [[0.0, \"#0d0887\"], [0.1111111111111111, \"#46039f\"], [0.2222222222222222, \"#7201a8\"], [0.3333333333333333, \"#9c179e\"], [0.4444444444444444, \"#bd3786\"], [0.5555555555555556, \"#d8576b\"], [0.6666666666666666, \"#ed7953\"], [0.7777777777777778, \"#fb9f3a\"], [0.8888888888888888, \"#fdca26\"], [1.0, \"#f0f921\"]], \"type\": \"surface\"}], \"table\": [{\"cells\": {\"fill\": {\"color\": \"#EBF0F8\"}, \"line\": {\"color\": \"white\"}}, \"header\": {\"fill\": {\"color\": \"#C8D4E3\"}, \"line\": {\"color\": \"white\"}}, \"type\": \"table\"}]}, \"layout\": {\"annotationdefaults\": {\"arrowcolor\": \"#2a3f5f\", \"arrowhead\": 0, \"arrowwidth\": 1}, \"coloraxis\": {\"colorbar\": {\"outlinewidth\": 0, \"ticks\": \"\"}}, \"colorscale\": {\"diverging\": [[0, \"#8e0152\"], [0.1, \"#c51b7d\"], [0.2, \"#de77ae\"], [0.3, \"#f1b6da\"], [0.4, \"#fde0ef\"], [0.5, \"#f7f7f7\"], [0.6, \"#e6f5d0\"], [0.7, \"#b8e186\"], [0.8, \"#7fbc41\"], [0.9, \"#4d9221\"], [1, \"#276419\"]], \"sequential\": [[0.0, \"#0d0887\"], [0.1111111111111111, \"#46039f\"], [0.2222222222222222, \"#7201a8\"], [0.3333333333333333, \"#9c179e\"], [0.4444444444444444, \"#bd3786\"], [0.5555555555555556, \"#d8576b\"], [0.6666666666666666, \"#ed7953\"], [0.7777777777777778, \"#fb9f3a\"], [0.8888888888888888, \"#fdca26\"], [1.0, \"#f0f921\"]], \"sequentialminus\": [[0.0, \"#0d0887\"], [0.1111111111111111, \"#46039f\"], [0.2222222222222222, \"#7201a8\"], [0.3333333333333333, \"#9c179e\"], [0.4444444444444444, \"#bd3786\"], [0.5555555555555556, \"#d8576b\"], [0.6666666666666666, \"#ed7953\"], [0.7777777777777778, \"#fb9f3a\"], [0.8888888888888888, \"#fdca26\"], [1.0, \"#f0f921\"]]}, \"colorway\": [\"#636efa\", \"#EF553B\", \"#00cc96\", \"#ab63fa\", \"#FFA15A\", \"#19d3f3\", \"#FF6692\", \"#B6E880\", \"#FF97FF\", \"#FECB52\"], \"font\": {\"color\": \"#2a3f5f\"}, \"geo\": {\"bgcolor\": \"white\", \"lakecolor\": \"white\", \"landcolor\": \"#E5ECF6\", \"showlakes\": true, \"showland\": true, \"subunitcolor\": \"white\"}, \"hoverlabel\": {\"align\": \"left\"}, \"hovermode\": \"closest\", \"mapbox\": {\"style\": \"light\"}, \"paper_bgcolor\": \"white\", \"plot_bgcolor\": \"#E5ECF6\", \"polar\": {\"angularaxis\": {\"gridcolor\": \"white\", \"linecolor\": \"white\", \"ticks\": \"\"}, \"bgcolor\": \"#E5ECF6\", \"radialaxis\": {\"gridcolor\": \"white\", \"linecolor\": \"white\", \"ticks\": \"\"}}, \"scene\": {\"xaxis\": {\"backgroundcolor\": \"#E5ECF6\", \"gridcolor\": \"white\", \"gridwidth\": 2, \"linecolor\": \"white\", \"showbackground\": true, \"ticks\": \"\", \"zerolinecolor\": \"white\"}, \"yaxis\": {\"backgroundcolor\": \"#E5ECF6\", \"gridcolor\": \"white\", \"gridwidth\": 2, \"linecolor\": \"white\", \"showbackground\": true, \"ticks\": \"\", \"zerolinecolor\": \"white\"}, \"zaxis\": {\"backgroundcolor\": \"#E5ECF6\", \"gridcolor\": \"white\", \"gridwidth\": 2, \"linecolor\": \"white\", \"showbackground\": true, \"ticks\": \"\", \"zerolinecolor\": \"white\"}}, \"shapedefaults\": {\"line\": {\"color\": \"#2a3f5f\"}}, \"ternary\": {\"aaxis\": {\"gridcolor\": \"white\", \"linecolor\": \"white\", \"ticks\": \"\"}, \"baxis\": {\"gridcolor\": \"white\", \"linecolor\": \"white\", \"ticks\": \"\"}, \"bgcolor\": \"#E5ECF6\", \"caxis\": {\"gridcolor\": \"white\", \"linecolor\": \"white\", \"ticks\": \"\"}}, \"title\": {\"x\": 0.05}, \"xaxis\": {\"automargin\": true, \"gridcolor\": \"white\", \"linecolor\": \"white\", \"ticks\": \"\", \"title\": {\"standoff\": 15}, \"zerolinecolor\": \"white\", \"zerolinewidth\": 2}, \"yaxis\": {\"automargin\": true, \"gridcolor\": \"white\", \"linecolor\": \"white\", \"ticks\": \"\", \"title\": {\"standoff\": 15}, \"zerolinecolor\": \"white\", \"zerolinewidth\": 2}}}, \"title\": {\"text\": \"Optimization History Plot\"}, \"xaxis\": {\"title\": {\"text\": \"#Trials\"}}, \"yaxis\": {\"title\": {\"text\": \"Objective Value\"}}},\n",
              "                        {\"responsive\": true}\n",
              "                    ).then(function(){\n",
              "                            \n",
              "var gd = document.getElementById('38631061-3eef-4491-b372-ac6690c67c5a');\n",
              "var x = new MutationObserver(function (mutations, observer) {{\n",
              "        var display = window.getComputedStyle(gd).display;\n",
              "        if (!display || display === 'none') {{\n",
              "            console.log([gd, 'removed!']);\n",
              "            Plotly.purge(gd);\n",
              "            observer.disconnect();\n",
              "        }}\n",
              "}});\n",
              "\n",
              "// Listen for the removal of the full notebook cells\n",
              "var notebookContainer = gd.closest('#notebook-container');\n",
              "if (notebookContainer) {{\n",
              "    x.observe(notebookContainer, {childList: true});\n",
              "}}\n",
              "\n",
              "// Listen for the clearing of the current output cell\n",
              "var outputEl = gd.closest('.output');\n",
              "if (outputEl) {{\n",
              "    x.observe(outputEl, {childList: true});\n",
              "}}\n",
              "\n",
              "                        })\n",
              "                };\n",
              "                \n",
              "            </script>\n",
              "        </div>\n",
              "</body>\n",
              "</html>"
            ]
          },
          "metadata": {}
        }
      ]
    },
    {
      "cell_type": "code",
      "source": [
        "# Plotting the accuracies for each hyperparameter for each trial.\n",
        "optuna.visualization.plot_slice(study)"
      ],
      "metadata": {
        "colab": {
          "base_uri": "https://localhost:8080/",
          "height": 542
        },
        "id": "LLHJqXiH2oEg",
        "outputId": "d5419351-f875-4f3a-b103-7682d1bfca83"
      },
      "execution_count": 7,
      "outputs": [
        {
          "output_type": "display_data",
          "data": {
            "text/html": [
              "<html>\n",
              "<head><meta charset=\"utf-8\" /></head>\n",
              "<body>\n",
              "    <div>\n",
              "            <script src=\"https://cdnjs.cloudflare.com/ajax/libs/mathjax/2.7.5/MathJax.js?config=TeX-AMS-MML_SVG\"></script><script type=\"text/javascript\">if (window.MathJax) {MathJax.Hub.Config({SVG: {font: \"STIX-Web\"}});}</script>\n",
              "                <script type=\"text/javascript\">window.PlotlyConfig = {MathJaxConfig: 'local'};</script>\n",
              "        <script src=\"https://cdn.plot.ly/plotly-latest.min.js\"></script>    \n",
              "            <div id=\"7e1f070b-a6a3-495d-81ec-29d4e9c6dcbc\" class=\"plotly-graph-div\" style=\"height:525px; width:1200px;\"></div>\n",
              "            <script type=\"text/javascript\">\n",
              "                \n",
              "                    window.PLOTLYENV=window.PLOTLYENV || {};\n",
              "                    \n",
              "                if (document.getElementById(\"7e1f070b-a6a3-495d-81ec-29d4e9c6dcbc\")) {\n",
              "                    Plotly.newPlot(\n",
              "                        '7e1f070b-a6a3-495d-81ec-29d4e9c6dcbc',\n",
              "                        [{\"marker\": {\"color\": [0, 1, 2, 3, 4, 5, 6, 7, 8, 9, 10, 11, 12, 13, 14, 15, 16, 17, 18, 19, 20, 21, 22, 23, 24, 25, 26, 27, 28, 29, 30, 31, 32, 33, 34, 35, 36, 37, 38, 39, 40, 41, 42, 43, 44, 45, 46, 47, 48, 49, 50, 51, 52, 53, 54, 55, 56, 57, 58, 59, 60, 61, 62, 63, 64, 65, 66, 67, 68, 69, 70, 71, 72, 73, 74, 75, 76, 77, 78, 79, 80, 81, 82, 83, 84, 85, 86, 87, 88, 89, 90, 91, 92, 93, 94, 95, 96, 97, 98, 99], \"colorbar\": {\"title\": {\"text\": \"#Trials\"}, \"x\": 1.0, \"xpad\": 40}, \"colorscale\": [[0.0, \"rgb(247,251,255)\"], [0.125, \"rgb(222,235,247)\"], [0.25, \"rgb(198,219,239)\"], [0.375, \"rgb(158,202,225)\"], [0.5, \"rgb(107,174,214)\"], [0.625, \"rgb(66,146,198)\"], [0.75, \"rgb(33,113,181)\"], [0.875, \"rgb(8,81,156)\"], [1.0, \"rgb(8,48,107)\"]], \"line\": {\"color\": \"Grey\", \"width\": 0.5}, \"showscale\": true}, \"mode\": \"markers\", \"showlegend\": false, \"type\": \"scatter\", \"x\": [\"SVC\", \"RandomForest\", \"SVC\", \"SVC\", \"RandomForest\", \"SVC\", \"SVC\", \"SVC\", \"SVC\", \"RandomForest\", \"RandomForest\", \"SVC\", \"SVC\", \"SVC\", \"SVC\", \"SVC\", \"SVC\", \"SVC\", \"RandomForest\", \"SVC\", \"SVC\", \"SVC\", \"SVC\", \"SVC\", \"SVC\", \"SVC\", \"RandomForest\", \"SVC\", \"SVC\", \"SVC\", \"SVC\", \"SVC\", \"SVC\", \"SVC\", \"SVC\", \"RandomForest\", \"SVC\", \"SVC\", \"SVC\", \"RandomForest\", \"SVC\", \"SVC\", \"SVC\", \"SVC\", \"SVC\", \"SVC\", \"SVC\", \"SVC\", \"RandomForest\", \"SVC\", \"SVC\", \"SVC\", \"SVC\", \"SVC\", \"SVC\", \"SVC\", \"SVC\", \"SVC\", \"SVC\", \"RandomForest\", \"SVC\", \"SVC\", \"SVC\", \"SVC\", \"SVC\", \"SVC\", \"SVC\", \"SVC\", \"SVC\", \"SVC\", \"SVC\", \"SVC\", \"SVC\", \"SVC\", \"SVC\", \"SVC\", \"RandomForest\", \"SVC\", \"SVC\", \"SVC\", \"SVC\", \"SVC\", \"SVC\", \"SVC\", \"SVC\", \"SVC\", \"SVC\", \"SVC\", \"SVC\", \"RandomForest\", \"SVC\", \"SVC\", \"SVC\", \"SVC\", \"SVC\", \"SVC\", \"SVC\", \"SVC\", \"SVC\", \"SVC\"], \"xaxis\": \"x\", \"y\": [0.32, 0.8266666666666667, 0.96, 0.96, 0.9533333333333333, 0.4000000000000001, 0.9733333333333333, 0.96, 0.96, 0.94, 0.96, 0.98, 0.9533333333333333, 0.32, 0.32, 0.96, 0.32, 0.9666666666666667, 0.9666666666666667, 0.96, 0.98, 0.9733333333333333, 0.9533333333333333, 0.9666666666666667, 0.96, 0.32, 0.96, 0.9666666666666667, 0.32, 0.32, 0.96, 0.98, 0.9733333333333333, 0.96, 0.9199999999999999, 0.8466666666666667, 0.98, 0.96, 0.9666666666666667, 0.94, 0.96, 0.96, 0.98, 0.9733333333333333, 0.9466666666666667, 0.32, 0.84, 0.96, 0.9333333333333332, 0.96, 0.98, 0.9866666666666667, 0.96, 0.9866666666666667, 0.3466666666666667, 0.9733333333333333, 0.96, 0.96, 0.32, 0.9466666666666667, 0.32, 0.9866666666666667, 0.96, 0.9866666666666667, 0.9866666666666667, 0.96, 0.96, 0.9666666666666667, 0.9533333333333333, 0.96, 0.9733333333333333, 0.98, 0.9466666666666667, 0.32, 0.98, 0.94, 0.94, 0.96, 0.9666666666666667, 0.96, 0.9733333333333333, 0.98, 0.9666666666666667, 0.96, 0.96, 0.9866666666666667, 0.9733333333333333, 0.7466666666666667, 0.9666666666666667, 0.9666666666666667, 0.9733333333333333, 0.9666666666666667, 0.98, 0.94, 0.94, 0.9733333333333333, 0.9666666666666667, 0.32, 0.98, 0.96], \"yaxis\": \"y\"}, {\"marker\": {\"color\": [1, 4, 9, 10, 18, 26, 35, 39, 48, 59, 76, 89], \"colorbar\": {\"title\": {\"text\": \"#Trials\"}, \"x\": 1.0, \"xpad\": 40}, \"colorscale\": [[0.0, \"rgb(247,251,255)\"], [0.125, \"rgb(222,235,247)\"], [0.25, \"rgb(198,219,239)\"], [0.375, \"rgb(158,202,225)\"], [0.5, \"rgb(107,174,214)\"], [0.625, \"rgb(66,146,198)\"], [0.75, \"rgb(33,113,181)\"], [0.875, \"rgb(8,81,156)\"], [1.0, \"rgb(8,48,107)\"]], \"line\": {\"color\": \"Grey\", \"width\": 0.5}, \"showscale\": false}, \"mode\": \"markers\", \"showlegend\": false, \"type\": \"scatter\", \"x\": [1.8110976460098747, 3.4604650638481456, 3.6300740911485976, 30.451691139692713, 20.831551374826436, 10.869986410556411, 1.3171363700481535, 9.598802288813921, 1.0431271891629543, 7.238537413068287, 2.5292143270336243, 16.577991408542584], \"xaxis\": \"x2\", \"y\": [0.8266666666666667, 0.9533333333333333, 0.94, 0.96, 0.9666666666666667, 0.96, 0.8466666666666667, 0.94, 0.9333333333333332, 0.9466666666666667, 0.94, 0.9666666666666667], \"yaxis\": \"y2\"}, {\"marker\": {\"color\": [1, 4, 9, 10, 18, 26, 35, 39, 48, 59, 76, 89], \"colorbar\": {\"title\": {\"text\": \"#Trials\"}, \"x\": 1.0, \"xpad\": 40}, \"colorscale\": [[0.0, \"rgb(247,251,255)\"], [0.125, \"rgb(222,235,247)\"], [0.25, \"rgb(198,219,239)\"], [0.375, \"rgb(158,202,225)\"], [0.5, \"rgb(107,174,214)\"], [0.625, \"rgb(66,146,198)\"], [0.75, \"rgb(33,113,181)\"], [0.875, \"rgb(8,81,156)\"], [1.0, \"rgb(8,48,107)\"]], \"line\": {\"color\": \"Grey\", \"width\": 0.5}, \"showscale\": false}, \"mode\": \"markers\", \"showlegend\": false, \"type\": \"scatter\", \"x\": [5, 20, 4, 17, 12, 11, 10, 2, 15, 7, 20, 8], \"xaxis\": \"x3\", \"y\": [0.8266666666666667, 0.9533333333333333, 0.94, 0.96, 0.9666666666666667, 0.96, 0.8466666666666667, 0.94, 0.9333333333333332, 0.9466666666666667, 0.94, 0.9666666666666667], \"yaxis\": \"y3\"}, {\"marker\": {\"color\": [0, 2, 3, 5, 6, 7, 8, 11, 12, 13, 14, 15, 16, 17, 19, 20, 21, 22, 23, 24, 25, 27, 28, 29, 30, 31, 32, 33, 34, 36, 37, 38, 40, 41, 42, 43, 44, 45, 46, 47, 49, 50, 51, 52, 53, 54, 55, 56, 57, 58, 60, 61, 62, 63, 64, 65, 66, 67, 68, 69, 70, 71, 72, 73, 74, 75, 77, 78, 79, 80, 81, 82, 83, 84, 85, 86, 87, 88, 90, 91, 92, 93, 94, 95, 96, 97, 98, 99], \"colorbar\": {\"title\": {\"text\": \"#Trials\"}, \"x\": 1.0, \"xpad\": 40}, \"colorscale\": [[0.0, \"rgb(247,251,255)\"], [0.125, \"rgb(222,235,247)\"], [0.25, \"rgb(198,219,239)\"], [0.375, \"rgb(158,202,225)\"], [0.5, \"rgb(107,174,214)\"], [0.625, \"rgb(66,146,198)\"], [0.75, \"rgb(33,113,181)\"], [0.875, \"rgb(8,81,156)\"], [1.0, \"rgb(8,48,107)\"]], \"line\": {\"color\": \"Grey\", \"width\": 0.5}, \"showscale\": false}, \"mode\": \"markers\", \"showlegend\": false, \"type\": \"scatter\", \"x\": [8.507344340903596e-05, 82.70812812893928, 1151.1733771157194, 0.0180351185788522, 12.115121921674026, 542918375.9709126, 370052249.92854327, 8.451374334622919, 473.2792473756255, 5.142915923457433e-09, 0.005375902418492366, 1897782.2264710492, 1.0952438153282127e-06, 0.8294089382653002, 22111.746658393502, 9.68345127348279, 0.9808876391970008, 0.14359174928279198, 41.72592896762406, 115866.07868311134, 0.00020334425512473473, 1.368522801256134, 0.0006382307210021538, 1.8649051989204755e-06, 49926.07620552398, 7.0203539981948255, 2.082509631347816, 1288.920050989004, 0.05732296825814517, 8.557311668495487, 10790027.354726937, 19.754995234117807, 1773.8968081082082, 0.3002051809968453, 7.714447153125875, 13.352781258245866, 218.93594609014156, 0.0020174865381144087, 0.0388470767240844, 6119.335630259427, 143.035725597852, 6.895930737844627, 4.6057290517024505, 90.4316757853567, 4.4528281553124, 0.017708552646286686, 2.4440202190228817, 523.8546332348949, 0.2174021272127327, 3.243484055726656e-05, 0.008216203439250634, 4.219937226509429, 44.319847831148834, 4.578386849955323, 4.353739445319227, 0.3270332591741448, 6188.264448429227, 1.3147786251927283, 0.14184382715753804, 59.889941736592164, 2.775331871312519, 9.084739014541201, 308.9189283642354, 1.5610640203721997e-09, 5.1104909043308355, 0.07669736979061818, 29.25674347003416, 0.5402610507911858, 4018360597.315786, 1.1179214391178591, 6.386827113136078, 20.853406261075293, 1191.38071410805, 99.98440932555295, 4.841729176273609, 2.9692478727559695, 0.02677124577747369, 0.527928046708891, 2.901679635741058, 22.54933570223184, 7.060862343922682, 256.85097710695186, 0.10222026018969499, 3.539172606250211, 0.6833729244251625, 0.0024628710418297473, 8.330504310787482, 60.03561409122719], \"xaxis\": \"x4\", \"y\": [0.32, 0.96, 0.96, 0.4000000000000001, 0.9733333333333333, 0.96, 0.96, 0.98, 0.9533333333333333, 0.32, 0.32, 0.96, 0.32, 0.9666666666666667, 0.96, 0.98, 0.9733333333333333, 0.9533333333333333, 0.9666666666666667, 0.96, 0.32, 0.9666666666666667, 0.32, 0.32, 0.96, 0.98, 0.9733333333333333, 0.96, 0.9199999999999999, 0.98, 0.96, 0.9666666666666667, 0.96, 0.96, 0.98, 0.9733333333333333, 0.9466666666666667, 0.32, 0.84, 0.96, 0.96, 0.98, 0.9866666666666667, 0.96, 0.9866666666666667, 0.3466666666666667, 0.9733333333333333, 0.96, 0.96, 0.32, 0.32, 0.9866666666666667, 0.96, 0.9866666666666667, 0.9866666666666667, 0.96, 0.96, 0.9666666666666667, 0.9533333333333333, 0.96, 0.9733333333333333, 0.98, 0.9466666666666667, 0.32, 0.98, 0.94, 0.96, 0.9666666666666667, 0.96, 0.9733333333333333, 0.98, 0.9666666666666667, 0.96, 0.96, 0.9866666666666667, 0.9733333333333333, 0.7466666666666667, 0.9666666666666667, 0.9733333333333333, 0.9666666666666667, 0.98, 0.94, 0.94, 0.9733333333333333, 0.9666666666666667, 0.32, 0.98, 0.96], \"yaxis\": \"y4\"}],\n",
              "                        {\"template\": {\"data\": {\"bar\": [{\"error_x\": {\"color\": \"#2a3f5f\"}, \"error_y\": {\"color\": \"#2a3f5f\"}, \"marker\": {\"line\": {\"color\": \"#E5ECF6\", \"width\": 0.5}}, \"type\": \"bar\"}], \"barpolar\": [{\"marker\": {\"line\": {\"color\": \"#E5ECF6\", \"width\": 0.5}}, \"type\": \"barpolar\"}], \"carpet\": [{\"aaxis\": {\"endlinecolor\": \"#2a3f5f\", \"gridcolor\": \"white\", \"linecolor\": \"white\", \"minorgridcolor\": \"white\", \"startlinecolor\": \"#2a3f5f\"}, \"baxis\": {\"endlinecolor\": \"#2a3f5f\", \"gridcolor\": \"white\", \"linecolor\": \"white\", \"minorgridcolor\": \"white\", \"startlinecolor\": \"#2a3f5f\"}, \"type\": \"carpet\"}], \"choropleth\": [{\"colorbar\": {\"outlinewidth\": 0, \"ticks\": \"\"}, \"type\": \"choropleth\"}], \"contour\": [{\"colorbar\": {\"outlinewidth\": 0, \"ticks\": \"\"}, \"colorscale\": [[0.0, \"#0d0887\"], [0.1111111111111111, \"#46039f\"], [0.2222222222222222, \"#7201a8\"], [0.3333333333333333, \"#9c179e\"], [0.4444444444444444, \"#bd3786\"], [0.5555555555555556, \"#d8576b\"], [0.6666666666666666, \"#ed7953\"], [0.7777777777777778, \"#fb9f3a\"], [0.8888888888888888, \"#fdca26\"], [1.0, \"#f0f921\"]], \"type\": \"contour\"}], \"contourcarpet\": [{\"colorbar\": {\"outlinewidth\": 0, \"ticks\": \"\"}, \"type\": \"contourcarpet\"}], \"heatmap\": [{\"colorbar\": {\"outlinewidth\": 0, \"ticks\": \"\"}, \"colorscale\": [[0.0, \"#0d0887\"], [0.1111111111111111, \"#46039f\"], [0.2222222222222222, \"#7201a8\"], [0.3333333333333333, \"#9c179e\"], [0.4444444444444444, \"#bd3786\"], [0.5555555555555556, \"#d8576b\"], [0.6666666666666666, \"#ed7953\"], [0.7777777777777778, \"#fb9f3a\"], [0.8888888888888888, \"#fdca26\"], [1.0, \"#f0f921\"]], \"type\": \"heatmap\"}], \"heatmapgl\": [{\"colorbar\": {\"outlinewidth\": 0, \"ticks\": \"\"}, \"colorscale\": [[0.0, \"#0d0887\"], [0.1111111111111111, \"#46039f\"], [0.2222222222222222, \"#7201a8\"], [0.3333333333333333, \"#9c179e\"], [0.4444444444444444, \"#bd3786\"], [0.5555555555555556, \"#d8576b\"], [0.6666666666666666, \"#ed7953\"], [0.7777777777777778, \"#fb9f3a\"], [0.8888888888888888, \"#fdca26\"], [1.0, \"#f0f921\"]], \"type\": \"heatmapgl\"}], \"histogram\": [{\"marker\": {\"colorbar\": {\"outlinewidth\": 0, \"ticks\": \"\"}}, \"type\": \"histogram\"}], \"histogram2d\": [{\"colorbar\": {\"outlinewidth\": 0, \"ticks\": \"\"}, \"colorscale\": [[0.0, \"#0d0887\"], [0.1111111111111111, \"#46039f\"], [0.2222222222222222, \"#7201a8\"], [0.3333333333333333, \"#9c179e\"], [0.4444444444444444, \"#bd3786\"], [0.5555555555555556, \"#d8576b\"], [0.6666666666666666, \"#ed7953\"], [0.7777777777777778, \"#fb9f3a\"], [0.8888888888888888, \"#fdca26\"], [1.0, \"#f0f921\"]], \"type\": \"histogram2d\"}], \"histogram2dcontour\": [{\"colorbar\": {\"outlinewidth\": 0, \"ticks\": \"\"}, \"colorscale\": [[0.0, \"#0d0887\"], [0.1111111111111111, \"#46039f\"], [0.2222222222222222, \"#7201a8\"], [0.3333333333333333, \"#9c179e\"], [0.4444444444444444, \"#bd3786\"], [0.5555555555555556, \"#d8576b\"], [0.6666666666666666, \"#ed7953\"], [0.7777777777777778, \"#fb9f3a\"], [0.8888888888888888, \"#fdca26\"], [1.0, \"#f0f921\"]], \"type\": \"histogram2dcontour\"}], \"mesh3d\": [{\"colorbar\": {\"outlinewidth\": 0, \"ticks\": \"\"}, \"type\": \"mesh3d\"}], \"parcoords\": [{\"line\": {\"colorbar\": {\"outlinewidth\": 0, \"ticks\": \"\"}}, \"type\": \"parcoords\"}], \"pie\": [{\"automargin\": true, \"type\": \"pie\"}], \"scatter\": [{\"marker\": {\"colorbar\": {\"outlinewidth\": 0, \"ticks\": \"\"}}, \"type\": \"scatter\"}], \"scatter3d\": [{\"line\": {\"colorbar\": {\"outlinewidth\": 0, \"ticks\": \"\"}}, \"marker\": {\"colorbar\": {\"outlinewidth\": 0, \"ticks\": \"\"}}, \"type\": \"scatter3d\"}], \"scattercarpet\": [{\"marker\": {\"colorbar\": {\"outlinewidth\": 0, \"ticks\": \"\"}}, \"type\": \"scattercarpet\"}], \"scattergeo\": [{\"marker\": {\"colorbar\": {\"outlinewidth\": 0, \"ticks\": \"\"}}, \"type\": \"scattergeo\"}], \"scattergl\": [{\"marker\": {\"colorbar\": {\"outlinewidth\": 0, \"ticks\": \"\"}}, \"type\": \"scattergl\"}], \"scattermapbox\": [{\"marker\": {\"colorbar\": {\"outlinewidth\": 0, \"ticks\": \"\"}}, \"type\": \"scattermapbox\"}], \"scatterpolar\": [{\"marker\": {\"colorbar\": {\"outlinewidth\": 0, \"ticks\": \"\"}}, \"type\": \"scatterpolar\"}], \"scatterpolargl\": [{\"marker\": {\"colorbar\": {\"outlinewidth\": 0, \"ticks\": \"\"}}, \"type\": \"scatterpolargl\"}], \"scatterternary\": [{\"marker\": {\"colorbar\": {\"outlinewidth\": 0, \"ticks\": \"\"}}, \"type\": \"scatterternary\"}], \"surface\": [{\"colorbar\": {\"outlinewidth\": 0, \"ticks\": \"\"}, \"colorscale\": [[0.0, \"#0d0887\"], [0.1111111111111111, \"#46039f\"], [0.2222222222222222, \"#7201a8\"], [0.3333333333333333, \"#9c179e\"], [0.4444444444444444, \"#bd3786\"], [0.5555555555555556, \"#d8576b\"], [0.6666666666666666, \"#ed7953\"], [0.7777777777777778, \"#fb9f3a\"], [0.8888888888888888, \"#fdca26\"], [1.0, \"#f0f921\"]], \"type\": \"surface\"}], \"table\": [{\"cells\": {\"fill\": {\"color\": \"#EBF0F8\"}, \"line\": {\"color\": \"white\"}}, \"header\": {\"fill\": {\"color\": \"#C8D4E3\"}, \"line\": {\"color\": \"white\"}}, \"type\": \"table\"}]}, \"layout\": {\"annotationdefaults\": {\"arrowcolor\": \"#2a3f5f\", \"arrowhead\": 0, \"arrowwidth\": 1}, \"coloraxis\": {\"colorbar\": {\"outlinewidth\": 0, \"ticks\": \"\"}}, \"colorscale\": {\"diverging\": [[0, \"#8e0152\"], [0.1, \"#c51b7d\"], [0.2, \"#de77ae\"], [0.3, \"#f1b6da\"], [0.4, \"#fde0ef\"], [0.5, \"#f7f7f7\"], [0.6, \"#e6f5d0\"], [0.7, \"#b8e186\"], [0.8, \"#7fbc41\"], [0.9, \"#4d9221\"], [1, \"#276419\"]], \"sequential\": [[0.0, \"#0d0887\"], [0.1111111111111111, \"#46039f\"], [0.2222222222222222, \"#7201a8\"], [0.3333333333333333, \"#9c179e\"], [0.4444444444444444, \"#bd3786\"], [0.5555555555555556, \"#d8576b\"], [0.6666666666666666, \"#ed7953\"], [0.7777777777777778, \"#fb9f3a\"], [0.8888888888888888, \"#fdca26\"], [1.0, \"#f0f921\"]], \"sequentialminus\": [[0.0, \"#0d0887\"], [0.1111111111111111, \"#46039f\"], [0.2222222222222222, \"#7201a8\"], [0.3333333333333333, \"#9c179e\"], [0.4444444444444444, \"#bd3786\"], [0.5555555555555556, \"#d8576b\"], [0.6666666666666666, \"#ed7953\"], [0.7777777777777778, \"#fb9f3a\"], [0.8888888888888888, \"#fdca26\"], [1.0, \"#f0f921\"]]}, \"colorway\": [\"#636efa\", \"#EF553B\", \"#00cc96\", \"#ab63fa\", \"#FFA15A\", \"#19d3f3\", \"#FF6692\", \"#B6E880\", \"#FF97FF\", \"#FECB52\"], \"font\": {\"color\": \"#2a3f5f\"}, \"geo\": {\"bgcolor\": \"white\", \"lakecolor\": \"white\", \"landcolor\": \"#E5ECF6\", \"showlakes\": true, \"showland\": true, \"subunitcolor\": \"white\"}, \"hoverlabel\": {\"align\": \"left\"}, \"hovermode\": \"closest\", \"mapbox\": {\"style\": \"light\"}, \"paper_bgcolor\": \"white\", \"plot_bgcolor\": \"#E5ECF6\", \"polar\": {\"angularaxis\": {\"gridcolor\": \"white\", \"linecolor\": \"white\", \"ticks\": \"\"}, \"bgcolor\": \"#E5ECF6\", \"radialaxis\": {\"gridcolor\": \"white\", \"linecolor\": \"white\", \"ticks\": \"\"}}, \"scene\": {\"xaxis\": {\"backgroundcolor\": \"#E5ECF6\", \"gridcolor\": \"white\", \"gridwidth\": 2, \"linecolor\": \"white\", \"showbackground\": true, \"ticks\": \"\", \"zerolinecolor\": \"white\"}, \"yaxis\": {\"backgroundcolor\": \"#E5ECF6\", \"gridcolor\": \"white\", \"gridwidth\": 2, \"linecolor\": \"white\", \"showbackground\": true, \"ticks\": \"\", \"zerolinecolor\": \"white\"}, \"zaxis\": {\"backgroundcolor\": \"#E5ECF6\", \"gridcolor\": \"white\", \"gridwidth\": 2, \"linecolor\": \"white\", \"showbackground\": true, \"ticks\": \"\", \"zerolinecolor\": \"white\"}}, \"shapedefaults\": {\"line\": {\"color\": \"#2a3f5f\"}}, \"ternary\": {\"aaxis\": {\"gridcolor\": \"white\", \"linecolor\": \"white\", \"ticks\": \"\"}, \"baxis\": {\"gridcolor\": \"white\", \"linecolor\": \"white\", \"ticks\": \"\"}, \"bgcolor\": \"#E5ECF6\", \"caxis\": {\"gridcolor\": \"white\", \"linecolor\": \"white\", \"ticks\": \"\"}}, \"title\": {\"x\": 0.05}, \"xaxis\": {\"automargin\": true, \"gridcolor\": \"white\", \"linecolor\": \"white\", \"ticks\": \"\", \"title\": {\"standoff\": 15}, \"zerolinecolor\": \"white\", \"zerolinewidth\": 2}, \"yaxis\": {\"automargin\": true, \"gridcolor\": \"white\", \"linecolor\": \"white\", \"ticks\": \"\", \"title\": {\"standoff\": 15}, \"zerolinecolor\": \"white\", \"zerolinewidth\": 2}}}, \"title\": {\"text\": \"Slice Plot\"}, \"width\": 1200, \"xaxis\": {\"anchor\": \"y\", \"domain\": [0.0, 0.2125], \"title\": {\"text\": \"classifier\"}}, \"xaxis2\": {\"anchor\": \"y2\", \"domain\": [0.2625, 0.475], \"title\": {\"text\": \"max_depth\"}, \"type\": \"log\"}, \"xaxis3\": {\"anchor\": \"y3\", \"domain\": [0.525, 0.7375], \"title\": {\"text\": \"n_estimators\"}}, \"xaxis4\": {\"anchor\": \"y4\", \"domain\": [0.7875, 1.0], \"title\": {\"text\": \"svc_c\"}, \"type\": \"log\"}, \"yaxis\": {\"anchor\": \"x\", \"domain\": [0.0, 1.0], \"title\": {\"text\": \"Objective Value\"}}, \"yaxis2\": {\"anchor\": \"x2\", \"domain\": [0.0, 1.0], \"matches\": \"y\", \"showticklabels\": false}, \"yaxis3\": {\"anchor\": \"x3\", \"domain\": [0.0, 1.0], \"matches\": \"y\", \"showticklabels\": false}, \"yaxis4\": {\"anchor\": \"x4\", \"domain\": [0.0, 1.0], \"matches\": \"y\", \"showticklabels\": false}},\n",
              "                        {\"responsive\": true}\n",
              "                    ).then(function(){\n",
              "                            \n",
              "var gd = document.getElementById('7e1f070b-a6a3-495d-81ec-29d4e9c6dcbc');\n",
              "var x = new MutationObserver(function (mutations, observer) {{\n",
              "        var display = window.getComputedStyle(gd).display;\n",
              "        if (!display || display === 'none') {{\n",
              "            console.log([gd, 'removed!']);\n",
              "            Plotly.purge(gd);\n",
              "            observer.disconnect();\n",
              "        }}\n",
              "}});\n",
              "\n",
              "// Listen for the removal of the full notebook cells\n",
              "var notebookContainer = gd.closest('#notebook-container');\n",
              "if (notebookContainer) {{\n",
              "    x.observe(notebookContainer, {childList: true});\n",
              "}}\n",
              "\n",
              "// Listen for the clearing of the current output cell\n",
              "var outputEl = gd.closest('.output');\n",
              "if (outputEl) {{\n",
              "    x.observe(outputEl, {childList: true});\n",
              "}}\n",
              "\n",
              "                        })\n",
              "                };\n",
              "                \n",
              "            </script>\n",
              "        </div>\n",
              "</body>\n",
              "</html>"
            ]
          },
          "metadata": {}
        }
      ]
    },
    {
      "cell_type": "code",
      "source": [
        "# Plotting the accuracy surface for the hyperparameters involved in the random forest model.\n",
        "optuna.visualization.plot_contour(study, params=['n_estimators', 'max_depth'])"
      ],
      "metadata": {
        "colab": {
          "base_uri": "https://localhost:8080/",
          "height": 542
        },
        "id": "oDLHWO6Y2uwA",
        "outputId": "9c519f8a-40a8-42a3-f97a-830e9fd50d5e"
      },
      "execution_count": 8,
      "outputs": [
        {
          "output_type": "display_data",
          "data": {
            "text/html": [
              "<html>\n",
              "<head><meta charset=\"utf-8\" /></head>\n",
              "<body>\n",
              "    <div>\n",
              "            <script src=\"https://cdnjs.cloudflare.com/ajax/libs/mathjax/2.7.5/MathJax.js?config=TeX-AMS-MML_SVG\"></script><script type=\"text/javascript\">if (window.MathJax) {MathJax.Hub.Config({SVG: {font: \"STIX-Web\"}});}</script>\n",
              "                <script type=\"text/javascript\">window.PlotlyConfig = {MathJaxConfig: 'local'};</script>\n",
              "        <script src=\"https://cdn.plot.ly/plotly-latest.min.js\"></script>    \n",
              "            <div id=\"8fe25eeb-2741-46b0-b5ad-9817e5c45856\" class=\"plotly-graph-div\" style=\"height:525px; width:100%;\"></div>\n",
              "            <script type=\"text/javascript\">\n",
              "                \n",
              "                    window.PLOTLYENV=window.PLOTLYENV || {};\n",
              "                    \n",
              "                if (document.getElementById(\"8fe25eeb-2741-46b0-b5ad-9817e5c45856\")) {\n",
              "                    Plotly.newPlot(\n",
              "                        '8fe25eeb-2741-46b0-b5ad-9817e5c45856',\n",
              "                        [{\"colorbar\": {\"title\": {\"text\": \"Objective Value\"}}, \"colorscale\": [[0, \"rgb(5,10,172)\"], [0.35, \"rgb(40,60,190)\"], [0.5, \"rgb(70,100,245)\"], [0.6, \"rgb(90,120,245)\"], [0.7, \"rgb(106,137,247)\"], [1, \"rgb(220,220,220)\"]], \"connectgaps\": true, \"contours\": {\"coloring\": \"heatmap\"}, \"hoverinfo\": \"none\", \"line\": {\"smoothing\": 1.3}, \"reversescale\": false, \"type\": \"contour\", \"x\": [0.8811981118595187, 1.0431271891629543, 1.3171363700481535, 1.8110976460098747, 2.5292143270336243, 3.4604650638481456, 3.6300740911485976, 7.238537413068287, 9.598802288813921, 10.869986410556411, 16.577991408542584, 20.831551374826436, 30.451691139692713, 36.04749778318874], \"y\": [1.1, 2, 4, 5, 7, 8, 10, 11, 12, 15, 17, 20, 20.9], \"z\": [[null, null, null, null, null, null, null, null, null, null, null, null, null, null], [null, null, null, null, null, null, null, null, 0.94, null, null, null, null, null], [null, null, null, null, null, null, 0.94, null, null, null, null, null, null, null], [null, null, null, 0.8266666666666667, null, null, null, null, null, null, null, null, null, null], [null, null, null, null, null, null, null, 0.9466666666666667, null, null, null, null, null, null], [null, null, null, null, null, null, null, null, null, null, 0.9666666666666667, null, null, null], [null, null, 0.8466666666666667, null, null, null, null, null, null, null, null, null, null, null], [null, null, null, null, null, null, null, null, null, 0.96, null, null, null, null], [null, null, null, null, null, null, null, null, null, null, null, 0.9666666666666667, null, null], [null, 0.9333333333333332, null, null, null, null, null, null, null, null, null, null, null, null], [null, null, null, null, null, null, null, null, null, null, null, null, 0.96, null], [null, null, null, null, 0.94, 0.9533333333333333, null, null, null, null, null, null, null, null], [null, null, null, null, null, null, null, null, null, null, null, null, null, null]]}, {\"marker\": {\"color\": \"black\", \"line\": {\"color\": \"Grey\", \"width\": 0.5}}, \"mode\": \"markers\", \"showlegend\": false, \"type\": \"scatter\", \"x\": [1.8110976460098747, 3.4604650638481456, 3.6300740911485976, 30.451691139692713, 20.831551374826436, 10.869986410556411, 1.3171363700481535, 9.598802288813921, 1.0431271891629543, 7.238537413068287, 2.5292143270336243, 16.577991408542584], \"y\": [5, 20, 4, 17, 12, 11, 10, 2, 15, 7, 20, 8]}],\n",
              "                        {\"template\": {\"data\": {\"bar\": [{\"error_x\": {\"color\": \"#2a3f5f\"}, \"error_y\": {\"color\": \"#2a3f5f\"}, \"marker\": {\"line\": {\"color\": \"#E5ECF6\", \"width\": 0.5}}, \"type\": \"bar\"}], \"barpolar\": [{\"marker\": {\"line\": {\"color\": \"#E5ECF6\", \"width\": 0.5}}, \"type\": \"barpolar\"}], \"carpet\": [{\"aaxis\": {\"endlinecolor\": \"#2a3f5f\", \"gridcolor\": \"white\", \"linecolor\": \"white\", \"minorgridcolor\": \"white\", \"startlinecolor\": \"#2a3f5f\"}, \"baxis\": {\"endlinecolor\": \"#2a3f5f\", \"gridcolor\": \"white\", \"linecolor\": \"white\", \"minorgridcolor\": \"white\", \"startlinecolor\": \"#2a3f5f\"}, \"type\": \"carpet\"}], \"choropleth\": [{\"colorbar\": {\"outlinewidth\": 0, \"ticks\": \"\"}, \"type\": \"choropleth\"}], \"contour\": [{\"colorbar\": {\"outlinewidth\": 0, \"ticks\": \"\"}, \"colorscale\": [[0.0, \"#0d0887\"], [0.1111111111111111, \"#46039f\"], [0.2222222222222222, \"#7201a8\"], [0.3333333333333333, \"#9c179e\"], [0.4444444444444444, \"#bd3786\"], [0.5555555555555556, \"#d8576b\"], [0.6666666666666666, \"#ed7953\"], [0.7777777777777778, \"#fb9f3a\"], [0.8888888888888888, \"#fdca26\"], [1.0, \"#f0f921\"]], \"type\": \"contour\"}], \"contourcarpet\": [{\"colorbar\": {\"outlinewidth\": 0, \"ticks\": \"\"}, \"type\": \"contourcarpet\"}], \"heatmap\": [{\"colorbar\": {\"outlinewidth\": 0, \"ticks\": \"\"}, \"colorscale\": [[0.0, \"#0d0887\"], [0.1111111111111111, \"#46039f\"], [0.2222222222222222, \"#7201a8\"], [0.3333333333333333, \"#9c179e\"], [0.4444444444444444, \"#bd3786\"], [0.5555555555555556, \"#d8576b\"], [0.6666666666666666, \"#ed7953\"], [0.7777777777777778, \"#fb9f3a\"], [0.8888888888888888, \"#fdca26\"], [1.0, \"#f0f921\"]], \"type\": \"heatmap\"}], \"heatmapgl\": [{\"colorbar\": {\"outlinewidth\": 0, \"ticks\": \"\"}, \"colorscale\": [[0.0, \"#0d0887\"], [0.1111111111111111, \"#46039f\"], [0.2222222222222222, \"#7201a8\"], [0.3333333333333333, \"#9c179e\"], [0.4444444444444444, \"#bd3786\"], [0.5555555555555556, \"#d8576b\"], [0.6666666666666666, \"#ed7953\"], [0.7777777777777778, \"#fb9f3a\"], [0.8888888888888888, \"#fdca26\"], [1.0, \"#f0f921\"]], \"type\": \"heatmapgl\"}], \"histogram\": [{\"marker\": {\"colorbar\": {\"outlinewidth\": 0, \"ticks\": \"\"}}, \"type\": \"histogram\"}], \"histogram2d\": [{\"colorbar\": {\"outlinewidth\": 0, \"ticks\": \"\"}, \"colorscale\": [[0.0, \"#0d0887\"], [0.1111111111111111, \"#46039f\"], [0.2222222222222222, \"#7201a8\"], [0.3333333333333333, \"#9c179e\"], [0.4444444444444444, \"#bd3786\"], [0.5555555555555556, \"#d8576b\"], [0.6666666666666666, \"#ed7953\"], [0.7777777777777778, \"#fb9f3a\"], [0.8888888888888888, \"#fdca26\"], [1.0, \"#f0f921\"]], \"type\": \"histogram2d\"}], \"histogram2dcontour\": [{\"colorbar\": {\"outlinewidth\": 0, \"ticks\": \"\"}, \"colorscale\": [[0.0, \"#0d0887\"], [0.1111111111111111, \"#46039f\"], [0.2222222222222222, \"#7201a8\"], [0.3333333333333333, \"#9c179e\"], [0.4444444444444444, \"#bd3786\"], [0.5555555555555556, \"#d8576b\"], [0.6666666666666666, \"#ed7953\"], [0.7777777777777778, \"#fb9f3a\"], [0.8888888888888888, \"#fdca26\"], [1.0, \"#f0f921\"]], \"type\": \"histogram2dcontour\"}], \"mesh3d\": [{\"colorbar\": {\"outlinewidth\": 0, \"ticks\": \"\"}, \"type\": \"mesh3d\"}], \"parcoords\": [{\"line\": {\"colorbar\": {\"outlinewidth\": 0, \"ticks\": \"\"}}, \"type\": \"parcoords\"}], \"pie\": [{\"automargin\": true, \"type\": \"pie\"}], \"scatter\": [{\"marker\": {\"colorbar\": {\"outlinewidth\": 0, \"ticks\": \"\"}}, \"type\": \"scatter\"}], \"scatter3d\": [{\"line\": {\"colorbar\": {\"outlinewidth\": 0, \"ticks\": \"\"}}, \"marker\": {\"colorbar\": {\"outlinewidth\": 0, \"ticks\": \"\"}}, \"type\": \"scatter3d\"}], \"scattercarpet\": [{\"marker\": {\"colorbar\": {\"outlinewidth\": 0, \"ticks\": \"\"}}, \"type\": \"scattercarpet\"}], \"scattergeo\": [{\"marker\": {\"colorbar\": {\"outlinewidth\": 0, \"ticks\": \"\"}}, \"type\": \"scattergeo\"}], \"scattergl\": [{\"marker\": {\"colorbar\": {\"outlinewidth\": 0, \"ticks\": \"\"}}, \"type\": \"scattergl\"}], \"scattermapbox\": [{\"marker\": {\"colorbar\": {\"outlinewidth\": 0, \"ticks\": \"\"}}, \"type\": \"scattermapbox\"}], \"scatterpolar\": [{\"marker\": {\"colorbar\": {\"outlinewidth\": 0, \"ticks\": \"\"}}, \"type\": \"scatterpolar\"}], \"scatterpolargl\": [{\"marker\": {\"colorbar\": {\"outlinewidth\": 0, \"ticks\": \"\"}}, \"type\": \"scatterpolargl\"}], \"scatterternary\": [{\"marker\": {\"colorbar\": {\"outlinewidth\": 0, \"ticks\": \"\"}}, \"type\": \"scatterternary\"}], \"surface\": [{\"colorbar\": {\"outlinewidth\": 0, \"ticks\": \"\"}, \"colorscale\": [[0.0, \"#0d0887\"], [0.1111111111111111, \"#46039f\"], [0.2222222222222222, \"#7201a8\"], [0.3333333333333333, \"#9c179e\"], [0.4444444444444444, \"#bd3786\"], [0.5555555555555556, \"#d8576b\"], [0.6666666666666666, \"#ed7953\"], [0.7777777777777778, \"#fb9f3a\"], [0.8888888888888888, \"#fdca26\"], [1.0, \"#f0f921\"]], \"type\": \"surface\"}], \"table\": [{\"cells\": {\"fill\": {\"color\": \"#EBF0F8\"}, \"line\": {\"color\": \"white\"}}, \"header\": {\"fill\": {\"color\": \"#C8D4E3\"}, \"line\": {\"color\": \"white\"}}, \"type\": \"table\"}]}, \"layout\": {\"annotationdefaults\": {\"arrowcolor\": \"#2a3f5f\", \"arrowhead\": 0, \"arrowwidth\": 1}, \"coloraxis\": {\"colorbar\": {\"outlinewidth\": 0, \"ticks\": \"\"}}, \"colorscale\": {\"diverging\": [[0, \"#8e0152\"], [0.1, \"#c51b7d\"], [0.2, \"#de77ae\"], [0.3, \"#f1b6da\"], [0.4, \"#fde0ef\"], [0.5, \"#f7f7f7\"], [0.6, \"#e6f5d0\"], [0.7, \"#b8e186\"], [0.8, \"#7fbc41\"], [0.9, \"#4d9221\"], [1, \"#276419\"]], \"sequential\": [[0.0, \"#0d0887\"], [0.1111111111111111, \"#46039f\"], [0.2222222222222222, \"#7201a8\"], [0.3333333333333333, \"#9c179e\"], [0.4444444444444444, \"#bd3786\"], [0.5555555555555556, \"#d8576b\"], [0.6666666666666666, \"#ed7953\"], [0.7777777777777778, \"#fb9f3a\"], [0.8888888888888888, \"#fdca26\"], [1.0, \"#f0f921\"]], \"sequentialminus\": [[0.0, \"#0d0887\"], [0.1111111111111111, \"#46039f\"], [0.2222222222222222, \"#7201a8\"], [0.3333333333333333, \"#9c179e\"], [0.4444444444444444, \"#bd3786\"], [0.5555555555555556, \"#d8576b\"], [0.6666666666666666, \"#ed7953\"], [0.7777777777777778, \"#fb9f3a\"], [0.8888888888888888, \"#fdca26\"], [1.0, \"#f0f921\"]]}, \"colorway\": [\"#636efa\", \"#EF553B\", \"#00cc96\", \"#ab63fa\", \"#FFA15A\", \"#19d3f3\", \"#FF6692\", \"#B6E880\", \"#FF97FF\", \"#FECB52\"], \"font\": {\"color\": \"#2a3f5f\"}, \"geo\": {\"bgcolor\": \"white\", \"lakecolor\": \"white\", \"landcolor\": \"#E5ECF6\", \"showlakes\": true, \"showland\": true, \"subunitcolor\": \"white\"}, \"hoverlabel\": {\"align\": \"left\"}, \"hovermode\": \"closest\", \"mapbox\": {\"style\": \"light\"}, \"paper_bgcolor\": \"white\", \"plot_bgcolor\": \"#E5ECF6\", \"polar\": {\"angularaxis\": {\"gridcolor\": \"white\", \"linecolor\": \"white\", \"ticks\": \"\"}, \"bgcolor\": \"#E5ECF6\", \"radialaxis\": {\"gridcolor\": \"white\", \"linecolor\": \"white\", \"ticks\": \"\"}}, \"scene\": {\"xaxis\": {\"backgroundcolor\": \"#E5ECF6\", \"gridcolor\": \"white\", \"gridwidth\": 2, \"linecolor\": \"white\", \"showbackground\": true, \"ticks\": \"\", \"zerolinecolor\": \"white\"}, \"yaxis\": {\"backgroundcolor\": \"#E5ECF6\", \"gridcolor\": \"white\", \"gridwidth\": 2, \"linecolor\": \"white\", \"showbackground\": true, \"ticks\": \"\", \"zerolinecolor\": \"white\"}, \"zaxis\": {\"backgroundcolor\": \"#E5ECF6\", \"gridcolor\": \"white\", \"gridwidth\": 2, \"linecolor\": \"white\", \"showbackground\": true, \"ticks\": \"\", \"zerolinecolor\": \"white\"}}, \"shapedefaults\": {\"line\": {\"color\": \"#2a3f5f\"}}, \"ternary\": {\"aaxis\": {\"gridcolor\": \"white\", \"linecolor\": \"white\", \"ticks\": \"\"}, \"baxis\": {\"gridcolor\": \"white\", \"linecolor\": \"white\", \"ticks\": \"\"}, \"bgcolor\": \"#E5ECF6\", \"caxis\": {\"gridcolor\": \"white\", \"linecolor\": \"white\", \"ticks\": \"\"}}, \"title\": {\"x\": 0.05}, \"xaxis\": {\"automargin\": true, \"gridcolor\": \"white\", \"linecolor\": \"white\", \"ticks\": \"\", \"title\": {\"standoff\": 15}, \"zerolinecolor\": \"white\", \"zerolinewidth\": 2}, \"yaxis\": {\"automargin\": true, \"gridcolor\": \"white\", \"linecolor\": \"white\", \"ticks\": \"\", \"title\": {\"standoff\": 15}, \"zerolinecolor\": \"white\", \"zerolinewidth\": 2}}}, \"title\": {\"text\": \"Contour Plot\"}, \"xaxis\": {\"range\": [-0.054926442081722336, 1.5568751237941696], \"title\": {\"text\": \"max_depth\"}, \"type\": \"log\"}, \"yaxis\": {\"range\": [1.1, 20.9], \"title\": {\"text\": \"n_estimators\"}}},\n",
              "                        {\"responsive\": true}\n",
              "                    ).then(function(){\n",
              "                            \n",
              "var gd = document.getElementById('8fe25eeb-2741-46b0-b5ad-9817e5c45856');\n",
              "var x = new MutationObserver(function (mutations, observer) {{\n",
              "        var display = window.getComputedStyle(gd).display;\n",
              "        if (!display || display === 'none') {{\n",
              "            console.log([gd, 'removed!']);\n",
              "            Plotly.purge(gd);\n",
              "            observer.disconnect();\n",
              "        }}\n",
              "}});\n",
              "\n",
              "// Listen for the removal of the full notebook cells\n",
              "var notebookContainer = gd.closest('#notebook-container');\n",
              "if (notebookContainer) {{\n",
              "    x.observe(notebookContainer, {childList: true});\n",
              "}}\n",
              "\n",
              "// Listen for the clearing of the current output cell\n",
              "var outputEl = gd.closest('.output');\n",
              "if (outputEl) {{\n",
              "    x.observe(outputEl, {childList: true});\n",
              "}}\n",
              "\n",
              "                        })\n",
              "                };\n",
              "                \n",
              "            </script>\n",
              "        </div>\n",
              "</body>\n",
              "</html>"
            ]
          },
          "metadata": {}
        }
      ]
    }
  ]
}