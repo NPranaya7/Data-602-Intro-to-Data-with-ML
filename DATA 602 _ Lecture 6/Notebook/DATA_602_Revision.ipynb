{
  "nbformat": 4,
  "nbformat_minor": 0,
  "metadata": {
    "colab": {
      "name": "DATA 602 Revision.ipynb",
      "provenance": [],
      "collapsed_sections": []
    },
    "kernelspec": {
      "name": "python3",
      "display_name": "Python 3"
    },
    "language_info": {
      "name": "python"
    }
  },
  "cells": [
    {
      "cell_type": "markdown",
      "metadata": {
        "id": "ZB1bmESed98k"
      },
      "source": [
        "**EXERCISE 1** Regression Models"
      ]
    },
    {
      "cell_type": "code",
      "metadata": {
        "id": "3mr-j5sCbO1N"
      },
      "source": [
        "import pandas as pd\n",
        "import numpy as np\n",
        "import matplotlib.pyplot as plt\n",
        "from sklearn.linear_model import LinearRegression, Ridge, Lasso\n",
        "from sklearn.model_selection import train_test_split, cross_val_score\n",
        "from statistics import mean\n",
        "# Loading the data into a Pandas DataFrame\n",
        "data = pd.read_csv('kc_house_data.csv')\n",
        " \n",
        "# Dropping the numerically non-sensical variables\n",
        "dropColumns = ['id', 'date', 'zipcode']\n",
        "data = data.drop(dropColumns, axis = 1)\n",
        " \n",
        "# Separating the dependent and independent variables\n",
        "y = data['price']\n",
        "X = data.drop('price', axis = 1)\n",
        " \n",
        "# Dividing the data into training and testing set\n",
        "X_train, X_test, y_train, y_test = train_test_split(X, y, test_size = 0.25)"
      ],
      "execution_count": 2,
      "outputs": []
    },
    {
      "cell_type": "markdown",
      "metadata": {
        "id": "7wUwJo-6dF3H"
      },
      "source": [
        "Linear Regression"
      ]
    },
    {
      "cell_type": "code",
      "metadata": {
        "colab": {
          "base_uri": "https://localhost:8080/"
        },
        "id": "vIhJuIBdbvyJ",
        "outputId": "2e7f679d-ea1d-41dc-f8ea-ddbc6591539e"
      },
      "source": [
        "# Building and fitting the Linear Regression model\n",
        "linearModel = LinearRegression()\n",
        "linearModel.fit(X_train, y_train)\n",
        " \n",
        "# Evaluating the Linear Regression model\n",
        "print(linearModel.score(X_test, y_test))"
      ],
      "execution_count": 3,
      "outputs": [
        {
          "output_type": "stream",
          "name": "stdout",
          "text": [
            "0.6936872351451921\n"
          ]
        }
      ]
    },
    {
      "cell_type": "markdown",
      "metadata": {
        "id": "-1ytz4vtg45H"
      },
      "source": [
        "Linear Regression with Statsmodels"
      ]
    },
    {
      "cell_type": "code",
      "metadata": {
        "colab": {
          "base_uri": "https://localhost:8080/"
        },
        "id": "78MkhnWtg8qH",
        "outputId": "194c8454-0514-4c80-ead2-6cf156859eef"
      },
      "source": [
        "from statsmodels.datasets import longley\n",
        "from statsmodels.formula.api import ols\n",
        "dta = longley.load_pandas().data\n",
        "formula = 'TOTEMP ~ GNPDEFL + GNP + UNEMP + ARMED + POP + YEAR'\n",
        "results = ols(formula, dta).fit()\n",
        "hypotheses = '(GNPDEFL = GNP), (UNEMP = 2), (YEAR/1829 = 1)'\n",
        "f_test = results.f_test(hypotheses)\n",
        "print(f_test)\n",
        "print(results.params) \n",
        "print(results.summary())"
      ],
      "execution_count": 15,
      "outputs": [
        {
          "output_type": "stream",
          "name": "stderr",
          "text": [
            "/usr/local/lib/python3.7/dist-packages/statsmodels/tools/_testing.py:19: FutureWarning: pandas.util.testing is deprecated. Use the functions in the public API at pandas.testing instead.\n",
            "  import pandas.util.testing as tm\n"
          ]
        },
        {
          "output_type": "stream",
          "name": "stdout",
          "text": [
            "<F test: F=array([[144.17976065]]), p=6.322026217368697e-08, df_denom=9, df_num=3>\n",
            "Intercept   -3.482259e+06\n",
            "GNPDEFL      1.506187e+01\n",
            "GNP         -3.581918e-02\n",
            "UNEMP       -2.020230e+00\n",
            "ARMED       -1.033227e+00\n",
            "POP         -5.110411e-02\n",
            "YEAR         1.829151e+03\n",
            "dtype: float64\n",
            "                            OLS Regression Results                            \n",
            "==============================================================================\n",
            "Dep. Variable:                 TOTEMP   R-squared:                       0.995\n",
            "Model:                            OLS   Adj. R-squared:                  0.992\n",
            "Method:                 Least Squares   F-statistic:                     330.3\n",
            "Date:                Mon, 18 Oct 2021   Prob (F-statistic):           4.98e-10\n",
            "Time:                        22:27:00   Log-Likelihood:                -109.62\n",
            "No. Observations:                  16   AIC:                             233.2\n",
            "Df Residuals:                       9   BIC:                             238.6\n",
            "Df Model:                           6                                         \n",
            "Covariance Type:            nonrobust                                         \n",
            "==============================================================================\n",
            "                 coef    std err          t      P>|t|      [0.025      0.975]\n",
            "------------------------------------------------------------------------------\n",
            "Intercept  -3.482e+06    8.9e+05     -3.911      0.004    -5.5e+06   -1.47e+06\n",
            "GNPDEFL       15.0619     84.915      0.177      0.863    -177.029     207.153\n",
            "GNP           -0.0358      0.033     -1.070      0.313      -0.112       0.040\n",
            "UNEMP         -2.0202      0.488     -4.136      0.003      -3.125      -0.915\n",
            "ARMED         -1.0332      0.214     -4.822      0.001      -1.518      -0.549\n",
            "POP           -0.0511      0.226     -0.226      0.826      -0.563       0.460\n",
            "YEAR        1829.1515    455.478      4.016      0.003     798.788    2859.515\n",
            "==============================================================================\n",
            "Omnibus:                        0.749   Durbin-Watson:                   2.559\n",
            "Prob(Omnibus):                  0.688   Jarque-Bera (JB):                0.684\n",
            "Skew:                           0.420   Prob(JB):                        0.710\n",
            "Kurtosis:                       2.434   Cond. No.                     4.86e+09\n",
            "==============================================================================\n",
            "\n",
            "Warnings:\n",
            "[1] Standard Errors assume that the covariance matrix of the errors is correctly specified.\n",
            "[2] The condition number is large, 4.86e+09. This might indicate that there are\n",
            "strong multicollinearity or other numerical problems.\n"
          ]
        },
        {
          "output_type": "stream",
          "name": "stderr",
          "text": [
            "/usr/local/lib/python3.7/dist-packages/scipy/stats/stats.py:1535: UserWarning: kurtosistest only valid for n>=20 ... continuing anyway, n=16\n",
            "  \"anyway, n=%i\" % int(n))\n"
          ]
        }
      ]
    },
    {
      "cell_type": "markdown",
      "metadata": {
        "id": "eTwvU_6WdJf2"
      },
      "source": [
        "Ridge Regression"
      ]
    },
    {
      "cell_type": "code",
      "metadata": {
        "colab": {
          "base_uri": "https://localhost:8080/"
        },
        "id": "tcmXeKasbP1s",
        "outputId": "5c37f444-8c42-4129-e5d3-96e40c282191"
      },
      "source": [
        "# List to maintain the different cross-validation scores\n",
        "cross_val_scores_ridge = []\n",
        " \n",
        "# List to maintain the different values of alpha\n",
        "alpha = []\n",
        " \n",
        "# Loop to compute the different values of cross-validation scores\n",
        "for i in range(1, 9):\n",
        "    ridgeModel = Ridge(alpha = i * 0.25)\n",
        "    ridgeModel.fit(X_train, y_train)\n",
        "    scores = cross_val_score(ridgeModel, X, y, cv = 10)\n",
        "    avg_cross_val_score = mean(scores)*100\n",
        "    cross_val_scores_ridge.append(avg_cross_val_score)\n",
        "    alpha.append(i * 0.25)\n",
        " \n",
        "# Loop to print the different values of cross-validation scores\n",
        "for i in range(0, len(alpha)):\n",
        "    print(str(alpha[i])+' : '+str(cross_val_scores_ridge[i]))"
      ],
      "execution_count": 4,
      "outputs": [
        {
          "output_type": "stream",
          "name": "stdout",
          "text": [
            "0.25 : 69.12811921100793\n",
            "0.5 : 69.12829364673507\n",
            "0.75 : 69.12844835069453\n",
            "1.0 : 69.12858352574284\n",
            "1.25 : 69.12869937241094\n",
            "1.5 : 69.12879608893492\n",
            "1.75 : 69.12887387128694\n",
            "2.0 : 69.128932913205\n"
          ]
        }
      ]
    },
    {
      "cell_type": "code",
      "metadata": {
        "colab": {
          "base_uri": "https://localhost:8080/"
        },
        "id": "ZBm3NjpBdcGH",
        "outputId": "5084e750-5daf-48a9-922e-965b2670a7bb"
      },
      "source": [
        "# Building and fitting the Ridge Regression model\n",
        "ridgeModelChosen = Ridge(alpha = 2)\n",
        "ridgeModelChosen.fit(X_train, y_train)\n",
        " \n",
        "# Evaluating the Ridge Regression model\n",
        "print(ridgeModelChosen.score(X_test, y_test))"
      ],
      "execution_count": 5,
      "outputs": [
        {
          "output_type": "stream",
          "name": "stdout",
          "text": [
            "0.6935048120674046\n"
          ]
        }
      ]
    },
    {
      "cell_type": "markdown",
      "metadata": {
        "id": "zAHICY0qdjJL"
      },
      "source": [
        "Lasso Regression"
      ]
    },
    {
      "cell_type": "code",
      "metadata": {
        "colab": {
          "base_uri": "https://localhost:8080/"
        },
        "id": "ln5-OiabdluE",
        "outputId": "68dba0b7-9dfb-40bd-ebe5-343cb91166fe"
      },
      "source": [
        "# List to maintain the cross-validation scores\n",
        "cross_val_scores_lasso = []\n",
        " \n",
        "# List to maintain the different values of Lambda\n",
        "Lambda = []\n",
        " \n",
        "# Loop to compute the cross-validation scores\n",
        "for i in range(1, 9):\n",
        "    lassoModel = Lasso(alpha = i * 0.25, tol = 0.0925)\n",
        "    lassoModel.fit(X_train, y_train)\n",
        "    scores = cross_val_score(lassoModel, X, y, cv = 10)\n",
        "    avg_cross_val_score = mean(scores)*100\n",
        "    cross_val_scores_lasso.append(avg_cross_val_score)\n",
        "    Lambda.append(i * 0.25)\n",
        " \n",
        "# Loop to print the different values of cross-validation scores\n",
        "for i in range(0, len(alpha)):\n",
        "    print(str(alpha[i])+' : '+str(cross_val_scores_lasso[i]))"
      ],
      "execution_count": 6,
      "outputs": [
        {
          "output_type": "stream",
          "name": "stdout",
          "text": [
            "0.25 : 69.12793016115465\n",
            "0.5 : 69.12793545905849\n",
            "0.75 : 69.12794073574211\n",
            "1.0 : 69.12794598329492\n",
            "1.25 : 69.12795119306774\n",
            "1.5 : 69.12795637463427\n",
            "1.75 : 69.12796154974657\n",
            "2.0 : 69.12796667510615\n"
          ]
        }
      ]
    },
    {
      "cell_type": "code",
      "metadata": {
        "colab": {
          "base_uri": "https://localhost:8080/"
        },
        "id": "lA2LV6NEduAo",
        "outputId": "9921e0f7-9d9d-40ee-8f7c-6a987753114c"
      },
      "source": [
        "# Building and fitting the Lasso Regression Model\n",
        "lassoModelChosen = Lasso(alpha = 2, tol = 0.0925)\n",
        "lassoModelChosen.fit(X_train, y_train)\n",
        " \n",
        "# Evaluating the Lasso Regression model\n",
        "print(lassoModelChosen.score(X_test, y_test))"
      ],
      "execution_count": 7,
      "outputs": [
        {
          "output_type": "stream",
          "name": "stdout",
          "text": [
            "0.6936820128944141\n"
          ]
        }
      ]
    },
    {
      "cell_type": "code",
      "metadata": {
        "colab": {
          "base_uri": "https://localhost:8080/"
        },
        "id": "U6Km3xUjd0pV",
        "outputId": "5001e4ca-1299-41c0-c741-341d6222b104"
      },
      "source": [
        "# Building the two lists for visualization\n",
        "models = ['Linear Regression', 'Ridge Regression', 'Lasso Regression']\n",
        "scores = [linearModel.score(X_test, y_test),\n",
        "         ridgeModelChosen.score(X_test, y_test),\n",
        "         lassoModelChosen.score(X_test, y_test)]\n",
        " \n",
        "# Building the dictionary to compare the scores\n",
        "mapping = {}\n",
        "mapping['Linear Regreesion'] = linearModel.score(X_test, y_test)\n",
        "mapping['Ridge Regreesion'] = ridgeModelChosen.score(X_test, y_test)\n",
        "mapping['Lasso Regression'] = lassoModelChosen.score(X_test, y_test)\n",
        " \n",
        "# Printing the scores for different models\n",
        "for key, val in mapping.items():\n",
        "    print(str(key)+' : '+str(val))"
      ],
      "execution_count": 8,
      "outputs": [
        {
          "output_type": "stream",
          "name": "stdout",
          "text": [
            "Linear Regreesion : 0.6936872351451921\n",
            "Ridge Regreesion : 0.6935048120674046\n",
            "Lasso Regression : 0.6936820128944141\n"
          ]
        }
      ]
    },
    {
      "cell_type": "code",
      "metadata": {
        "colab": {
          "base_uri": "https://localhost:8080/",
          "height": 279
        },
        "id": "696ENtKEd645",
        "outputId": "20e861cf-4c78-429e-b88a-502f5219a66b"
      },
      "source": [
        "# Plotting the scores\n",
        "plt.bar(models, scores)\n",
        "plt.xlabel('Regression Models')\n",
        "plt.ylabel('Score')\n",
        "plt.show()"
      ],
      "execution_count": 9,
      "outputs": [
        {
          "output_type": "display_data",
          "data": {
            "image/png": "[encoded data removed]",
            "text/plain": [
              "<Figure size 432x288 with 1 Axes>"
            ]
          },
          "metadata": {
            "needs_background": "light"
          }
        }
      ]
    },
    {
      "cell_type": "markdown",
      "metadata": {
        "id": "waww80iueENA"
      },
      "source": [
        "**EXERCISE 2** Ridge Regression"
      ]
    },
    {
      "cell_type": "code",
      "metadata": {
        "colab": {
          "base_uri": "https://localhost:8080/"
        },
        "id": "a1Hn1H0hbP-p",
        "outputId": "c5b67494-9fd9-44d3-f122-cd1c5f5293ba"
      },
      "source": [
        "# importing libraries\n",
        "from sklearn.linear_model import Ridge\n",
        "from sklearn.model_selection import train_test_split\n",
        "from sklearn.datasets import load_boston\n",
        "from sklearn.preprocessing import StandardScaler\n",
        " \n",
        "# loading boston dataset\n",
        "boston = load_boston()\n",
        "X = boston.data[:, :13]\n",
        "y = boston.target\n",
        " \n",
        "print (\"Boston dataset keys : \\n\", boston.keys())\n",
        " \n",
        "print (\"\\nBoston data : \\n\", boston.data)\n",
        " \n",
        "# scaling the inputs\n",
        "scaler = StandardScaler()\n",
        "scaled_X = scaler.fit_transform(X)\n",
        " \n",
        "# Train Test split will be used for both models\n",
        "X_train, X_test, y_train, y_test = train_test_split(scaled_X, y,\n",
        "                                                    test_size = 0.3)\n",
        " \n",
        "# training model with 0.5 alpha value\n",
        "model = Ridge(alpha = 0.5, normalize = False, tol = 0.001, \\\n",
        "              solver ='auto', random_state = 42)\n",
        "model.fit(X_train, y_train)\n",
        " \n",
        "# predicting the y_test\n",
        "y_pred = model.predict(X_test)\n",
        " \n",
        "# finding score for our model\n",
        "score = model.score(X_test, y_test)\n",
        "print(\"\\n\\nModel score : \", score)"
      ],
      "execution_count": 1,
      "outputs": [
        {
          "output_type": "stream",
          "name": "stdout",
          "text": [
            "Boston dataset keys : \n",
            " dict_keys(['data', 'target', 'feature_names', 'DESCR', 'filename'])\n",
            "\n",
            "Boston data : \n",
            " [[6.3200e-03 1.8000e+01 2.3100e+00 ... 1.5300e+01 3.9690e+02 4.9800e+00]\n",
            " [2.7310e-02 0.0000e+00 7.0700e+00 ... 1.7800e+01 3.9690e+02 9.1400e+00]\n",
            " [2.7290e-02 0.0000e+00 7.0700e+00 ... 1.7800e+01 3.9283e+02 4.0300e+00]\n",
            " ...\n",
            " [6.0760e-02 0.0000e+00 1.1930e+01 ... 2.1000e+01 3.9690e+02 5.6400e+00]\n",
            " [1.0959e-01 0.0000e+00 1.1930e+01 ... 2.1000e+01 3.9345e+02 6.4800e+00]\n",
            " [4.7410e-02 0.0000e+00 1.1930e+01 ... 2.1000e+01 3.9690e+02 7.8800e+00]]\n",
            "\n",
            "\n",
            "Model score :  0.7483685474290457\n"
          ]
        }
      ]
    },
    {
      "cell_type": "markdown",
      "metadata": {
        "id": "pPKsTpfueLZP"
      },
      "source": [
        "**EXERCISE 3** Variance v. Bias"
      ]
    },
    {
      "cell_type": "code",
      "metadata": {
        "colab": {
          "base_uri": "https://localhost:8080/"
        },
        "id": "KpOLgKjveN9X",
        "outputId": "5b86af9c-f468-4ec1-c57c-d191f820e5a3"
      },
      "source": [
        "!pip install mlxtend --upgrade"
      ],
      "execution_count": 10,
      "outputs": [
        {
          "output_type": "stream",
          "name": "stdout",
          "text": [
            "Requirement already satisfied: mlxtend in /usr/local/lib/python3.7/dist-packages (0.14.0)\n",
            "Collecting mlxtend\n",
            "  Downloading mlxtend-0.19.0-py2.py3-none-any.whl (1.3 MB)\n",
            "\u001b[K     |████████████████████████████████| 1.3 MB 8.2 MB/s \n",
            "\u001b[?25hRequirement already satisfied: matplotlib>=3.0.0 in /usr/local/lib/python3.7/dist-packages (from mlxtend) (3.2.2)\n",
            "Requirement already satisfied: numpy>=1.16.2 in /usr/local/lib/python3.7/dist-packages (from mlxtend) (1.19.5)\n",
            "Requirement already satisfied: scipy>=1.2.1 in /usr/local/lib/python3.7/dist-packages (from mlxtend) (1.4.1)\n",
            "Requirement already satisfied: setuptools in /usr/local/lib/python3.7/dist-packages (from mlxtend) (57.4.0)\n",
            "Requirement already satisfied: pandas>=0.24.2 in /usr/local/lib/python3.7/dist-packages (from mlxtend) (1.1.5)\n",
            "Requirement already satisfied: scikit-learn>=0.20.3 in /usr/local/lib/python3.7/dist-packages (from mlxtend) (0.22.2.post1)\n",
            "Requirement already satisfied: joblib>=0.13.2 in /usr/local/lib/python3.7/dist-packages (from mlxtend) (1.0.1)\n",
            "Requirement already satisfied: python-dateutil>=2.1 in /usr/local/lib/python3.7/dist-packages (from matplotlib>=3.0.0->mlxtend) (2.8.2)\n",
            "Requirement already satisfied: kiwisolver>=1.0.1 in /usr/local/lib/python3.7/dist-packages (from matplotlib>=3.0.0->mlxtend) (1.3.2)\n",
            "Requirement already satisfied: cycler>=0.10 in /usr/local/lib/python3.7/dist-packages (from matplotlib>=3.0.0->mlxtend) (0.10.0)\n",
            "Requirement already satisfied: pyparsing!=2.0.4,!=2.1.2,!=2.1.6,>=2.0.1 in /usr/local/lib/python3.7/dist-packages (from matplotlib>=3.0.0->mlxtend) (2.4.7)\n",
            "Requirement already satisfied: six in /usr/local/lib/python3.7/dist-packages (from cycler>=0.10->matplotlib>=3.0.0->mlxtend) (1.15.0)\n",
            "Requirement already satisfied: pytz>=2017.2 in /usr/local/lib/python3.7/dist-packages (from pandas>=0.24.2->mlxtend) (2018.9)\n",
            "Installing collected packages: mlxtend\n",
            "  Attempting uninstall: mlxtend\n",
            "    Found existing installation: mlxtend 0.14.0\n",
            "    Uninstalling mlxtend-0.14.0:\n",
            "      Successfully uninstalled mlxtend-0.14.0\n",
            "Successfully installed mlxtend-0.19.0\n"
          ]
        }
      ]
    },
    {
      "cell_type": "code",
      "metadata": {
        "colab": {
          "base_uri": "https://localhost:8080/"
        },
        "id": "YV6vqfd_ere0",
        "outputId": "298b2145-30f8-4dd7-f06b-95a225404f0d"
      },
      "source": [
        "import mlxtend\n",
        "from mlxtend.evaluate import bias_variance_decomp\n",
        "from sklearn.linear_model import LogisticRegression\n",
        "from mlxtend.data import iris_data\n",
        "from sklearn.model_selection import train_test_split\n",
        " \n",
        "# Get Data Set\n",
        "X, y = iris_data()\n",
        "X_train_ds, X_test_ds, y_train_ds, y_test_ds = train_test_split(X, y,\n",
        "                                                    test_size=0.3,\n",
        "                                                    random_state=123,\n",
        "                                                    shuffle=True,\n",
        "                                                    stratify=y)\n",
        " \n",
        "# Define Algorithm \n",
        "lr = LogisticRegression(max_iter=2000, random_state=123)\n",
        " \n",
        "# Get Bias and Variance - bias_variance_decomp function\n",
        "avg_expected_loss, avg_bias, avg_var = bias_variance_decomp(\n",
        "       lr, X_train_ds, y_train_ds, X_test_ds, y_test_ds, \n",
        "        loss='0-1_loss',\n",
        "        random_seed=123,\n",
        "        num_rounds=1000)\n",
        " \n",
        "# Display Bias and Variance\n",
        "print(f'Average Expected Loss: {round(avg_expected_loss, 4)}n')\n",
        "print(f'Average Bias: {round(avg_bias, 4)}')\n",
        "print(f'Average Variance: {round(avg_var, 4)}')"
      ],
      "execution_count": 13,
      "outputs": [
        {
          "output_type": "stream",
          "name": "stdout",
          "text": [
            "Average Expected Loss: 0.0343n\n",
            "Average Bias: 0.0222\n",
            "Average Variance: 0.0172\n"
          ]
        }
      ]
    },
    {
      "cell_type": "markdown",
      "metadata": {
        "id": "fFXQT9Qef__y"
      },
      "source": [
        "**EXERCISE 4** SVC and Logistic Regression"
      ]
    },
    {
      "cell_type": "code",
      "metadata": {
        "colab": {
          "base_uri": "https://localhost:8080/",
          "height": 262
        },
        "id": "GntHqDbJfhwD",
        "outputId": "363893d9-c225-4c89-f863-88a8d742ddd4"
      },
      "source": [
        "import numpy as np\n",
        "import matplotlib.pyplot as plt\n",
        "import matplotlib.gridspec as gridspec\n",
        "import itertools\n",
        "from sklearn.linear_model import LogisticRegression\n",
        "from sklearn.svm import SVC\n",
        "from mlxtend.data import iris_data\n",
        "from mlxtend.plotting import plot_decision_regions\n",
        "\n",
        "# Initializing Classifiers\n",
        "clf1 = LogisticRegression(solver='lbfgs', max_iter=1000, random_state=0)\n",
        "clf2 = SVC(random_state=0, probability=True)\n",
        "\n",
        "\n",
        "# Loading some example data\n",
        "X, y = iris_data()\n",
        "X = X[:,[0, 2]]\n",
        "\n",
        "# Plotting Decision Regions\n",
        "\n",
        "gs = gridspec.GridSpec(2, 2)\n",
        "fig = plt.figure(figsize=(10, 8))\n",
        "\n",
        "labels = ['Logistic Regression',\n",
        "               'RBF kernel SVM']\n",
        "         \n",
        "for clf, lab, grd in zip([clf1, clf2],\n",
        "                         labels,\n",
        "                         itertools.product([0, 1],\n",
        "                         repeat=2)):\n",
        "    clf.fit(X, y)\n",
        "    ax = plt.subplot(gs[grd[0], grd[1]])\n",
        "    fig = plot_decision_regions(X=X, y=y,\n",
        "                                clf=clf, legend=2)\n",
        "    plt.title(lab)\n"
      ],
      "execution_count": 14,
      "outputs": [
        {
          "output_type": "display_data",
          "data": {
            "image/png": "[encoded data removed]",
            "text/plain": [
              "<Figure size 720x576 with 2 Axes>"
            ]
          },
          "metadata": {
            "needs_background": "light"
          }
        }
      ]
    }
  ]
}