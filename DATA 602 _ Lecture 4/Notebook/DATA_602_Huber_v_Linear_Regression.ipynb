{
  "nbformat": 4,
  "nbformat_minor": 0,
  "metadata": {
    "colab": {
      "provenance": []
    },
    "kernelspec": {
      "name": "python3",
      "display_name": "Python 3"
    },
    "language_info": {
      "name": "python"
    }
  },
  "cells": [
    {
      "cell_type": "markdown",
      "source": [
        "Huber Regression"
      ],
      "metadata": {
        "id": "GJsaVBgA_2Cv"
      }
    },
    {
      "cell_type": "code",
      "execution_count": 1,
      "metadata": {
        "colab": {
          "base_uri": "https://localhost:8080/"
        },
        "id": "FPhMq47s-eGi",
        "outputId": "fafb5d70-4f29-4bf1-875a-84aac991e2f9"
      },
      "outputs": [
        {
          "output_type": "stream",
          "name": "stdout",
          "text": [
            "[-41.02649835   0.82938433   0.92606597  -0.12784672]\n"
          ]
        }
      ],
      "source": [
        "# Load modules and data\n",
        "import statsmodels.api as sm\n",
        "\n",
        "data = sm.datasets.stackloss.load()\n",
        "\n",
        "data.exog = sm.add_constant(data.exog)\n",
        "\n",
        "# Fit model and print summary\n",
        "rlm_model = sm.RLM(data.endog, data.exog, M=sm.robust.norms.HuberT())\n",
        "\n",
        "rlm_results = rlm_model.fit()\n",
        "\n",
        "print(rlm_results.params)"
      ]
    },
    {
      "cell_type": "markdown",
      "source": [
        "Linear Model"
      ],
      "metadata": {
        "id": "k8MORUeF_w_z"
      }
    },
    {
      "cell_type": "code",
      "source": [
        "import numpy as np\n",
        "\n",
        "import statsmodels.api as sm\n",
        "\n",
        "data = sm.datasets.stackloss.load()\n",
        "\n",
        "data.exog = sm.add_constant(data.exog)\n",
        "\n",
        "# Fit and summarize OLS model\n",
        "mod = sm.OLS(data.endog, data.exog)\n",
        "\n",
        "res = mod.fit()\n",
        "\n",
        "print(res.summary())"
      ],
      "metadata": {
        "colab": {
          "base_uri": "https://localhost:8080/"
        },
        "id": "uezZFVv1-w40",
        "outputId": "ca9f3af9-47ee-4ca5-aef9-11e5b71a9e7b"
      },
      "execution_count": 5,
      "outputs": [
        {
          "output_type": "stream",
          "name": "stdout",
          "text": [
            "                            OLS Regression Results                            \n",
            "==============================================================================\n",
            "Dep. Variable:                      y   R-squared:                       0.914\n",
            "Model:                            OLS   Adj. R-squared:                  0.898\n",
            "Method:                 Least Squares   F-statistic:                     59.90\n",
            "Date:                Mon, 03 Oct 2022   Prob (F-statistic):           3.02e-09\n",
            "Time:                        22:36:16   Log-Likelihood:                -52.288\n",
            "No. Observations:                  21   AIC:                             112.6\n",
            "Df Residuals:                      17   BIC:                             116.8\n",
            "Df Model:                           3                                         \n",
            "Covariance Type:            nonrobust                                         \n",
            "==============================================================================\n",
            "                 coef    std err          t      P>|t|      [0.025      0.975]\n",
            "------------------------------------------------------------------------------\n",
            "const        -39.9197     11.896     -3.356      0.004     -65.018     -14.821\n",
            "x1             0.7156      0.135      5.307      0.000       0.431       1.000\n",
            "x2             1.2953      0.368      3.520      0.003       0.519       2.072\n",
            "x3            -0.1521      0.156     -0.973      0.344      -0.482       0.178\n",
            "==============================================================================\n",
            "Omnibus:                        0.713   Durbin-Watson:                   1.485\n",
            "Prob(Omnibus):                  0.700   Jarque-Bera (JB):                0.140\n",
            "Skew:                          -0.193   Prob(JB):                        0.932\n",
            "Kurtosis:                       3.107   Cond. No.                     1.81e+03\n",
            "==============================================================================\n",
            "\n",
            "Notes:\n",
            "[1] Standard Errors assume that the covariance matrix of the errors is correctly specified.\n",
            "[2] The condition number is large, 1.81e+03. This might indicate that there are\n",
            "strong multicollinearity or other numerical problems.\n"
          ]
        }
      ]
    }
  ]
}