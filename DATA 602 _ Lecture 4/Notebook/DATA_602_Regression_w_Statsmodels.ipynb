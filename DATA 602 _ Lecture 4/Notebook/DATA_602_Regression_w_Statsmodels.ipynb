{
  "nbformat": 4,
  "nbformat_minor": 0,
  "metadata": {
    "colab": {
      "name": "DATA 602 Regression w/ Statsmodels.ipynb",
      "provenance": [],
      "collapsed_sections": []
    },
    "kernelspec": {
      "name": "python3",
      "display_name": "Python 3"
    },
    "language_info": {
      "name": "python"
    }
  },
  "cells": [
    {
      "cell_type": "markdown",
      "metadata": {
        "id": "KnlcdQAwngVt"
      },
      "source": [
        "Linear Regression model"
      ]
    },
    {
      "cell_type": "code",
      "metadata": {
        "colab": {
          "base_uri": "https://localhost:8080/"
        },
        "id": "uPq_KvNmkqEF",
        "outputId": "6da2891f-ede4-448d-ea2c-7847a543591a"
      },
      "source": [
        "from statsmodels.datasets import longley\n",
        "from statsmodels.formula.api import ols\n",
        "dta = longley.load_pandas().data\n",
        "formula = 'TOTEMP ~ GNPDEFL + GNP + UNEMP + ARMED + POP + YEAR'\n",
        "results = ols(formula, dta).fit()\n",
        "hypotheses = '(GNPDEFL = GNP), (UNEMP = 2), (YEAR/1829 = 1)'\n",
        "f_test = results.f_test(hypotheses)\n",
        "print(f_test)\n",
        "print(results.params) \n",
        "print(results.summary())"
      ],
      "execution_count": 3,
      "outputs": [
        {
          "output_type": "stream",
          "name": "stdout",
          "text": [
            "<F test: F=array([[144.17976065]]), p=6.322026217368697e-08, df_denom=9, df_num=3>\n",
            "Intercept   -3.482259e+06\n",
            "GNPDEFL      1.506187e+01\n",
            "GNP         -3.581918e-02\n",
            "UNEMP       -2.020230e+00\n",
            "ARMED       -1.033227e+00\n",
            "POP         -5.110411e-02\n",
            "YEAR         1.829151e+03\n",
            "dtype: float64\n",
            "                            OLS Regression Results                            \n",
            "==============================================================================\n",
            "Dep. Variable:                 TOTEMP   R-squared:                       0.995\n",
            "Model:                            OLS   Adj. R-squared:                  0.992\n",
            "Method:                 Least Squares   F-statistic:                     330.3\n",
            "Date:                Sun, 19 Sep 2021   Prob (F-statistic):           4.98e-10\n",
            "Time:                        01:02:55   Log-Likelihood:                -109.62\n",
            "No. Observations:                  16   AIC:                             233.2\n",
            "Df Residuals:                       9   BIC:                             238.6\n",
            "Df Model:                           6                                         \n",
            "Covariance Type:            nonrobust                                         \n",
            "==============================================================================\n",
            "                 coef    std err          t      P>|t|      [0.025      0.975]\n",
            "------------------------------------------------------------------------------\n",
            "Intercept  -3.482e+06    8.9e+05     -3.911      0.004    -5.5e+06   -1.47e+06\n",
            "GNPDEFL       15.0619     84.915      0.177      0.863    -177.029     207.153\n",
            "GNP           -0.0358      0.033     -1.070      0.313      -0.112       0.040\n",
            "UNEMP         -2.0202      0.488     -4.136      0.003      -3.125      -0.915\n",
            "ARMED         -1.0332      0.214     -4.822      0.001      -1.518      -0.549\n",
            "POP           -0.0511      0.226     -0.226      0.826      -0.563       0.460\n",
            "YEAR        1829.1515    455.478      4.016      0.003     798.788    2859.515\n",
            "==============================================================================\n",
            "Omnibus:                        0.749   Durbin-Watson:                   2.559\n",
            "Prob(Omnibus):                  0.688   Jarque-Bera (JB):                0.684\n",
            "Skew:                           0.420   Prob(JB):                        0.710\n",
            "Kurtosis:                       2.434   Cond. No.                     4.86e+09\n",
            "==============================================================================\n",
            "\n",
            "Warnings:\n",
            "[1] Standard Errors assume that the covariance matrix of the errors is correctly specified.\n",
            "[2] The condition number is large, 4.86e+09. This might indicate that there are\n",
            "strong multicollinearity or other numerical problems.\n"
          ]
        },
        {
          "output_type": "stream",
          "name": "stderr",
          "text": [
            "/usr/local/lib/python3.7/dist-packages/scipy/stats/stats.py:1535: UserWarning: kurtosistest only valid for n>=20 ... continuing anyway, n=16\n",
            "  \"anyway, n=%i\" % int(n))\n"
          ]
        }
      ]
    },
    {
      "cell_type": "markdown",
      "metadata": {
        "id": "pJral1V9nUFy"
      },
      "source": [
        "Log-log regression model"
      ]
    },
    {
      "cell_type": "code",
      "metadata": {
        "colab": {
          "base_uri": "https://localhost:8080/"
        },
        "id": "zUb4IQDQl1x4",
        "outputId": "4e0e9f67-c4b8-453b-d266-6dd0e9190293"
      },
      "source": [
        "import numpy as np\n",
        "import pandas as pd\n",
        "import statsmodels.formula.api as smf\n",
        "\n",
        "# Fit regression model (using the natural log of one of the regressors)\n",
        "formula = 'np.log(TOTEMP) ~ np.log(GNPDEFL) + np.log(GNP) + np.log(UNEMP) + np.log(ARMED) + np.log(POP) + YEAR'\n",
        "results = ols(formula, dta).fit()\n",
        "print(results.summary())"
      ],
      "execution_count": 6,
      "outputs": [
        {
          "output_type": "stream",
          "name": "stdout",
          "text": [
            "                            OLS Regression Results                            \n",
            "==============================================================================\n",
            "Dep. Variable:         np.log(TOTEMP)   R-squared:                       0.993\n",
            "Model:                            OLS   Adj. R-squared:                  0.989\n",
            "Method:                 Least Squares   F-statistic:                     222.9\n",
            "Date:                Sun, 19 Sep 2021   Prob (F-statistic):           2.89e-09\n",
            "Time:                        01:11:55   Log-Likelihood:                 64.580\n",
            "No. Observations:                  16   AIC:                            -115.2\n",
            "Df Residuals:                       9   BIC:                            -109.8\n",
            "Df Model:                           6                                         \n",
            "Covariance Type:            nonrobust                                         \n",
            "===================================================================================\n",
            "                      coef    std err          t      P>|t|      [0.025      0.975]\n",
            "-----------------------------------------------------------------------------------\n",
            "Intercept         -45.9649     19.651     -2.339      0.044     -90.418      -1.512\n",
            "np.log(GNPDEFL)    -0.1773      0.139     -1.278      0.233      -0.491       0.137\n",
            "np.log(GNP)        -0.0487      0.157     -0.310      0.764      -0.404       0.307\n",
            "np.log(UNEMP)      -0.0794      0.019     -4.219      0.002      -0.122      -0.037\n",
            "np.log(ARMED)      -0.0333      0.010     -3.174      0.011      -0.057      -0.010\n",
            "np.log(POP)        -1.3184      0.510     -2.588      0.029      -2.471      -0.166\n",
            "YEAR                0.0383      0.014      2.792      0.021       0.007       0.069\n",
            "==============================================================================\n",
            "Omnibus:                        0.086   Durbin-Watson:                   2.145\n",
            "Prob(Omnibus):                  0.958   Jarque-Bera (JB):                0.301\n",
            "Skew:                          -0.092   Prob(JB):                        0.860\n",
            "Kurtosis:                       2.353   Cond. No.                     2.70e+07\n",
            "==============================================================================\n",
            "\n",
            "Warnings:\n",
            "[1] Standard Errors assume that the covariance matrix of the errors is correctly specified.\n",
            "[2] The condition number is large, 2.7e+07. This might indicate that there are\n",
            "strong multicollinearity or other numerical problems.\n"
          ]
        },
        {
          "output_type": "stream",
          "name": "stderr",
          "text": [
            "/usr/local/lib/python3.7/dist-packages/scipy/stats/stats.py:1535: UserWarning: kurtosistest only valid for n>=20 ... continuing anyway, n=16\n",
            "  \"anyway, n=%i\" % int(n))\n"
          ]
        }
      ]
    },
    {
      "cell_type": "markdown",
      "metadata": {
        "id": "Lw-xYR04prlR"
      },
      "source": [
        "Robust regression model (Huber)\n",
        "The stackloss dataset has four variables (airflow, water temperature, concentration of acid, and stack loss). Obtained from 21 days of operation of a plant for the oxidation of ammonia (NH\\(_3\\)) to nitric acid (HNO\\(_3\\)). The nitric oxides produced are absorbed in a countercurrent absorption tower”. (Brownlee, cited by Dodge, slightly reformatted by MM.)\n",
        "\n",
        "Air Flow represents the rate of operation of the plant. Water Temp is the temperature of cooling water circulated through coils in the absorption tower. Acid Conc. is the concentration of the acid circulating, minus 50, times 10: that is, 89 corresponds to 58.9 per cent acid. stack.loss (the dependent variable) is 10 times the percentage of the ingoing ammonia to the plant that escapes from the absorption column unabsorbed; that is, an (inverse) measure of the over-all efficiency of the plant."
      ]
    },
    {
      "cell_type": "code",
      "metadata": {
        "colab": {
          "base_uri": "https://localhost:8080/"
        },
        "id": "q3ci9VF0puWK",
        "outputId": "f280543b-a753-4c6a-8934-9d9288fc3481"
      },
      "source": [
        "%matplotlib inline\n",
        "import matplotlib.pyplot as plt\n",
        "import numpy as np\n",
        "import statsmodels.api as sm\n",
        "data = sm.datasets.stackloss.load()\n",
        "data.exog = sm.add_constant(data.exog)\n",
        "huber_t = sm.RLM(data.endog, data.exog, M=sm.robust.norms.HuberT())\n",
        "hub_results = huber_t.fit()\n",
        "print(hub_results.params)\n",
        "print(hub_results.bse)\n",
        "print(\n",
        "    hub_results.summary(\n",
        "        yname=\"y\", xname=[\"var_%d\" % i for i in range(len(hub_results.params))]\n",
        "    )\n",
        ")"
      ],
      "execution_count": 9,
      "outputs": [
        {
          "output_type": "stream",
          "name": "stdout",
          "text": [
            "[-41.02649835   0.82938433   0.92606597  -0.12784672]\n",
            "[9.79189854 0.11100521 0.30293016 0.12864961]\n",
            "                    Robust linear Model Regression Results                    \n",
            "==============================================================================\n",
            "Dep. Variable:                      y   No. Observations:                   21\n",
            "Model:                            RLM   Df Residuals:                       17\n",
            "Method:                          IRLS   Df Model:                            3\n",
            "Norm:                          HuberT                                         \n",
            "Scale Est.:                       mad                                         \n",
            "Cov Type:                          H1                                         \n",
            "Date:                Sun, 19 Sep 2021                                         \n",
            "Time:                        01:28:08                                         \n",
            "No. Iterations:                    19                                         \n",
            "==============================================================================\n",
            "                 coef    std err          z      P>|z|      [0.025      0.975]\n",
            "------------------------------------------------------------------------------\n",
            "var_0        -41.0265      9.792     -4.190      0.000     -60.218     -21.835\n",
            "var_1          0.8294      0.111      7.472      0.000       0.612       1.047\n",
            "var_2          0.9261      0.303      3.057      0.002       0.332       1.520\n",
            "var_3         -0.1278      0.129     -0.994      0.320      -0.380       0.124\n",
            "==============================================================================\n",
            "\n",
            "If the model instance has been used for another fit with different fit\n",
            "parameters, then the fit options might not be the correct ones anymore .\n"
          ]
        },
        {
          "output_type": "stream",
          "name": "stderr",
          "text": [
            "/usr/local/lib/python3.7/dist-packages/statsmodels/datasets/utils.py:337: FutureWarning: load will return datasets containing pandas DataFrames and Series in the Future.  To suppress this message, specify as_pandas=False\n",
            "  FutureWarning)\n"
          ]
        }
      ]
    }
  ]
}