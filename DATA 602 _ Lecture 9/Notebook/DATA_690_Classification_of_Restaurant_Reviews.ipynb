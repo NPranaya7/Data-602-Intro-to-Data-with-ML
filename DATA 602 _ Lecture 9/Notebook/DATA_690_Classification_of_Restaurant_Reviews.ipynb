{
  "nbformat": 4,
  "nbformat_minor": 0,
  "metadata": {
    "colab": {
      "name": "DATA 690 Classification of Restaurant Reviews.ipynb",
      "provenance": [],
      "collapsed_sections": [],
      "machine_shape": "hm"
    },
    "kernelspec": {
      "name": "python3",
      "display_name": "Python 3"
    },
    "language_info": {
      "name": "python"
    }
  },
  "cells": [
    {
      "cell_type": "markdown",
      "metadata": {
        "id": "T5XtQ143RdOh"
      },
      "source": [
        "Analysis of Restaurant Reviews"
      ]
    },
    {
      "cell_type": "code",
      "metadata": {
        "id": "c1A2XJemfBmT"
      },
      "source": [
        "# Importing Libraries\n",
        "import numpy as np  \n",
        "import pandas as pd \n",
        "  \n",
        "# Import dataset\n",
        "dataset = pd.read_csv('/content/Restaurant_Reviews.tsv', delimiter = '\\t') "
      ],
      "execution_count": 1,
      "outputs": []
    },
    {
      "cell_type": "code",
      "metadata": {
        "colab": {
          "base_uri": "https://localhost:8080/"
        },
        "id": "GhuPgP21feRd",
        "outputId": "9fcd0d3c-f9b1-4ec1-9272-a93b98c80320"
      },
      "source": [
        "# library to clean data\n",
        "import re \n",
        "  \n",
        "# Natural Language Tool Kit\n",
        "import nltk \n",
        "  \n",
        "nltk.download('stopwords')\n",
        "  \n",
        "# to remove stopword\n",
        "from nltk.corpus import stopwords\n",
        "  \n",
        "# for Stemming propose \n",
        "from nltk.stem.porter import PorterStemmer\n",
        "  \n",
        "# Initialize empty array\n",
        "# to append clean text \n",
        "corpus = [] \n",
        "  \n",
        "# 1000 (reviews) rows to clean\n",
        "for i in range(0, 1000): \n",
        "      \n",
        "    # column : \"Review\", row ith\n",
        "    review = re.sub('[^a-zA-Z]', ' ', dataset['Review'][i]) \n",
        "      \n",
        "    # convert all cases to lower cases\n",
        "    review = review.lower() \n",
        "      \n",
        "    # split to array(default delimiter is \" \")\n",
        "    review = review.split() \n",
        "      \n",
        "    # creating PorterStemmer object to\n",
        "    # take main stem of each word\n",
        "    ps = PorterStemmer() \n",
        "      \n",
        "    # loop for stemming each word\n",
        "    # in string array at ith row    \n",
        "    review = [ps.stem(word) for word in review\n",
        "                if not word in set(stopwords.words('english'))] \n",
        "                  \n",
        "    # rejoin all string array elements\n",
        "    # to create back into a string\n",
        "    review = ' '.join(review)  \n",
        "      \n",
        "    # append each string to create\n",
        "    # array of clean text \n",
        "    corpus.append(review)"
      ],
      "execution_count": 2,
      "outputs": [
        {
          "output_type": "stream",
          "text": [
            "[nltk_data] Downloading package stopwords to /root/nltk_data...\n",
            "[nltk_data]   Unzipping corpora/stopwords.zip.\n"
          ],
          "name": "stdout"
        }
      ]
    },
    {
      "cell_type": "code",
      "metadata": {
        "id": "Bx1UtdN-fpZA"
      },
      "source": [
        "# Creating the Bag of Words model\n",
        "from sklearn.feature_extraction.text import CountVectorizer\n",
        "  \n",
        "# To extract max 1500 feature.\n",
        "# \"max_features\" is attribute to\n",
        "# experiment with to get better results\n",
        "cv = CountVectorizer(max_features = 1500) \n",
        "  \n",
        "# X contains corpus (dependent variable)\n",
        "X = cv.fit_transform(corpus).toarray() \n",
        "  \n",
        "# y contains answers if review\n",
        "# is positive or negative\n",
        "y = dataset.iloc[:, 1].values"
      ],
      "execution_count": 3,
      "outputs": []
    },
    {
      "cell_type": "code",
      "metadata": {
        "id": "CYvPGeTaf0H-"
      },
      "source": [
        "# Splitting the dataset into\n",
        "# the Training set and Test set\n",
        "from sklearn.model_selection import train_test_split\n",
        "  \n",
        "# experiment with \"test_size\"\n",
        "# to get better results\n",
        "X_train, X_test, y_train, y_test = train_test_split(X, y, test_size = 0.25)"
      ],
      "execution_count": 5,
      "outputs": []
    },
    {
      "cell_type": "code",
      "metadata": {
        "colab": {
          "base_uri": "https://localhost:8080/"
        },
        "id": "RkFAIV3WgAci",
        "outputId": "61bf9233-5515-4703-af56-f4def49fe479"
      },
      "source": [
        "# Fitting Random Forest Classification\n",
        "# to the Training set\n",
        "from sklearn.ensemble import RandomForestClassifier\n",
        "  \n",
        "# n_estimators can be said as number of\n",
        "# trees, experiment with n_estimators\n",
        "# to get better results \n",
        "model = RandomForestClassifier(n_estimators = 501,\n",
        "                            criterion = 'entropy')\n",
        "                              \n",
        "model.fit(X_train, y_train) "
      ],
      "execution_count": 6,
      "outputs": [
        {
          "output_type": "execute_result",
          "data": {
            "text/plain": [
              "RandomForestClassifier(bootstrap=True, ccp_alpha=0.0, class_weight=None,\n",
              "                       criterion='entropy', max_depth=None, max_features='auto',\n",
              "                       max_leaf_nodes=None, max_samples=None,\n",
              "                       min_impurity_decrease=0.0, min_impurity_split=None,\n",
              "                       min_samples_leaf=1, min_samples_split=2,\n",
              "                       min_weight_fraction_leaf=0.0, n_estimators=501,\n",
              "                       n_jobs=None, oob_score=False, random_state=None,\n",
              "                       verbose=0, warm_start=False)"
            ]
          },
          "metadata": {
            "tags": []
          },
          "execution_count": 6
        }
      ]
    },
    {
      "cell_type": "code",
      "metadata": {
        "colab": {
          "base_uri": "https://localhost:8080/"
        },
        "id": "wNeeCh1qgGpS",
        "outputId": "1b5386fb-9f73-44ac-b471-c87ee251a351"
      },
      "source": [
        "# Predicting the Test set results\n",
        "y_pred = model.predict(X_test)\n",
        "  \n",
        "y_pred"
      ],
      "execution_count": 7,
      "outputs": [
        {
          "output_type": "execute_result",
          "data": {
            "text/plain": [
              "array([0, 1, 1, 0, 0, 0, 1, 0, 0, 0, 0, 0, 0, 0, 1, 1, 0, 1, 1, 0, 1, 0,\n",
              "       1, 0, 1, 0, 1, 0, 0, 0, 0, 0, 1, 0, 0, 0, 0, 1, 0, 1, 0, 0, 0, 1,\n",
              "       0, 0, 1, 1, 0, 0, 0, 0, 0, 0, 0, 1, 0, 1, 1, 0, 1, 0, 1, 1, 0, 0,\n",
              "       0, 0, 0, 0, 1, 0, 0, 0, 0, 0, 0, 0, 0, 1, 0, 1, 0, 0, 1, 0, 0, 0,\n",
              "       1, 1, 1, 0, 1, 0, 0, 0, 0, 1, 0, 1, 0, 0, 0, 1, 0, 0, 1, 0, 0, 0,\n",
              "       0, 0, 1, 0, 0, 0, 0, 1, 0, 1, 0, 1, 0, 0, 0, 0, 0, 1, 0, 0, 0, 0,\n",
              "       0, 1, 0, 1, 0, 0, 0, 0, 0, 0, 1, 1, 1, 1, 0, 0, 1, 0, 1, 1, 0, 0,\n",
              "       0, 0, 0, 0, 1, 1, 0, 1, 1, 0, 0, 0, 0, 0, 0, 1, 0, 1, 1, 1, 1, 0,\n",
              "       0, 0, 1, 0, 0, 0, 0, 0, 0, 0, 1, 0, 1, 0, 0, 1, 1, 0, 1, 0, 1, 1,\n",
              "       0, 1, 1, 1, 1, 0, 1, 0, 0, 0, 0, 0, 0, 1, 0, 1, 1, 0, 1, 0, 1, 0,\n",
              "       0, 0, 0, 1, 0, 1, 0, 1, 1, 1, 0, 0, 0, 1, 0, 0, 1, 0, 1, 0, 1, 0,\n",
              "       0, 0, 0, 0, 1, 0, 0, 0])"
            ]
          },
          "metadata": {
            "tags": []
          },
          "execution_count": 7
        }
      ]
    },
    {
      "cell_type": "code",
      "metadata": {
        "colab": {
          "base_uri": "https://localhost:8080/"
        },
        "id": "YAmgXDGigQWp",
        "outputId": "3fd3e4ba-bea4-440b-db6e-da4b61af26c8"
      },
      "source": [
        "# Making the Confusion Matrix\n",
        "from sklearn.metrics import confusion_matrix, classification_report\n",
        "  \n",
        "cm = confusion_matrix(y_test, y_pred)\n",
        "  \n",
        "print(\"Confusion Matrix:\\n\",cm)"
      ],
      "execution_count": 11,
      "outputs": [
        {
          "output_type": "stream",
          "text": [
            "Confusion Matrix:\n",
            " [[122  15]\n",
            " [ 42  71]]\n"
          ],
          "name": "stdout"
        }
      ]
    },
    {
      "cell_type": "code",
      "metadata": {
        "colab": {
          "base_uri": "https://localhost:8080/"
        },
        "id": "db3HsaDngW4U",
        "outputId": "48bd0307-da36-41e9-8a71-06de7d1711eb"
      },
      "source": [
        "report=classification_report(y_test, y_pred)\n",
        "print(\"Classification Report:\\n\",report)"
      ],
      "execution_count": 12,
      "outputs": [
        {
          "output_type": "stream",
          "text": [
            "Classification Report:\n",
            "               precision    recall  f1-score   support\n",
            "\n",
            "           0       0.74      0.89      0.81       137\n",
            "           1       0.83      0.63      0.71       113\n",
            "\n",
            "    accuracy                           0.77       250\n",
            "   macro avg       0.78      0.76      0.76       250\n",
            "weighted avg       0.78      0.77      0.77       250\n",
            "\n"
          ],
          "name": "stdout"
        }
      ]
    },
    {
      "cell_type": "code",
      "metadata": {
        "id": "TM6fpRoHhINi"
      },
      "source": [
        "from sklearn.linear_model import LogisticRegression\n",
        "# fit a model\n",
        "lr = LogisticRegression(penalty='l2',C=0.5)\n",
        "lr.fit(X_train, y_train)\n",
        "y_pred = lr.predict(X_test)"
      ],
      "execution_count": 41,
      "outputs": []
    },
    {
      "cell_type": "markdown",
      "metadata": {
        "id": "Lfhm3N8as7VP"
      },
      "source": [
        "Running the example prints the ROC AUC for the logistic regression model and the no skill classifier that only predicts 0 for all examples."
      ]
    },
    {
      "cell_type": "code",
      "metadata": {
        "colab": {
          "base_uri": "https://localhost:8080/"
        },
        "id": "pSnTEHWGq0Oj",
        "outputId": "b2f7b665-fdb0-4026-f66b-be4ff33932c5"
      },
      "source": [
        "from sklearn.metrics import roc_auc_score\n",
        "# predict probabilities\n",
        "lr_probs = lr.predict_proba(X_test)\n",
        "# keep probabilities for the positive outcome only\n",
        "lr_probs = lr_probs[:, 1]\n",
        "# calculate scores\n",
        "ns_auc = roc_auc_score(y_test, ns_probs)\n",
        "lr_auc = roc_auc_score(y_test, lr_probs)\n",
        "# summarize scores\n",
        "print('No Skill: ROC AUC=%.3f' % (ns_auc))\n",
        "print('Logistic: ROC AUC=%.3f' % (lr_auc))"
      ],
      "execution_count": 42,
      "outputs": [
        {
          "output_type": "stream",
          "text": [
            "No Skill: ROC AUC=0.500\n",
            "Logistic: ROC AUC=0.871\n"
          ],
          "name": "stdout"
        }
      ]
    },
    {
      "cell_type": "code",
      "metadata": {
        "colab": {
          "base_uri": "https://localhost:8080/",
          "height": 279
        },
        "id": "nrwwc60fr9HL",
        "outputId": "d6684b09-d583-4e4d-b409-883889b41d7c"
      },
      "source": [
        "# calculate roc curves\n",
        "ns_fpr, ns_tpr, _ = roc_curve(y_test, ns_probs)\n",
        "lr_fpr, lr_tpr, _ = roc_curve(y_test, lr_probs)\n",
        "# plot the roc curve for the model\n",
        "plt.plot(ns_fpr, ns_tpr, linestyle='--', label='No Skill')\n",
        "plt.plot(lr_fpr, lr_tpr, marker='.', label='Logistic')\n",
        "# axis labels\n",
        "plt.xlabel('False Positive Rate')\n",
        "plt.ylabel('True Positive Rate')\n",
        "# show the legend\n",
        "plt.legend()\n",
        "# show the plot\n",
        "plt.show()"
      ],
      "execution_count": 43,
      "outputs": [
        {
          "output_type": "display_data",
          "data": {
            "image/png": "[encoded data removed]",
            "text/plain": [
              "<Figure size 432x288 with 1 Axes>"
            ]
          },
          "metadata": {
            "tags": [],
            "needs_background": "light"
          }
        }
      ]
    }
  ]
}